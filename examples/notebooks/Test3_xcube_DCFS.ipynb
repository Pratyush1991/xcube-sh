{
 "cells": [
  {
   "cell_type": "markdown",
   "metadata": {},
   "source": [
    "# Euro Data Cube - Xcube Validation\n",
    "## Test 3 xcube Time-series\n",
    "This validation test demonstrates the following features: \n",
    "* Time-series capbilites:\n",
    "    * list time stamps for variable\n",
    "    * compute time-series for point\n",
    "    * compute time-series for geometry\n",
    "   "
   ]
  },
  {
   "cell_type": "markdown",
   "metadata": {},
   "source": [
    "## Requirements\n",
    "\n",
    "To run this notebook you need your [Sentinel Hub API authentication](https://docs.sentinel-hub.com/api/latest/#/API/authentication) information and a Python environment\n",
    "with `xcube` and the xcube plugin `xcube_sh` installed.\n",
    "\n",
    "Checkout [xcube sources](https://github.com/dcs4cop/xcube) and follow instructions in its [README.md](https://github.com/dcs4cop/xcube/blob/master/README.md).\n",
    "\n",
    "After activating the `xcube` Python environment, install additional packages required for Sentinel Hub API authentication:\n",
    "\n",
    "```bash\n",
    "$ conda activate xcube\n",
    "(xcube) $ conda install -c conda-forge oauthlib\n",
    "(xcube) $ pip install requests_oauthlib\n",
    "```\n",
    "\n",
    "Then checkout [xcube_sh sources](https://gitext.sinergise.com/dcfs/xcube-dcfs.git) and follow instructions in its [README.md](https://gitext.sinergise.com/dcfs/xcube-dcfs/blob/master/README.md).\n",
    "\n",
    "Your Sentinel Hub API credentials can be passed as keyword arguments to the `SentinelHub` constructor (see below) or passed as environment variables (preferred): \n",
    "\n",
    "```bash\n",
    "(xcube) $ export SH_CLIENT_ID=<your-id>\n",
    "(xcube) $ export SH_CLIENT_SECRET=<your-secret>\n",
    "```\n"
   ]
  },
  {
   "cell_type": "code",
   "execution_count": 2,
   "metadata": {},
   "outputs": [],
   "source": [
    "from xcube_sh.config import CubeConfig\n",
    "from xcube_sh.cube import open_cube\n",
    "from xcube_sh.sentinelhub import SentinelHub\n",
    "from xcube.core.geom import clip_dataset_by_geometry\n",
    "import matplotlib.pyplot as plt"
   ]
  },
  {
   "cell_type": "code",
   "execution_count": 3,
   "metadata": {},
   "outputs": [],
   "source": [
    "import gdal"
   ]
  },
  {
   "cell_type": "code",
   "execution_count": 4,
   "metadata": {},
   "outputs": [],
   "source": [
    "x1 = 10.07  # degree\n",
    "y1 = 54.20  # degree\n",
    "x2 = 10.2  # degree\n",
    "y2 = 54.30  # degree\n",
    "\n",
    "bbox = x1, y1, x2, y2"
   ]
  },
  {
   "cell_type": "code",
   "execution_count": 5,
   "metadata": {},
   "outputs": [],
   "source": [
    "spatial_res = 0.00018   # = 20.038 meters in degree"
   ]
  },
  {
   "cell_type": "code",
   "execution_count": null,
   "metadata": {},
   "outputs": [],
   "source": []
  },
  {
   "cell_type": "code",
   "execution_count": 6,
   "metadata": {},
   "outputs": [],
   "source": [
    "cube_config = CubeConfig(dataset_name='S2L2A',\n",
    "                         band_names=['B04'],\n",
    "                         chunk_size=[512, 512],\n",
    "                         geometry=bbox,\n",
    "                         spatial_res=spatial_res,\n",
    "                         time_range=['2018-01-01', '2019-12-31'],\n",
    "                         time_tolerance='1d')  "
   ]
  },
  {
   "cell_type": "code",
   "execution_count": 7,
   "metadata": {},
   "outputs": [
    {
     "ename": "TypeError",
     "evalue": "__init__() got an unexpected keyword argument 'request_warnings'",
     "output_type": "error",
     "traceback": [
      "\u001b[0;31m---------------------------------------------------------------------------\u001b[0m",
      "\u001b[0;31mTypeError\u001b[0m                                 Traceback (most recent call last)",
      "\u001b[0;32m<ipython-input-7-79b2503d39c0>\u001b[0m in \u001b[0;36m<module>\u001b[0;34m\u001b[0m\n\u001b[0;32m----> 1\u001b[0;31m \u001b[0mcube\u001b[0m \u001b[0;34m=\u001b[0m \u001b[0mopen_cube\u001b[0m\u001b[0;34m(\u001b[0m\u001b[0mcube_config\u001b[0m\u001b[0;34m,\u001b[0m\u001b[0mrequest_warnings\u001b[0m\u001b[0;34m=\u001b[0m\u001b[0;32mTrue\u001b[0m\u001b[0;34m)\u001b[0m\u001b[0;34m\u001b[0m\u001b[0;34m\u001b[0m\u001b[0m\n\u001b[0m",
      "\u001b[0;32m~/xcube-sh/xcube_sh/cube.py\u001b[0m in \u001b[0;36mopen_cube\u001b[0;34m(cube_config, observer, trace_store_calls, max_cache_size, **sh_kwargs)\u001b[0m\n\u001b[1;32m     47\u001b[0m     \u001b[0;34m:\u001b[0m\u001b[0;32mreturn\u001b[0m\u001b[0;34m:\u001b[0m \u001b[0mthe\u001b[0m \u001b[0mdata\u001b[0m \u001b[0mcube\u001b[0m \u001b[0mrepresented\u001b[0m \u001b[0mby\u001b[0m \u001b[0man\u001b[0m \u001b[0mxarray\u001b[0m \u001b[0mDataset\u001b[0m \u001b[0mobject\u001b[0m\u001b[0;34m.\u001b[0m\u001b[0;34m\u001b[0m\u001b[0;34m\u001b[0m\u001b[0m\n\u001b[1;32m     48\u001b[0m     \"\"\"\n\u001b[0;32m---> 49\u001b[0;31m     \u001b[0msentinel_hub\u001b[0m \u001b[0;34m=\u001b[0m \u001b[0mSentinelHub\u001b[0m\u001b[0;34m(\u001b[0m\u001b[0;34m**\u001b[0m\u001b[0msh_kwargs\u001b[0m\u001b[0;34m)\u001b[0m\u001b[0;34m\u001b[0m\u001b[0;34m\u001b[0m\u001b[0m\n\u001b[0m\u001b[1;32m     50\u001b[0m     \u001b[0mcube_store\u001b[0m \u001b[0;34m=\u001b[0m \u001b[0mSentinelHubStore\u001b[0m\u001b[0;34m(\u001b[0m\u001b[0msentinel_hub\u001b[0m\u001b[0;34m,\u001b[0m \u001b[0mcube_config\u001b[0m\u001b[0;34m,\u001b[0m \u001b[0mobserver\u001b[0m\u001b[0;34m=\u001b[0m\u001b[0mobserver\u001b[0m\u001b[0;34m,\u001b[0m \u001b[0mtrace_store_calls\u001b[0m\u001b[0;34m=\u001b[0m\u001b[0mtrace_store_calls\u001b[0m\u001b[0;34m)\u001b[0m\u001b[0;34m\u001b[0m\u001b[0;34m\u001b[0m\u001b[0m\n\u001b[1;32m     51\u001b[0m     \u001b[0;32mif\u001b[0m \u001b[0mmax_cache_size\u001b[0m\u001b[0;34m:\u001b[0m\u001b[0;34m\u001b[0m\u001b[0;34m\u001b[0m\u001b[0m\n",
      "\u001b[0;31mTypeError\u001b[0m: __init__() got an unexpected keyword argument 'request_warnings'"
     ]
    }
   ],
   "source": [
    "cube = open_cube(cube_config, request_warnings=True)"
   ]
  },
  {
   "cell_type": "markdown",
   "metadata": {},
   "source": [
    "## List time stamps vor observations"
   ]
  },
  {
   "cell_type": "code",
   "execution_count": 13,
   "metadata": {},
   "outputs": [
    {
     "data": {
      "text/plain": [
       "array(['2018-01-03T10:44:24.000000000', '2018-01-05T10:34:19.000000000',\n",
       "       '2018-01-08T10:44:15.000000000', '2018-01-10T10:34:07.000000000',\n",
       "       '2018-01-13T10:44:03.000000000', '2018-01-15T10:34:54.000000000',\n",
       "       '2018-01-18T10:45:24.000000000', '2018-01-20T10:33:35.000000000',\n",
       "       '2018-01-23T10:43:26.000000000', '2018-01-25T10:34:42.000000000',\n",
       "       '2018-01-28T10:43:05.000000000', '2018-01-30T10:35:17.000000000',\n",
       "       '2018-02-02T10:42:38.000000000', '2018-02-04T10:35:32.000000000',\n",
       "       '2018-02-07T10:42:12.000000000', '2018-02-09T10:31:52.000000000',\n",
       "       '2018-02-12T10:41:37.000000000', '2018-02-14T10:31:25.000000000',\n",
       "       '2018-02-17T10:41:52.000000000', '2018-02-19T10:30:46.000000000',\n",
       "       '2018-02-22T10:40:35.000000000', '2018-02-24T10:30:18.000000000',\n",
       "       '2018-02-27T10:42:36.000000000', '2018-03-01T10:30:13.000000000',\n",
       "       '2018-03-04T10:44:07.000000000', '2018-03-06T10:32:21.000000000',\n",
       "       '2018-03-09T10:40:22.000000000', '2018-03-16T10:30:18.000000000',\n",
       "       '2018-03-19T10:40:19.000000000', '2018-03-21T10:33:45.000000000',\n",
       "       '2018-03-24T10:40:16.000000000', '2018-03-26T10:30:20.000000000',\n",
       "       '2018-03-29T10:40:21.000000000', '2018-03-31T10:33:00.000000000',\n",
       "       '2018-04-03T10:41:05.000000000', '2018-04-08T10:43:00.000000000',\n",
       "       '2018-04-10T10:30:19.000000000', '2018-04-13T10:44:43.000000000',\n",
       "       '2018-04-15T10:33:03.000000000', '2018-04-18T10:45:12.000000000',\n",
       "       '2018-04-20T10:33:02.000000000', '2018-04-23T10:44:41.000000000',\n",
       "       '2018-04-25T10:30:24.000000000', '2018-04-28T10:40:24.000000000',\n",
       "       '2018-04-30T10:35:20.000000000', '2018-05-03T10:42:09.000000000',\n",
       "       '2018-05-05T10:31:25.000000000', '2018-05-08T10:40:25.000000000',\n",
       "       '2018-05-10T10:34:00.000000000', '2018-05-13T10:40:20.000000000',\n",
       "       '2018-05-15T10:30:24.000000000', '2018-05-18T10:40:24.000000000',\n",
       "       '2018-05-20T10:34:58.000000000', '2018-05-23T10:41:24.000000000',\n",
       "       '2018-05-25T10:30:24.000000000', '2018-05-28T10:40:23.000000000',\n",
       "       '2018-05-30T10:30:18.000000000', '2018-06-02T10:41:02.000000000',\n",
       "       '2018-06-04T10:30:22.000000000', '2018-06-07T10:40:22.000000000',\n",
       "       '2018-06-09T10:32:14.000000000', '2018-06-12T10:43:56.000000000',\n",
       "       '2018-06-14T10:30:21.000000000', '2018-06-17T10:43:21.000000000',\n",
       "       '2018-06-19T10:30:20.000000000', '2018-06-22T10:40:21.000000000',\n",
       "       '2018-06-24T10:35:03.000000000', '2018-06-27T10:40:23.000000000',\n",
       "       '2018-06-29T10:30:21.000000000', '2018-07-02T10:40:21.000000000',\n",
       "       '2018-07-04T10:30:23.000000000', '2018-07-07T10:45:15.000000000',\n",
       "       '2018-07-09T10:34:18.000000000', '2018-07-12T10:40:20.000000000',\n",
       "       '2018-07-14T10:30:23.000000000', '2018-07-17T10:42:58.000000000',\n",
       "       '2018-07-19T10:30:20.000000000', '2018-07-22T10:40:20.000000000',\n",
       "       '2018-07-24T10:30:23.000000000', '2018-07-27T10:40:23.000000000',\n",
       "       '2018-07-29T10:30:19.000000000', '2018-08-01T10:40:18.000000000',\n",
       "       '2018-08-03T10:32:39.000000000', '2018-08-06T10:43:40.000000000',\n",
       "       '2018-08-08T10:34:48.000000000', '2018-08-11T10:40:17.000000000',\n",
       "       '2018-08-13T10:30:21.000000000', '2018-08-16T10:44:19.000000000',\n",
       "       '2018-08-18T10:30:15.000000000', '2018-08-21T10:40:15.000000000',\n",
       "       '2018-08-23T10:35:35.000000000', '2018-08-26T10:41:55.000000000',\n",
       "       '2018-08-28T10:30:13.000000000', '2018-08-31T10:40:13.000000000',\n",
       "       '2018-09-02T10:30:20.000000000', '2018-09-05T10:45:27.000000000',\n",
       "       '2018-09-07T10:30:13.000000000', '2018-09-10T10:42:37.000000000',\n",
       "       '2018-09-12T10:33:08.000000000', '2018-09-17T10:31:54.000000000',\n",
       "       '2018-09-20T10:40:14.000000000', '2018-09-22T10:30:17.000000000',\n",
       "       '2018-09-25T10:41:19.000000000', '2018-09-27T10:30:16.000000000',\n",
       "       '2018-09-30T10:44:11.000000000', '2018-10-02T10:30:18.000000000',\n",
       "       '2018-10-07T10:31:44.000000000', '2018-10-10T10:40:18.000000000',\n",
       "       '2018-10-12T10:30:19.000000000', '2018-10-15T10:40:19.000000000',\n",
       "       '2018-10-17T10:32:02.000000000', '2018-10-20T10:40:44.000000000',\n",
       "       '2018-10-22T10:30:53.000000000', '2018-10-25T10:41:15.000000000',\n",
       "       '2018-10-27T10:31:23.000000000', '2018-10-30T10:44:31.000000000',\n",
       "       '2018-11-01T10:31:52.000000000', '2018-11-04T10:44:26.000000000',\n",
       "       '2018-11-06T10:35:44.000000000', '2018-11-09T10:45:43.000000000',\n",
       "       '2018-11-11T10:35:41.000000000', '2018-11-14T10:45:38.000000000',\n",
       "       '2018-11-16T10:35:44.000000000', '2018-11-19T10:45:40.000000000',\n",
       "       '2018-11-21T10:35:40.000000000', '2018-11-24T10:45:36.000000000',\n",
       "       '2018-11-26T10:35:43.000000000', '2018-11-29T10:45:39.000000000',\n",
       "       '2018-12-01T10:35:38.000000000', '2018-12-04T10:45:35.000000000',\n",
       "       '2018-12-06T10:35:41.000000000', '2018-12-09T10:45:37.000000000',\n",
       "       '2018-12-11T10:35:38.000000000', '2018-12-14T10:45:35.000000000',\n",
       "       '2018-12-16T10:35:41.000000000', '2018-12-19T10:45:38.000000000',\n",
       "       '2018-12-21T10:35:38.000000000', '2018-12-24T10:45:35.000000000',\n",
       "       '2018-12-26T10:35:43.000000000', '2018-12-29T10:45:40.000000000',\n",
       "       '2018-12-31T10:35:40.000000000', '2019-01-03T10:45:37.000000000',\n",
       "       '2019-01-05T10:35:45.000000000', '2019-01-08T10:45:42.000000000',\n",
       "       '2019-01-10T10:35:42.000000000', '2019-01-13T10:45:39.000000000',\n",
       "       '2019-01-15T10:35:46.000000000', '2019-01-18T10:45:43.000000000',\n",
       "       '2019-01-20T10:35:43.000000000', '2019-01-23T10:45:40.000000000',\n",
       "       '2019-01-25T10:35:47.000000000', '2019-01-28T10:45:43.000000000',\n",
       "       '2019-01-30T10:35:43.000000000', '2019-02-02T10:45:40.000000000',\n",
       "       '2019-02-04T10:35:47.000000000', '2019-02-07T10:45:43.000000000',\n",
       "       '2019-02-09T10:35:43.000000000', '2019-02-12T10:45:40.000000000',\n",
       "       '2019-02-14T10:35:46.000000000', '2019-02-17T10:45:43.000000000',\n",
       "       '2019-02-19T10:35:43.000000000', '2019-02-22T10:54:14.000000000',\n",
       "       '2019-02-24T10:52:10.000000000', '2019-02-27T10:48:37.000000000',\n",
       "       '2019-03-01T10:37:12.000000000', '2019-03-04T10:46:02.000000000',\n",
       "       '2019-03-06T10:48:22.000000000', '2019-03-09T10:45:44.000000000',\n",
       "       '2019-03-11T10:40:29.000000000', '2019-03-14T10:57:54.000000000',\n",
       "       '2019-03-16T10:37:24.000000000', '2019-03-19T10:56:08.000000000',\n",
       "       '2019-03-21T10:52:19.000000000', '2019-03-24T10:50:31.000000000',\n",
       "       '2019-03-26T10:52:15.000000000', '2019-03-29T10:51:25.000000000',\n",
       "       '2019-03-31T10:36:04.000000000', '2019-04-03T10:51:16.000000000',\n",
       "       '2019-04-05T10:42:24.000000000', '2019-04-08T10:55:37.000000000',\n",
       "       '2019-04-10T10:37:04.000000000', '2019-04-13T10:58:23.000000000',\n",
       "       '2019-04-15T10:42:40.000000000', '2019-04-18T10:54:31.000000000',\n",
       "       '2019-04-20T10:35:51.000000000', '2019-04-23T10:59:44.000000000',\n",
       "       '2019-04-25T10:52:22.000000000', '2019-04-28T10:45:50.000000000',\n",
       "       '2019-04-30T10:35:53.000000000', '2019-05-03T10:45:47.000000000',\n",
       "       '2019-05-05T10:35:55.000000000', '2019-05-08T10:45:51.000000000',\n",
       "       '2019-05-10T10:35:50.000000000', '2019-05-13T10:45:47.000000000',\n",
       "       '2019-05-15T10:35:55.000000000', '2019-05-18T10:45:52.000000000',\n",
       "       '2019-05-20T10:35:50.000000000', '2019-05-23T10:45:46.000000000',\n",
       "       '2019-05-25T10:35:55.000000000', '2019-05-28T10:45:52.000000000',\n",
       "       '2019-05-30T10:35:49.000000000', '2019-06-02T10:45:45.000000000',\n",
       "       '2019-06-04T10:35:55.000000000', '2019-06-07T10:45:51.000000000',\n",
       "       '2019-06-09T10:35:49.000000000', '2019-06-12T10:45:46.000000000',\n",
       "       '2019-06-14T10:35:54.000000000', '2019-06-17T10:45:51.000000000',\n",
       "       '2019-06-19T10:35:50.000000000', '2019-06-22T10:45:47.000000000',\n",
       "       '2019-06-24T10:35:55.000000000', '2019-06-27T10:45:52.000000000',\n",
       "       '2019-06-29T10:35:51.000000000', '2019-07-02T10:45:48.000000000',\n",
       "       '2019-07-04T10:35:55.000000000', '2019-07-07T10:45:52.000000000',\n",
       "       '2019-07-09T10:35:52.000000000', '2019-07-12T10:45:48.000000000',\n",
       "       '2019-07-14T10:35:55.000000000', '2019-07-17T10:45:52.000000000',\n",
       "       '2019-07-19T10:35:52.000000000', '2019-07-22T10:45:48.000000000',\n",
       "       '2019-07-24T10:35:55.000000000', '2019-07-27T10:45:51.000000000',\n",
       "       '2019-07-29T10:35:51.000000000', '2019-08-01T10:45:48.000000000',\n",
       "       '2019-08-03T10:35:54.000000000', '2019-08-06T10:45:51.000000000',\n",
       "       '2019-08-08T10:35:51.000000000', '2019-08-11T10:45:47.000000000',\n",
       "       '2019-08-13T10:35:53.000000000', '2019-08-16T10:45:49.000000000',\n",
       "       '2019-08-18T10:35:50.000000000', '2019-08-21T10:45:45.000000000',\n",
       "       '2019-08-23T10:35:52.000000000', '2019-08-26T10:45:48.000000000',\n",
       "       '2019-08-28T10:35:48.000000000', '2019-08-31T10:45:44.000000000',\n",
       "       '2019-09-02T10:35:52.000000000', '2019-09-05T10:45:46.000000000',\n",
       "       '2019-09-07T10:35:46.000000000', '2019-09-10T10:45:42.000000000',\n",
       "       '2019-09-12T10:35:47.000000000', '2019-09-15T10:45:43.000000000',\n",
       "       '2019-09-17T10:35:46.000000000', '2019-09-20T10:45:43.000000000',\n",
       "       '2019-09-22T10:35:46.000000000', '2019-09-25T10:45:43.000000000',\n",
       "       '2019-09-27T10:35:48.000000000', '2019-09-30T10:45:45.000000000',\n",
       "       '2019-10-02T10:35:47.000000000', '2019-10-05T10:45:44.000000000',\n",
       "       '2019-10-07T10:35:49.000000000', '2019-10-10T10:45:46.000000000',\n",
       "       '2019-10-12T10:35:48.000000000', '2019-10-15T10:45:44.000000000',\n",
       "       '2019-10-17T10:35:50.000000000', '2019-10-20T10:45:46.000000000',\n",
       "       '2019-10-22T10:35:48.000000000', '2019-10-25T10:45:44.000000000',\n",
       "       '2019-10-27T10:35:50.000000000', '2019-10-30T10:45:46.000000000',\n",
       "       '2019-11-01T10:35:47.000000000', '2019-11-04T10:45:43.000000000',\n",
       "       '2019-11-06T10:35:49.000000000', '2019-11-09T10:45:46.000000000'],\n",
       "      dtype='datetime64[ns]')"
      ]
     },
     "execution_count": 13,
     "metadata": {},
     "output_type": "execute_result"
    }
   ],
   "source": [
    "cube.time.data"
   ]
  },
  {
   "cell_type": "markdown",
   "metadata": {},
   "source": [
    "## Get time-series for point, nearest neigbhour and spatially interpolated"
   ]
  },
  {
   "cell_type": "code",
   "execution_count": 14,
   "metadata": {},
   "outputs": [
    {
     "ename": "KeyboardInterrupt",
     "evalue": "",
     "output_type": "error",
     "traceback": [
      "\u001b[0;31m---------------------------------------------------------------------------\u001b[0m",
      "\u001b[0;31mKeyboardInterrupt\u001b[0m                         Traceback (most recent call last)",
      "\u001b[0;32m<ipython-input-14-ddec25d74d12>\u001b[0m in \u001b[0;36m<module>\u001b[0;34m\u001b[0m\n\u001b[0;32m----> 1\u001b[0;31m \u001b[0mcube\u001b[0m\u001b[0;34m.\u001b[0m\u001b[0mB04\u001b[0m\u001b[0;34m.\u001b[0m\u001b[0msel\u001b[0m\u001b[0;34m(\u001b[0m\u001b[0mlon\u001b[0m\u001b[0;34m=\u001b[0m\u001b[0;36m10.071\u001b[0m\u001b[0;34m,\u001b[0m \u001b[0mlat\u001b[0m\u001b[0;34m=\u001b[0m\u001b[0;36m54.285\u001b[0m\u001b[0;34m,\u001b[0m \u001b[0mmethod\u001b[0m\u001b[0;34m=\u001b[0m\u001b[0;34m'nearest'\u001b[0m\u001b[0;34m)\u001b[0m\u001b[0;34m.\u001b[0m\u001b[0mplot\u001b[0m\u001b[0;34m.\u001b[0m\u001b[0mline\u001b[0m\u001b[0;34m(\u001b[0m\u001b[0mfigsize\u001b[0m\u001b[0;34m=\u001b[0m\u001b[0;34m[\u001b[0m\u001b[0;36m20\u001b[0m\u001b[0;34m,\u001b[0m\u001b[0;36m4\u001b[0m\u001b[0;34m]\u001b[0m\u001b[0;34m)\u001b[0m\u001b[0;34m\u001b[0m\u001b[0;34m\u001b[0m\u001b[0m\n\u001b[0m",
      "\u001b[0;32m~/miniconda3/envs/xcube/lib/python3.7/site-packages/xarray/plot/plot.py\u001b[0m in \u001b[0;36mline\u001b[0;34m(self, *args, **kwargs)\u001b[0m\n\u001b[1;32m    471\u001b[0m     \u001b[0;34m@\u001b[0m\u001b[0mfunctools\u001b[0m\u001b[0;34m.\u001b[0m\u001b[0mwraps\u001b[0m\u001b[0;34m(\u001b[0m\u001b[0mline\u001b[0m\u001b[0;34m)\u001b[0m\u001b[0;34m\u001b[0m\u001b[0;34m\u001b[0m\u001b[0m\n\u001b[1;32m    472\u001b[0m     \u001b[0;32mdef\u001b[0m \u001b[0mline\u001b[0m\u001b[0;34m(\u001b[0m\u001b[0mself\u001b[0m\u001b[0;34m,\u001b[0m \u001b[0;34m*\u001b[0m\u001b[0margs\u001b[0m\u001b[0;34m,\u001b[0m \u001b[0;34m**\u001b[0m\u001b[0mkwargs\u001b[0m\u001b[0;34m)\u001b[0m\u001b[0;34m:\u001b[0m\u001b[0;34m\u001b[0m\u001b[0;34m\u001b[0m\u001b[0m\n\u001b[0;32m--> 473\u001b[0;31m         \u001b[0;32mreturn\u001b[0m \u001b[0mline\u001b[0m\u001b[0;34m(\u001b[0m\u001b[0mself\u001b[0m\u001b[0;34m.\u001b[0m\u001b[0m_da\u001b[0m\u001b[0;34m,\u001b[0m \u001b[0;34m*\u001b[0m\u001b[0margs\u001b[0m\u001b[0;34m,\u001b[0m \u001b[0;34m**\u001b[0m\u001b[0mkwargs\u001b[0m\u001b[0;34m)\u001b[0m\u001b[0;34m\u001b[0m\u001b[0;34m\u001b[0m\u001b[0m\n\u001b[0m\u001b[1;32m    474\u001b[0m \u001b[0;34m\u001b[0m\u001b[0m\n\u001b[1;32m    475\u001b[0m     \u001b[0;34m@\u001b[0m\u001b[0mfunctools\u001b[0m\u001b[0;34m.\u001b[0m\u001b[0mwraps\u001b[0m\u001b[0;34m(\u001b[0m\u001b[0mstep\u001b[0m\u001b[0;34m)\u001b[0m\u001b[0;34m\u001b[0m\u001b[0;34m\u001b[0m\u001b[0m\n",
      "\u001b[0;32m~/miniconda3/envs/xcube/lib/python3.7/site-packages/xarray/plot/plot.py\u001b[0m in \u001b[0;36mline\u001b[0;34m(darray, row, col, figsize, aspect, size, ax, hue, x, y, xincrease, yincrease, xscale, yscale, xticks, yticks, xlim, ylim, add_legend, _labels, *args, **kwargs)\u001b[0m\n\u001b[1;32m    319\u001b[0m     \u001b[0;32melse\u001b[0m\u001b[0;34m:\u001b[0m\u001b[0;34m\u001b[0m\u001b[0;34m\u001b[0m\u001b[0m\n\u001b[1;32m    320\u001b[0m         \u001b[0mxplt_val\u001b[0m \u001b[0;34m=\u001b[0m \u001b[0mxplt\u001b[0m\u001b[0;34m.\u001b[0m\u001b[0mvalues\u001b[0m\u001b[0;34m\u001b[0m\u001b[0;34m\u001b[0m\u001b[0m\n\u001b[0;32m--> 321\u001b[0;31m         \u001b[0myplt_val\u001b[0m \u001b[0;34m=\u001b[0m \u001b[0myplt\u001b[0m\u001b[0;34m.\u001b[0m\u001b[0mvalues\u001b[0m\u001b[0;34m\u001b[0m\u001b[0;34m\u001b[0m\u001b[0m\n\u001b[0m\u001b[1;32m    322\u001b[0m \u001b[0;34m\u001b[0m\u001b[0m\n\u001b[1;32m    323\u001b[0m     \u001b[0m_ensure_plottable\u001b[0m\u001b[0;34m(\u001b[0m\u001b[0mxplt_val\u001b[0m\u001b[0;34m,\u001b[0m \u001b[0myplt_val\u001b[0m\u001b[0;34m)\u001b[0m\u001b[0;34m\u001b[0m\u001b[0;34m\u001b[0m\u001b[0m\n",
      "\u001b[0;32m~/miniconda3/envs/xcube/lib/python3.7/site-packages/xarray/core/dataarray.py\u001b[0m in \u001b[0;36mvalues\u001b[0;34m(self)\u001b[0m\n\u001b[1;32m    566\u001b[0m     \u001b[0;32mdef\u001b[0m \u001b[0mvalues\u001b[0m\u001b[0;34m(\u001b[0m\u001b[0mself\u001b[0m\u001b[0;34m)\u001b[0m \u001b[0;34m->\u001b[0m \u001b[0mnp\u001b[0m\u001b[0;34m.\u001b[0m\u001b[0mndarray\u001b[0m\u001b[0;34m:\u001b[0m\u001b[0;34m\u001b[0m\u001b[0;34m\u001b[0m\u001b[0m\n\u001b[1;32m    567\u001b[0m         \u001b[0;34m\"\"\"The array's data as a numpy.ndarray\"\"\"\u001b[0m\u001b[0;34m\u001b[0m\u001b[0;34m\u001b[0m\u001b[0m\n\u001b[0;32m--> 568\u001b[0;31m         \u001b[0;32mreturn\u001b[0m \u001b[0mself\u001b[0m\u001b[0;34m.\u001b[0m\u001b[0mvariable\u001b[0m\u001b[0;34m.\u001b[0m\u001b[0mvalues\u001b[0m\u001b[0;34m\u001b[0m\u001b[0;34m\u001b[0m\u001b[0m\n\u001b[0m\u001b[1;32m    569\u001b[0m \u001b[0;34m\u001b[0m\u001b[0m\n\u001b[1;32m    570\u001b[0m     \u001b[0;34m@\u001b[0m\u001b[0mvalues\u001b[0m\u001b[0;34m.\u001b[0m\u001b[0msetter\u001b[0m\u001b[0;34m\u001b[0m\u001b[0;34m\u001b[0m\u001b[0m\n",
      "\u001b[0;32m~/miniconda3/envs/xcube/lib/python3.7/site-packages/xarray/core/variable.py\u001b[0m in \u001b[0;36mvalues\u001b[0;34m(self)\u001b[0m\n\u001b[1;32m    435\u001b[0m     \u001b[0;32mdef\u001b[0m \u001b[0mvalues\u001b[0m\u001b[0;34m(\u001b[0m\u001b[0mself\u001b[0m\u001b[0;34m)\u001b[0m\u001b[0;34m:\u001b[0m\u001b[0;34m\u001b[0m\u001b[0;34m\u001b[0m\u001b[0m\n\u001b[1;32m    436\u001b[0m         \u001b[0;34m\"\"\"The variable's data as a numpy.ndarray\"\"\"\u001b[0m\u001b[0;34m\u001b[0m\u001b[0;34m\u001b[0m\u001b[0m\n\u001b[0;32m--> 437\u001b[0;31m         \u001b[0;32mreturn\u001b[0m \u001b[0m_as_array_or_item\u001b[0m\u001b[0;34m(\u001b[0m\u001b[0mself\u001b[0m\u001b[0;34m.\u001b[0m\u001b[0m_data\u001b[0m\u001b[0;34m)\u001b[0m\u001b[0;34m\u001b[0m\u001b[0;34m\u001b[0m\u001b[0m\n\u001b[0m\u001b[1;32m    438\u001b[0m \u001b[0;34m\u001b[0m\u001b[0m\n\u001b[1;32m    439\u001b[0m     \u001b[0;34m@\u001b[0m\u001b[0mvalues\u001b[0m\u001b[0;34m.\u001b[0m\u001b[0msetter\u001b[0m\u001b[0;34m\u001b[0m\u001b[0;34m\u001b[0m\u001b[0m\n",
      "\u001b[0;32m~/miniconda3/envs/xcube/lib/python3.7/site-packages/xarray/core/variable.py\u001b[0m in \u001b[0;36m_as_array_or_item\u001b[0;34m(data)\u001b[0m\n\u001b[1;32m    248\u001b[0m     \u001b[0mTODO\u001b[0m\u001b[0;34m:\u001b[0m \u001b[0mremove\u001b[0m \u001b[0mthis\u001b[0m \u001b[0;34m(\u001b[0m\u001b[0mreplace\u001b[0m \u001b[0;32mwith\u001b[0m \u001b[0mnp\u001b[0m\u001b[0;34m.\u001b[0m\u001b[0masarray\u001b[0m\u001b[0;34m)\u001b[0m \u001b[0monce\u001b[0m \u001b[0mthese\u001b[0m \u001b[0missues\u001b[0m \u001b[0mare\u001b[0m \u001b[0mfixed\u001b[0m\u001b[0;34m\u001b[0m\u001b[0;34m\u001b[0m\u001b[0m\n\u001b[1;32m    249\u001b[0m     \"\"\"\n\u001b[0;32m--> 250\u001b[0;31m     \u001b[0mdata\u001b[0m \u001b[0;34m=\u001b[0m \u001b[0mnp\u001b[0m\u001b[0;34m.\u001b[0m\u001b[0masarray\u001b[0m\u001b[0;34m(\u001b[0m\u001b[0mdata\u001b[0m\u001b[0;34m)\u001b[0m\u001b[0;34m\u001b[0m\u001b[0;34m\u001b[0m\u001b[0m\n\u001b[0m\u001b[1;32m    251\u001b[0m     \u001b[0;32mif\u001b[0m \u001b[0mdata\u001b[0m\u001b[0;34m.\u001b[0m\u001b[0mndim\u001b[0m \u001b[0;34m==\u001b[0m \u001b[0;36m0\u001b[0m\u001b[0;34m:\u001b[0m\u001b[0;34m\u001b[0m\u001b[0;34m\u001b[0m\u001b[0m\n\u001b[1;32m    252\u001b[0m         \u001b[0;32mif\u001b[0m \u001b[0mdata\u001b[0m\u001b[0;34m.\u001b[0m\u001b[0mdtype\u001b[0m\u001b[0;34m.\u001b[0m\u001b[0mkind\u001b[0m \u001b[0;34m==\u001b[0m \u001b[0;34m\"M\"\u001b[0m\u001b[0;34m:\u001b[0m\u001b[0;34m\u001b[0m\u001b[0;34m\u001b[0m\u001b[0m\n",
      "\u001b[0;32m~/miniconda3/envs/xcube/lib/python3.7/site-packages/numpy/core/_asarray.py\u001b[0m in \u001b[0;36masarray\u001b[0;34m(a, dtype, order)\u001b[0m\n\u001b[1;32m     83\u001b[0m \u001b[0;34m\u001b[0m\u001b[0m\n\u001b[1;32m     84\u001b[0m     \"\"\"\n\u001b[0;32m---> 85\u001b[0;31m     \u001b[0;32mreturn\u001b[0m \u001b[0marray\u001b[0m\u001b[0;34m(\u001b[0m\u001b[0ma\u001b[0m\u001b[0;34m,\u001b[0m \u001b[0mdtype\u001b[0m\u001b[0;34m,\u001b[0m \u001b[0mcopy\u001b[0m\u001b[0;34m=\u001b[0m\u001b[0;32mFalse\u001b[0m\u001b[0;34m,\u001b[0m \u001b[0morder\u001b[0m\u001b[0;34m=\u001b[0m\u001b[0morder\u001b[0m\u001b[0;34m)\u001b[0m\u001b[0;34m\u001b[0m\u001b[0;34m\u001b[0m\u001b[0m\n\u001b[0m\u001b[1;32m     86\u001b[0m \u001b[0;34m\u001b[0m\u001b[0m\n\u001b[1;32m     87\u001b[0m \u001b[0;34m\u001b[0m\u001b[0m\n",
      "\u001b[0;32m~/miniconda3/envs/xcube/lib/python3.7/site-packages/dask/array/core.py\u001b[0m in \u001b[0;36m__array__\u001b[0;34m(self, dtype, **kwargs)\u001b[0m\n\u001b[1;32m   1307\u001b[0m \u001b[0;34m\u001b[0m\u001b[0m\n\u001b[1;32m   1308\u001b[0m     \u001b[0;32mdef\u001b[0m \u001b[0m__array__\u001b[0m\u001b[0;34m(\u001b[0m\u001b[0mself\u001b[0m\u001b[0;34m,\u001b[0m \u001b[0mdtype\u001b[0m\u001b[0;34m=\u001b[0m\u001b[0;32mNone\u001b[0m\u001b[0;34m,\u001b[0m \u001b[0;34m**\u001b[0m\u001b[0mkwargs\u001b[0m\u001b[0;34m)\u001b[0m\u001b[0;34m:\u001b[0m\u001b[0;34m\u001b[0m\u001b[0;34m\u001b[0m\u001b[0m\n\u001b[0;32m-> 1309\u001b[0;31m         \u001b[0mx\u001b[0m \u001b[0;34m=\u001b[0m \u001b[0mself\u001b[0m\u001b[0;34m.\u001b[0m\u001b[0mcompute\u001b[0m\u001b[0;34m(\u001b[0m\u001b[0;34m)\u001b[0m\u001b[0;34m\u001b[0m\u001b[0;34m\u001b[0m\u001b[0m\n\u001b[0m\u001b[1;32m   1310\u001b[0m         \u001b[0;32mif\u001b[0m \u001b[0mdtype\u001b[0m \u001b[0;32mand\u001b[0m \u001b[0mx\u001b[0m\u001b[0;34m.\u001b[0m\u001b[0mdtype\u001b[0m \u001b[0;34m!=\u001b[0m \u001b[0mdtype\u001b[0m\u001b[0;34m:\u001b[0m\u001b[0;34m\u001b[0m\u001b[0;34m\u001b[0m\u001b[0m\n\u001b[1;32m   1311\u001b[0m             \u001b[0mx\u001b[0m \u001b[0;34m=\u001b[0m \u001b[0mx\u001b[0m\u001b[0;34m.\u001b[0m\u001b[0mastype\u001b[0m\u001b[0;34m(\u001b[0m\u001b[0mdtype\u001b[0m\u001b[0;34m)\u001b[0m\u001b[0;34m\u001b[0m\u001b[0;34m\u001b[0m\u001b[0m\n",
      "\u001b[0;32m~/miniconda3/envs/xcube/lib/python3.7/site-packages/dask/base.py\u001b[0m in \u001b[0;36mcompute\u001b[0;34m(self, **kwargs)\u001b[0m\n\u001b[1;32m    163\u001b[0m         \u001b[0mdask\u001b[0m\u001b[0;34m.\u001b[0m\u001b[0mbase\u001b[0m\u001b[0;34m.\u001b[0m\u001b[0mcompute\u001b[0m\u001b[0;34m\u001b[0m\u001b[0;34m\u001b[0m\u001b[0m\n\u001b[1;32m    164\u001b[0m         \"\"\"\n\u001b[0;32m--> 165\u001b[0;31m         \u001b[0;34m(\u001b[0m\u001b[0mresult\u001b[0m\u001b[0;34m,\u001b[0m\u001b[0;34m)\u001b[0m \u001b[0;34m=\u001b[0m \u001b[0mcompute\u001b[0m\u001b[0;34m(\u001b[0m\u001b[0mself\u001b[0m\u001b[0;34m,\u001b[0m \u001b[0mtraverse\u001b[0m\u001b[0;34m=\u001b[0m\u001b[0;32mFalse\u001b[0m\u001b[0;34m,\u001b[0m \u001b[0;34m**\u001b[0m\u001b[0mkwargs\u001b[0m\u001b[0;34m)\u001b[0m\u001b[0;34m\u001b[0m\u001b[0;34m\u001b[0m\u001b[0m\n\u001b[0m\u001b[1;32m    166\u001b[0m         \u001b[0;32mreturn\u001b[0m \u001b[0mresult\u001b[0m\u001b[0;34m\u001b[0m\u001b[0;34m\u001b[0m\u001b[0m\n\u001b[1;32m    167\u001b[0m \u001b[0;34m\u001b[0m\u001b[0m\n",
      "\u001b[0;32m~/miniconda3/envs/xcube/lib/python3.7/site-packages/dask/base.py\u001b[0m in \u001b[0;36mcompute\u001b[0;34m(*args, **kwargs)\u001b[0m\n\u001b[1;32m    434\u001b[0m     \u001b[0mkeys\u001b[0m \u001b[0;34m=\u001b[0m \u001b[0;34m[\u001b[0m\u001b[0mx\u001b[0m\u001b[0;34m.\u001b[0m\u001b[0m__dask_keys__\u001b[0m\u001b[0;34m(\u001b[0m\u001b[0;34m)\u001b[0m \u001b[0;32mfor\u001b[0m \u001b[0mx\u001b[0m \u001b[0;32min\u001b[0m \u001b[0mcollections\u001b[0m\u001b[0;34m]\u001b[0m\u001b[0;34m\u001b[0m\u001b[0;34m\u001b[0m\u001b[0m\n\u001b[1;32m    435\u001b[0m     \u001b[0mpostcomputes\u001b[0m \u001b[0;34m=\u001b[0m \u001b[0;34m[\u001b[0m\u001b[0mx\u001b[0m\u001b[0;34m.\u001b[0m\u001b[0m__dask_postcompute__\u001b[0m\u001b[0;34m(\u001b[0m\u001b[0;34m)\u001b[0m \u001b[0;32mfor\u001b[0m \u001b[0mx\u001b[0m \u001b[0;32min\u001b[0m \u001b[0mcollections\u001b[0m\u001b[0;34m]\u001b[0m\u001b[0;34m\u001b[0m\u001b[0;34m\u001b[0m\u001b[0m\n\u001b[0;32m--> 436\u001b[0;31m     \u001b[0mresults\u001b[0m \u001b[0;34m=\u001b[0m \u001b[0mschedule\u001b[0m\u001b[0;34m(\u001b[0m\u001b[0mdsk\u001b[0m\u001b[0;34m,\u001b[0m \u001b[0mkeys\u001b[0m\u001b[0;34m,\u001b[0m \u001b[0;34m**\u001b[0m\u001b[0mkwargs\u001b[0m\u001b[0;34m)\u001b[0m\u001b[0;34m\u001b[0m\u001b[0;34m\u001b[0m\u001b[0m\n\u001b[0m\u001b[1;32m    437\u001b[0m     \u001b[0;32mreturn\u001b[0m \u001b[0mrepack\u001b[0m\u001b[0;34m(\u001b[0m\u001b[0;34m[\u001b[0m\u001b[0mf\u001b[0m\u001b[0;34m(\u001b[0m\u001b[0mr\u001b[0m\u001b[0;34m,\u001b[0m \u001b[0;34m*\u001b[0m\u001b[0ma\u001b[0m\u001b[0;34m)\u001b[0m \u001b[0;32mfor\u001b[0m \u001b[0mr\u001b[0m\u001b[0;34m,\u001b[0m \u001b[0;34m(\u001b[0m\u001b[0mf\u001b[0m\u001b[0;34m,\u001b[0m \u001b[0ma\u001b[0m\u001b[0;34m)\u001b[0m \u001b[0;32min\u001b[0m \u001b[0mzip\u001b[0m\u001b[0;34m(\u001b[0m\u001b[0mresults\u001b[0m\u001b[0;34m,\u001b[0m \u001b[0mpostcomputes\u001b[0m\u001b[0;34m)\u001b[0m\u001b[0;34m]\u001b[0m\u001b[0;34m)\u001b[0m\u001b[0;34m\u001b[0m\u001b[0;34m\u001b[0m\u001b[0m\n\u001b[1;32m    438\u001b[0m \u001b[0;34m\u001b[0m\u001b[0m\n",
      "\u001b[0;32m~/miniconda3/envs/xcube/lib/python3.7/site-packages/dask/threaded.py\u001b[0m in \u001b[0;36mget\u001b[0;34m(dsk, result, cache, num_workers, pool, **kwargs)\u001b[0m\n\u001b[1;32m     78\u001b[0m         \u001b[0mget_id\u001b[0m\u001b[0;34m=\u001b[0m\u001b[0m_thread_get_id\u001b[0m\u001b[0;34m,\u001b[0m\u001b[0;34m\u001b[0m\u001b[0;34m\u001b[0m\u001b[0m\n\u001b[1;32m     79\u001b[0m         \u001b[0mpack_exception\u001b[0m\u001b[0;34m=\u001b[0m\u001b[0mpack_exception\u001b[0m\u001b[0;34m,\u001b[0m\u001b[0;34m\u001b[0m\u001b[0;34m\u001b[0m\u001b[0m\n\u001b[0;32m---> 80\u001b[0;31m         \u001b[0;34m**\u001b[0m\u001b[0mkwargs\u001b[0m\u001b[0;34m\u001b[0m\u001b[0;34m\u001b[0m\u001b[0m\n\u001b[0m\u001b[1;32m     81\u001b[0m     )\n\u001b[1;32m     82\u001b[0m \u001b[0;34m\u001b[0m\u001b[0m\n",
      "\u001b[0;32m~/miniconda3/envs/xcube/lib/python3.7/site-packages/dask/local.py\u001b[0m in \u001b[0;36mget_async\u001b[0;34m(apply_async, num_workers, dsk, result, cache, get_id, rerun_exceptions_locally, pack_exception, raise_exception, callbacks, dumps, loads, **kwargs)\u001b[0m\n\u001b[1;32m    473\u001b[0m             \u001b[0;31m# Main loop, wait on tasks to finish, insert new ones\u001b[0m\u001b[0;34m\u001b[0m\u001b[0;34m\u001b[0m\u001b[0;34m\u001b[0m\u001b[0m\n\u001b[1;32m    474\u001b[0m             \u001b[0;32mwhile\u001b[0m \u001b[0mstate\u001b[0m\u001b[0;34m[\u001b[0m\u001b[0;34m\"waiting\"\u001b[0m\u001b[0;34m]\u001b[0m \u001b[0;32mor\u001b[0m \u001b[0mstate\u001b[0m\u001b[0;34m[\u001b[0m\u001b[0;34m\"ready\"\u001b[0m\u001b[0;34m]\u001b[0m \u001b[0;32mor\u001b[0m \u001b[0mstate\u001b[0m\u001b[0;34m[\u001b[0m\u001b[0;34m\"running\"\u001b[0m\u001b[0;34m]\u001b[0m\u001b[0;34m:\u001b[0m\u001b[0;34m\u001b[0m\u001b[0;34m\u001b[0m\u001b[0m\n\u001b[0;32m--> 475\u001b[0;31m                 \u001b[0mkey\u001b[0m\u001b[0;34m,\u001b[0m \u001b[0mres_info\u001b[0m\u001b[0;34m,\u001b[0m \u001b[0mfailed\u001b[0m \u001b[0;34m=\u001b[0m \u001b[0mqueue_get\u001b[0m\u001b[0;34m(\u001b[0m\u001b[0mqueue\u001b[0m\u001b[0;34m)\u001b[0m\u001b[0;34m\u001b[0m\u001b[0;34m\u001b[0m\u001b[0m\n\u001b[0m\u001b[1;32m    476\u001b[0m                 \u001b[0;32mif\u001b[0m \u001b[0mfailed\u001b[0m\u001b[0;34m:\u001b[0m\u001b[0;34m\u001b[0m\u001b[0;34m\u001b[0m\u001b[0m\n\u001b[1;32m    477\u001b[0m                     \u001b[0mexc\u001b[0m\u001b[0;34m,\u001b[0m \u001b[0mtb\u001b[0m \u001b[0;34m=\u001b[0m \u001b[0mloads\u001b[0m\u001b[0;34m(\u001b[0m\u001b[0mres_info\u001b[0m\u001b[0;34m)\u001b[0m\u001b[0;34m\u001b[0m\u001b[0;34m\u001b[0m\u001b[0m\n",
      "\u001b[0;32m~/miniconda3/envs/xcube/lib/python3.7/site-packages/dask/local.py\u001b[0m in \u001b[0;36mqueue_get\u001b[0;34m(q)\u001b[0m\n\u001b[1;32m    131\u001b[0m \u001b[0;34m\u001b[0m\u001b[0m\n\u001b[1;32m    132\u001b[0m     \u001b[0;32mdef\u001b[0m \u001b[0mqueue_get\u001b[0m\u001b[0;34m(\u001b[0m\u001b[0mq\u001b[0m\u001b[0;34m)\u001b[0m\u001b[0;34m:\u001b[0m\u001b[0;34m\u001b[0m\u001b[0;34m\u001b[0m\u001b[0m\n\u001b[0;32m--> 133\u001b[0;31m         \u001b[0;32mreturn\u001b[0m \u001b[0mq\u001b[0m\u001b[0;34m.\u001b[0m\u001b[0mget\u001b[0m\u001b[0;34m(\u001b[0m\u001b[0;34m)\u001b[0m\u001b[0;34m\u001b[0m\u001b[0;34m\u001b[0m\u001b[0m\n\u001b[0m\u001b[1;32m    134\u001b[0m \u001b[0;34m\u001b[0m\u001b[0m\n\u001b[1;32m    135\u001b[0m \u001b[0;34m\u001b[0m\u001b[0m\n",
      "\u001b[0;32m~/miniconda3/envs/xcube/lib/python3.7/queue.py\u001b[0m in \u001b[0;36mget\u001b[0;34m(self, block, timeout)\u001b[0m\n\u001b[1;32m    168\u001b[0m             \u001b[0;32melif\u001b[0m \u001b[0mtimeout\u001b[0m \u001b[0;32mis\u001b[0m \u001b[0;32mNone\u001b[0m\u001b[0;34m:\u001b[0m\u001b[0;34m\u001b[0m\u001b[0;34m\u001b[0m\u001b[0m\n\u001b[1;32m    169\u001b[0m                 \u001b[0;32mwhile\u001b[0m \u001b[0;32mnot\u001b[0m \u001b[0mself\u001b[0m\u001b[0;34m.\u001b[0m\u001b[0m_qsize\u001b[0m\u001b[0;34m(\u001b[0m\u001b[0;34m)\u001b[0m\u001b[0;34m:\u001b[0m\u001b[0;34m\u001b[0m\u001b[0;34m\u001b[0m\u001b[0m\n\u001b[0;32m--> 170\u001b[0;31m                     \u001b[0mself\u001b[0m\u001b[0;34m.\u001b[0m\u001b[0mnot_empty\u001b[0m\u001b[0;34m.\u001b[0m\u001b[0mwait\u001b[0m\u001b[0;34m(\u001b[0m\u001b[0;34m)\u001b[0m\u001b[0;34m\u001b[0m\u001b[0;34m\u001b[0m\u001b[0m\n\u001b[0m\u001b[1;32m    171\u001b[0m             \u001b[0;32melif\u001b[0m \u001b[0mtimeout\u001b[0m \u001b[0;34m<\u001b[0m \u001b[0;36m0\u001b[0m\u001b[0;34m:\u001b[0m\u001b[0;34m\u001b[0m\u001b[0;34m\u001b[0m\u001b[0m\n\u001b[1;32m    172\u001b[0m                 \u001b[0;32mraise\u001b[0m \u001b[0mValueError\u001b[0m\u001b[0;34m(\u001b[0m\u001b[0;34m\"'timeout' must be a non-negative number\"\u001b[0m\u001b[0;34m)\u001b[0m\u001b[0;34m\u001b[0m\u001b[0;34m\u001b[0m\u001b[0m\n",
      "\u001b[0;32m~/miniconda3/envs/xcube/lib/python3.7/threading.py\u001b[0m in \u001b[0;36mwait\u001b[0;34m(self, timeout)\u001b[0m\n\u001b[1;32m    294\u001b[0m         \u001b[0;32mtry\u001b[0m\u001b[0;34m:\u001b[0m    \u001b[0;31m# restore state no matter what (e.g., KeyboardInterrupt)\u001b[0m\u001b[0;34m\u001b[0m\u001b[0;34m\u001b[0m\u001b[0m\n\u001b[1;32m    295\u001b[0m             \u001b[0;32mif\u001b[0m \u001b[0mtimeout\u001b[0m \u001b[0;32mis\u001b[0m \u001b[0;32mNone\u001b[0m\u001b[0;34m:\u001b[0m\u001b[0;34m\u001b[0m\u001b[0;34m\u001b[0m\u001b[0m\n\u001b[0;32m--> 296\u001b[0;31m                 \u001b[0mwaiter\u001b[0m\u001b[0;34m.\u001b[0m\u001b[0macquire\u001b[0m\u001b[0;34m(\u001b[0m\u001b[0;34m)\u001b[0m\u001b[0;34m\u001b[0m\u001b[0;34m\u001b[0m\u001b[0m\n\u001b[0m\u001b[1;32m    297\u001b[0m                 \u001b[0mgotit\u001b[0m \u001b[0;34m=\u001b[0m \u001b[0;32mTrue\u001b[0m\u001b[0;34m\u001b[0m\u001b[0;34m\u001b[0m\u001b[0m\n\u001b[1;32m    298\u001b[0m             \u001b[0;32melse\u001b[0m\u001b[0;34m:\u001b[0m\u001b[0;34m\u001b[0m\u001b[0;34m\u001b[0m\u001b[0m\n",
      "\u001b[0;31mKeyboardInterrupt\u001b[0m: "
     ]
    },
    {
     "data": {
      "image/png": "[encoded data removed]",
      "text/plain": [
       "<Figure size 1440x288 with 1 Axes>"
      ]
     },
     "metadata": {
      "needs_background": "light"
     },
     "output_type": "display_data"
    }
   ],
   "source": [
    "cube.B04.sel(lon=10.071, lat=54.285, method='nearest').plot.line(figsize=[20,4])"
   ]
  },
  {
   "cell_type": "code",
   "execution_count": null,
   "metadata": {},
   "outputs": [],
   "source": [
    "cube.B04.interp(lon=10.071,lat=54.285, method='linear').plot.line(ax=ax, linestyle='--')"
   ]
  },
  {
   "cell_type": "markdown",
   "metadata": {},
   "source": [
    "## Time-series for geometry"
   ]
  },
  {
   "cell_type": "code",
   "execution_count": null,
   "metadata": {},
   "outputs": [],
   "source": [
    "SH.band_names('S2L1C')"
   ]
  },
  {
   "cell_type": "code",
   "execution_count": null,
   "metadata": {},
   "outputs": [],
   "source": [
    "cube_config = CubeConfig(dataset_name='S2L1C',\n",
    "                         band_names=['B04'],\n",
    "                         chunk_size=[512, 512],\n",
    "                         geometry=bbox,\n",
    "                         spatial_res=spatial_res,\n",
    "                         time_range=['2018-05-14', '2018-07-31'],\n",
    "                         time_tolerance='30M')  "
   ]
  },
  {
   "cell_type": "code",
   "execution_count": null,
   "metadata": {},
   "outputs": [],
   "source": [
    "cube = open_cube(cube_config)\n",
    "cube"
   ]
  },
  {
   "cell_type": "code",
   "execution_count": null,
   "metadata": {},
   "outputs": [],
   "source": [
    "cube.B04.isel(time=5, lat=slice(0,2000),lon=slice(0,2000)).plot.imshow(cmap='Greys', vmax = .17)"
   ]
  },
  {
   "cell_type": "markdown",
   "metadata": {},
   "source": [
    "## Sentinel-1 GRD"
   ]
  },
  {
   "cell_type": "code",
   "execution_count": null,
   "metadata": {},
   "outputs": [],
   "source": [
    "SH.band_names('S1GRD')"
   ]
  },
  {
   "cell_type": "code",
   "execution_count": null,
   "metadata": {},
   "outputs": [],
   "source": [
    "x1 = 10.00  # degree\n",
    "y1 = 54.27  # degree\n",
    "x2 = 10.50  # degree\n",
    "y2 = 54.60  # degree\n",
    "\n",
    "bbox = x1, y1, x2, y2"
   ]
  },
  {
   "cell_type": "code",
   "execution_count": null,
   "metadata": {},
   "outputs": [],
   "source": [
    "spatial_res = 0.00018 "
   ]
  },
  {
   "cell_type": "code",
   "execution_count": null,
   "metadata": {},
   "outputs": [],
   "source": [
    "cube_config = CubeConfig(dataset_name='S1GRD',\n",
    "                         band_names=['VH'],\n",
    "                         chunk_size=[512, 512],\n",
    "                         crs = \"http://www.opengis.net/def/crs/EPSG/0/4326\",\n",
    "                         spatial_res = spatial_res,\n",
    "                         geometry=bbox,\n",
    "                         time_range=['2019-05-14', '2019-07-31'],\n",
    "                         time_period='2D')  "
   ]
  },
  {
   "cell_type": "code",
   "execution_count": null,
   "metadata": {},
   "outputs": [],
   "source": [
    "cube = open_cube(cube_config)\n",
    "cube"
   ]
  },
  {
   "cell_type": "code",
   "execution_count": null,
   "metadata": {},
   "outputs": [],
   "source": [
    "cube.VH.isel(time=1).plot.imshow(cmap='Greys',vmax =0.08, figsize = [16,12])"
   ]
  },
  {
   "cell_type": "code",
   "execution_count": null,
   "metadata": {},
   "outputs": [],
   "source": [
    "SH.dataset_names"
   ]
  },
  {
   "cell_type": "markdown",
   "metadata": {},
   "source": [
    "## Digital Elevation Model"
   ]
  },
  {
   "cell_type": "code",
   "execution_count": null,
   "metadata": {},
   "outputs": [],
   "source": [
    "SH.band_names('DEM')"
   ]
  },
  {
   "cell_type": "code",
   "execution_count": null,
   "metadata": {},
   "outputs": [],
   "source": [
    "x1 = 10.00  # degree\n",
    "y1 = 54.27  # degree\n",
    "x2 = 10.50  # degree\n",
    "y2 = 54.40  # degree\n",
    "\n",
    "bbox = x1, y1, x2, y2"
   ]
  },
  {
   "cell_type": "code",
   "execution_count": null,
   "metadata": {},
   "outputs": [],
   "source": [
    "spatial_res = 0.0002"
   ]
  },
  {
   "cell_type": "code",
   "execution_count": null,
   "metadata": {},
   "outputs": [],
   "source": [
    "cube_config = CubeConfig(dataset_name='DEM',\n",
    "                         band_names=['DEM'],\n",
    "                         chunk_size=[512, 512],\n",
    "                         crs = \"http://www.opengis.net/def/crs/EPSG/0/4326\",\n",
    "                         spatial_res = spatial_res,\n",
    "                         geometry=bbox,\n",
    "                         time_range=['2019-05-14', '2019-07-31'],\n",
    "                         time_period='100D')  "
   ]
  },
  {
   "cell_type": "code",
   "execution_count": null,
   "metadata": {},
   "outputs": [],
   "source": [
    "cube = open_cube(cube_config)\n",
    "cube"
   ]
  },
  {
   "cell_type": "code",
   "execution_count": null,
   "metadata": {},
   "outputs": [],
   "source": [
    "cube.DEM.isel(time=0).plot.imshow(vmin = -50, figsize = [14,10])"
   ]
  },
  {
   "cell_type": "code",
   "execution_count": null,
   "metadata": {},
   "outputs": [],
   "source": []
  }
 ],
 "metadata": {
  "kernelspec": {
   "display_name": "Python 3",
   "language": "python",
   "name": "python3"
  },
  "language_info": {
   "codemirror_mode": {
    "name": "ipython",
    "version": 3
   },
   "file_extension": ".py",
   "mimetype": "text/x-python",
   "name": "python",
   "nbconvert_exporter": "python",
   "pygments_lexer": "ipython3",
   "version": "3.7.3"
  }
 },
 "nbformat": 4,
 "nbformat_minor": 4
}
