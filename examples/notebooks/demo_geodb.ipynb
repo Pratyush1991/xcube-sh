{
 "cells": [
  {
   "cell_type": "code",
   "execution_count": 1,
   "metadata": {},
   "outputs": [],
   "source": [
    "#from xcube_sh.geodb import get_geo_db_service\n",
    "from distributed import Client"
   ]
  },
  {
   "cell_type": "code",
   "execution_count": 2,
   "metadata": {},
   "outputs": [
    {
     "ename": "OSError",
     "evalue": "Timed out trying to connect to 'tcp://ec2-52-58-160-50.eu-central-1.compute.amazonaws.com:8786' after 10 s: Timed out trying to connect to 'tcp://ec2-52-58-160-50.eu-central-1.compute.amazonaws.com:8786' after 10 s: connect() didn't finish in time",
     "output_type": "error",
     "traceback": [
      "\u001b[0;31m---------------------------------------------------------------------------\u001b[0m",
      "\u001b[0;31mOSError\u001b[0m                                   Traceback (most recent call last)",
      "\u001b[0;32m~/miniconda3/envs/xcube3/lib/python3.7/site-packages/distributed/comm/core.py\u001b[0m in \u001b[0;36mconnect\u001b[0;34m(addr, timeout, deserialize, connection_args)\u001b[0m\n\u001b[1;32m    220\u001b[0m             \u001b[0;32mif\u001b[0m \u001b[0;32mnot\u001b[0m \u001b[0mcomm\u001b[0m\u001b[0;34m:\u001b[0m\u001b[0;34m\u001b[0m\u001b[0;34m\u001b[0m\u001b[0m\n\u001b[0;32m--> 221\u001b[0;31m                 \u001b[0m_raise\u001b[0m\u001b[0;34m(\u001b[0m\u001b[0merror\u001b[0m\u001b[0;34m)\u001b[0m\u001b[0;34m\u001b[0m\u001b[0;34m\u001b[0m\u001b[0m\n\u001b[0m\u001b[1;32m    222\u001b[0m         \u001b[0;32mexcept\u001b[0m \u001b[0mFatalCommClosedError\u001b[0m\u001b[0;34m:\u001b[0m\u001b[0;34m\u001b[0m\u001b[0;34m\u001b[0m\u001b[0m\n",
      "\u001b[0;32m~/miniconda3/envs/xcube3/lib/python3.7/site-packages/distributed/comm/core.py\u001b[0m in \u001b[0;36m_raise\u001b[0;34m(error)\u001b[0m\n\u001b[1;32m    203\u001b[0m         )\n\u001b[0;32m--> 204\u001b[0;31m         \u001b[0;32mraise\u001b[0m \u001b[0mIOError\u001b[0m\u001b[0;34m(\u001b[0m\u001b[0mmsg\u001b[0m\u001b[0;34m)\u001b[0m\u001b[0;34m\u001b[0m\u001b[0;34m\u001b[0m\u001b[0m\n\u001b[0m\u001b[1;32m    205\u001b[0m \u001b[0;34m\u001b[0m\u001b[0m\n",
      "\u001b[0;31mOSError\u001b[0m: Timed out trying to connect to 'tcp://ec2-52-58-160-50.eu-central-1.compute.amazonaws.com:8786' after 10 s: connect() didn't finish in time",
      "\nDuring handling of the above exception, another exception occurred:\n",
      "\u001b[0;31mOSError\u001b[0m                                   Traceback (most recent call last)",
      "\u001b[0;32m<ipython-input-2-51a71dcb22ad>\u001b[0m in \u001b[0;36m<module>\u001b[0;34m\u001b[0m\n\u001b[0;32m----> 1\u001b[0;31m \u001b[0mclient\u001b[0m \u001b[0;34m=\u001b[0m \u001b[0mClient\u001b[0m\u001b[0;34m(\u001b[0m\u001b[0;34m'ec2-52-58-160-50.eu-central-1.compute.amazonaws.com:8786'\u001b[0m\u001b[0;34m)\u001b[0m\u001b[0;34m\u001b[0m\u001b[0;34m\u001b[0m\u001b[0m\n\u001b[0m",
      "\u001b[0;32m~/miniconda3/envs/xcube3/lib/python3.7/site-packages/distributed/client.py\u001b[0m in \u001b[0;36m__init__\u001b[0;34m(self, address, loop, timeout, set_as_default, scheduler_file, security, asynchronous, name, heartbeat_interval, serializers, deserializers, extensions, direct_to_workers, **kwargs)\u001b[0m\n\u001b[1;32m    728\u001b[0m             \u001b[0mext\u001b[0m\u001b[0;34m(\u001b[0m\u001b[0mself\u001b[0m\u001b[0;34m)\u001b[0m\u001b[0;34m\u001b[0m\u001b[0;34m\u001b[0m\u001b[0m\n\u001b[1;32m    729\u001b[0m \u001b[0;34m\u001b[0m\u001b[0m\n\u001b[0;32m--> 730\u001b[0;31m         \u001b[0mself\u001b[0m\u001b[0;34m.\u001b[0m\u001b[0mstart\u001b[0m\u001b[0;34m(\u001b[0m\u001b[0mtimeout\u001b[0m\u001b[0;34m=\u001b[0m\u001b[0mtimeout\u001b[0m\u001b[0;34m)\u001b[0m\u001b[0;34m\u001b[0m\u001b[0;34m\u001b[0m\u001b[0m\n\u001b[0m\u001b[1;32m    731\u001b[0m         \u001b[0mClient\u001b[0m\u001b[0;34m.\u001b[0m\u001b[0m_instances\u001b[0m\u001b[0;34m.\u001b[0m\u001b[0madd\u001b[0m\u001b[0;34m(\u001b[0m\u001b[0mself\u001b[0m\u001b[0;34m)\u001b[0m\u001b[0;34m\u001b[0m\u001b[0;34m\u001b[0m\u001b[0m\n\u001b[1;32m    732\u001b[0m \u001b[0;34m\u001b[0m\u001b[0m\n",
      "\u001b[0;32m~/miniconda3/envs/xcube3/lib/python3.7/site-packages/distributed/client.py\u001b[0m in \u001b[0;36mstart\u001b[0;34m(self, **kwargs)\u001b[0m\n\u001b[1;32m    893\u001b[0m             \u001b[0mself\u001b[0m\u001b[0;34m.\u001b[0m\u001b[0m_started\u001b[0m \u001b[0;34m=\u001b[0m \u001b[0masyncio\u001b[0m\u001b[0;34m.\u001b[0m\u001b[0mensure_future\u001b[0m\u001b[0;34m(\u001b[0m\u001b[0mself\u001b[0m\u001b[0;34m.\u001b[0m\u001b[0m_start\u001b[0m\u001b[0;34m(\u001b[0m\u001b[0;34m**\u001b[0m\u001b[0mkwargs\u001b[0m\u001b[0;34m)\u001b[0m\u001b[0;34m)\u001b[0m\u001b[0;34m\u001b[0m\u001b[0;34m\u001b[0m\u001b[0m\n\u001b[1;32m    894\u001b[0m         \u001b[0;32melse\u001b[0m\u001b[0;34m:\u001b[0m\u001b[0;34m\u001b[0m\u001b[0;34m\u001b[0m\u001b[0m\n\u001b[0;32m--> 895\u001b[0;31m             \u001b[0msync\u001b[0m\u001b[0;34m(\u001b[0m\u001b[0mself\u001b[0m\u001b[0;34m.\u001b[0m\u001b[0mloop\u001b[0m\u001b[0;34m,\u001b[0m \u001b[0mself\u001b[0m\u001b[0;34m.\u001b[0m\u001b[0m_start\u001b[0m\u001b[0;34m,\u001b[0m \u001b[0;34m**\u001b[0m\u001b[0mkwargs\u001b[0m\u001b[0;34m)\u001b[0m\u001b[0;34m\u001b[0m\u001b[0;34m\u001b[0m\u001b[0m\n\u001b[0m\u001b[1;32m    896\u001b[0m \u001b[0;34m\u001b[0m\u001b[0m\n\u001b[1;32m    897\u001b[0m     \u001b[0;32mdef\u001b[0m \u001b[0m__await__\u001b[0m\u001b[0;34m(\u001b[0m\u001b[0mself\u001b[0m\u001b[0;34m)\u001b[0m\u001b[0;34m:\u001b[0m\u001b[0;34m\u001b[0m\u001b[0;34m\u001b[0m\u001b[0m\n",
      "\u001b[0;32m~/miniconda3/envs/xcube3/lib/python3.7/site-packages/distributed/utils.py\u001b[0m in \u001b[0;36msync\u001b[0;34m(loop, func, callback_timeout, *args, **kwargs)\u001b[0m\n\u001b[1;32m    332\u001b[0m     \u001b[0;32mif\u001b[0m \u001b[0merror\u001b[0m\u001b[0;34m[\u001b[0m\u001b[0;36m0\u001b[0m\u001b[0;34m]\u001b[0m\u001b[0;34m:\u001b[0m\u001b[0;34m\u001b[0m\u001b[0;34m\u001b[0m\u001b[0m\n\u001b[1;32m    333\u001b[0m         \u001b[0mtyp\u001b[0m\u001b[0;34m,\u001b[0m \u001b[0mexc\u001b[0m\u001b[0;34m,\u001b[0m \u001b[0mtb\u001b[0m \u001b[0;34m=\u001b[0m \u001b[0merror\u001b[0m\u001b[0;34m[\u001b[0m\u001b[0;36m0\u001b[0m\u001b[0;34m]\u001b[0m\u001b[0;34m\u001b[0m\u001b[0;34m\u001b[0m\u001b[0m\n\u001b[0;32m--> 334\u001b[0;31m         \u001b[0;32mraise\u001b[0m \u001b[0mexc\u001b[0m\u001b[0;34m.\u001b[0m\u001b[0mwith_traceback\u001b[0m\u001b[0;34m(\u001b[0m\u001b[0mtb\u001b[0m\u001b[0;34m)\u001b[0m\u001b[0;34m\u001b[0m\u001b[0;34m\u001b[0m\u001b[0m\n\u001b[0m\u001b[1;32m    335\u001b[0m     \u001b[0;32melse\u001b[0m\u001b[0;34m:\u001b[0m\u001b[0;34m\u001b[0m\u001b[0;34m\u001b[0m\u001b[0m\n\u001b[1;32m    336\u001b[0m         \u001b[0;32mreturn\u001b[0m \u001b[0mresult\u001b[0m\u001b[0;34m[\u001b[0m\u001b[0;36m0\u001b[0m\u001b[0;34m]\u001b[0m\u001b[0;34m\u001b[0m\u001b[0;34m\u001b[0m\u001b[0m\n",
      "\u001b[0;32m~/miniconda3/envs/xcube3/lib/python3.7/site-packages/distributed/utils.py\u001b[0m in \u001b[0;36mf\u001b[0;34m()\u001b[0m\n\u001b[1;32m    316\u001b[0m             \u001b[0;32mif\u001b[0m \u001b[0mcallback_timeout\u001b[0m \u001b[0;32mis\u001b[0m \u001b[0;32mnot\u001b[0m \u001b[0;32mNone\u001b[0m\u001b[0;34m:\u001b[0m\u001b[0;34m\u001b[0m\u001b[0;34m\u001b[0m\u001b[0m\n\u001b[1;32m    317\u001b[0m                 \u001b[0mfuture\u001b[0m \u001b[0;34m=\u001b[0m \u001b[0mgen\u001b[0m\u001b[0;34m.\u001b[0m\u001b[0mwith_timeout\u001b[0m\u001b[0;34m(\u001b[0m\u001b[0mtimedelta\u001b[0m\u001b[0;34m(\u001b[0m\u001b[0mseconds\u001b[0m\u001b[0;34m=\u001b[0m\u001b[0mcallback_timeout\u001b[0m\u001b[0;34m)\u001b[0m\u001b[0;34m,\u001b[0m \u001b[0mfuture\u001b[0m\u001b[0;34m)\u001b[0m\u001b[0;34m\u001b[0m\u001b[0;34m\u001b[0m\u001b[0m\n\u001b[0;32m--> 318\u001b[0;31m             \u001b[0mresult\u001b[0m\u001b[0;34m[\u001b[0m\u001b[0;36m0\u001b[0m\u001b[0;34m]\u001b[0m \u001b[0;34m=\u001b[0m \u001b[0;32myield\u001b[0m \u001b[0mfuture\u001b[0m\u001b[0;34m\u001b[0m\u001b[0;34m\u001b[0m\u001b[0m\n\u001b[0m\u001b[1;32m    319\u001b[0m         \u001b[0;32mexcept\u001b[0m \u001b[0mException\u001b[0m \u001b[0;32mas\u001b[0m \u001b[0mexc\u001b[0m\u001b[0;34m:\u001b[0m\u001b[0;34m\u001b[0m\u001b[0;34m\u001b[0m\u001b[0m\n\u001b[1;32m    320\u001b[0m             \u001b[0merror\u001b[0m\u001b[0;34m[\u001b[0m\u001b[0;36m0\u001b[0m\u001b[0;34m]\u001b[0m \u001b[0;34m=\u001b[0m \u001b[0msys\u001b[0m\u001b[0;34m.\u001b[0m\u001b[0mexc_info\u001b[0m\u001b[0;34m(\u001b[0m\u001b[0;34m)\u001b[0m\u001b[0;34m\u001b[0m\u001b[0;34m\u001b[0m\u001b[0m\n",
      "\u001b[0;32m~/miniconda3/envs/xcube3/lib/python3.7/site-packages/tornado/gen.py\u001b[0m in \u001b[0;36mrun\u001b[0;34m(self)\u001b[0m\n\u001b[1;32m    733\u001b[0m \u001b[0;34m\u001b[0m\u001b[0m\n\u001b[1;32m    734\u001b[0m                     \u001b[0;32mtry\u001b[0m\u001b[0;34m:\u001b[0m\u001b[0;34m\u001b[0m\u001b[0;34m\u001b[0m\u001b[0m\n\u001b[0;32m--> 735\u001b[0;31m                         \u001b[0mvalue\u001b[0m \u001b[0;34m=\u001b[0m \u001b[0mfuture\u001b[0m\u001b[0;34m.\u001b[0m\u001b[0mresult\u001b[0m\u001b[0;34m(\u001b[0m\u001b[0;34m)\u001b[0m\u001b[0;34m\u001b[0m\u001b[0;34m\u001b[0m\u001b[0m\n\u001b[0m\u001b[1;32m    736\u001b[0m                     \u001b[0;32mexcept\u001b[0m \u001b[0mException\u001b[0m\u001b[0;34m:\u001b[0m\u001b[0;34m\u001b[0m\u001b[0;34m\u001b[0m\u001b[0m\n\u001b[1;32m    737\u001b[0m                         \u001b[0mexc_info\u001b[0m \u001b[0;34m=\u001b[0m \u001b[0msys\u001b[0m\u001b[0;34m.\u001b[0m\u001b[0mexc_info\u001b[0m\u001b[0;34m(\u001b[0m\u001b[0;34m)\u001b[0m\u001b[0;34m\u001b[0m\u001b[0;34m\u001b[0m\u001b[0m\n",
      "\u001b[0;32m~/miniconda3/envs/xcube3/lib/python3.7/site-packages/distributed/client.py\u001b[0m in \u001b[0;36m_start\u001b[0;34m(self, timeout, **kwargs)\u001b[0m\n\u001b[1;32m    986\u001b[0m \u001b[0;34m\u001b[0m\u001b[0m\n\u001b[1;32m    987\u001b[0m         \u001b[0;32mtry\u001b[0m\u001b[0;34m:\u001b[0m\u001b[0;34m\u001b[0m\u001b[0;34m\u001b[0m\u001b[0m\n\u001b[0;32m--> 988\u001b[0;31m             \u001b[0;32mawait\u001b[0m \u001b[0mself\u001b[0m\u001b[0;34m.\u001b[0m\u001b[0m_ensure_connected\u001b[0m\u001b[0;34m(\u001b[0m\u001b[0mtimeout\u001b[0m\u001b[0;34m=\u001b[0m\u001b[0mtimeout\u001b[0m\u001b[0;34m)\u001b[0m\u001b[0;34m\u001b[0m\u001b[0;34m\u001b[0m\u001b[0m\n\u001b[0m\u001b[1;32m    989\u001b[0m         \u001b[0;32mexcept\u001b[0m \u001b[0mOSError\u001b[0m\u001b[0;34m:\u001b[0m\u001b[0;34m\u001b[0m\u001b[0;34m\u001b[0m\u001b[0m\n\u001b[1;32m    990\u001b[0m             \u001b[0;32mawait\u001b[0m \u001b[0mself\u001b[0m\u001b[0;34m.\u001b[0m\u001b[0m_close\u001b[0m\u001b[0;34m(\u001b[0m\u001b[0;34m)\u001b[0m\u001b[0;34m\u001b[0m\u001b[0;34m\u001b[0m\u001b[0m\n",
      "\u001b[0;32m~/miniconda3/envs/xcube3/lib/python3.7/site-packages/distributed/client.py\u001b[0m in \u001b[0;36m_ensure_connected\u001b[0;34m(self, timeout)\u001b[0m\n\u001b[1;32m   1043\u001b[0m                 \u001b[0mself\u001b[0m\u001b[0;34m.\u001b[0m\u001b[0mscheduler\u001b[0m\u001b[0;34m.\u001b[0m\u001b[0maddress\u001b[0m\u001b[0;34m,\u001b[0m\u001b[0;34m\u001b[0m\u001b[0;34m\u001b[0m\u001b[0m\n\u001b[1;32m   1044\u001b[0m                 \u001b[0mtimeout\u001b[0m\u001b[0;34m=\u001b[0m\u001b[0mtimeout\u001b[0m\u001b[0;34m,\u001b[0m\u001b[0;34m\u001b[0m\u001b[0;34m\u001b[0m\u001b[0m\n\u001b[0;32m-> 1045\u001b[0;31m                 \u001b[0mconnection_args\u001b[0m\u001b[0;34m=\u001b[0m\u001b[0mself\u001b[0m\u001b[0;34m.\u001b[0m\u001b[0mconnection_args\u001b[0m\u001b[0;34m,\u001b[0m\u001b[0;34m\u001b[0m\u001b[0;34m\u001b[0m\u001b[0m\n\u001b[0m\u001b[1;32m   1046\u001b[0m             )\n\u001b[1;32m   1047\u001b[0m             \u001b[0mcomm\u001b[0m\u001b[0;34m.\u001b[0m\u001b[0mname\u001b[0m \u001b[0;34m=\u001b[0m \u001b[0;34m\"Client->Scheduler\"\u001b[0m\u001b[0;34m\u001b[0m\u001b[0;34m\u001b[0m\u001b[0m\n",
      "\u001b[0;32m~/miniconda3/envs/xcube3/lib/python3.7/site-packages/distributed/comm/core.py\u001b[0m in \u001b[0;36mconnect\u001b[0;34m(addr, timeout, deserialize, connection_args)\u001b[0m\n\u001b[1;32m    228\u001b[0m                 \u001b[0mlogger\u001b[0m\u001b[0;34m.\u001b[0m\u001b[0mdebug\u001b[0m\u001b[0;34m(\u001b[0m\u001b[0;34m\"sleeping on connect\"\u001b[0m\u001b[0;34m)\u001b[0m\u001b[0;34m\u001b[0m\u001b[0;34m\u001b[0m\u001b[0m\n\u001b[1;32m    229\u001b[0m             \u001b[0;32melse\u001b[0m\u001b[0;34m:\u001b[0m\u001b[0;34m\u001b[0m\u001b[0;34m\u001b[0m\u001b[0m\n\u001b[0;32m--> 230\u001b[0;31m                 \u001b[0m_raise\u001b[0m\u001b[0;34m(\u001b[0m\u001b[0merror\u001b[0m\u001b[0;34m)\u001b[0m\u001b[0;34m\u001b[0m\u001b[0;34m\u001b[0m\u001b[0m\n\u001b[0m\u001b[1;32m    231\u001b[0m         \u001b[0;32melse\u001b[0m\u001b[0;34m:\u001b[0m\u001b[0;34m\u001b[0m\u001b[0;34m\u001b[0m\u001b[0m\n\u001b[1;32m    232\u001b[0m             \u001b[0;32mbreak\u001b[0m\u001b[0;34m\u001b[0m\u001b[0;34m\u001b[0m\u001b[0m\n",
      "\u001b[0;32m~/miniconda3/envs/xcube3/lib/python3.7/site-packages/distributed/comm/core.py\u001b[0m in \u001b[0;36m_raise\u001b[0;34m(error)\u001b[0m\n\u001b[1;32m    202\u001b[0m             \u001b[0merror\u001b[0m\u001b[0;34m,\u001b[0m\u001b[0;34m\u001b[0m\u001b[0;34m\u001b[0m\u001b[0m\n\u001b[1;32m    203\u001b[0m         )\n\u001b[0;32m--> 204\u001b[0;31m         \u001b[0;32mraise\u001b[0m \u001b[0mIOError\u001b[0m\u001b[0;34m(\u001b[0m\u001b[0mmsg\u001b[0m\u001b[0;34m)\u001b[0m\u001b[0;34m\u001b[0m\u001b[0;34m\u001b[0m\u001b[0m\n\u001b[0m\u001b[1;32m    205\u001b[0m \u001b[0;34m\u001b[0m\u001b[0m\n\u001b[1;32m    206\u001b[0m     \u001b[0;31m# This starts a thread\u001b[0m\u001b[0;34m\u001b[0m\u001b[0;34m\u001b[0m\u001b[0;34m\u001b[0m\u001b[0m\n",
      "\u001b[0;31mOSError\u001b[0m: Timed out trying to connect to 'tcp://ec2-52-58-160-50.eu-central-1.compute.amazonaws.com:8786' after 10 s: Timed out trying to connect to 'tcp://ec2-52-58-160-50.eu-central-1.compute.amazonaws.com:8786' after 10 s: connect() didn't finish in time"
     ]
    }
   ],
   "source": [
    "client = Client('ec2-52-58-160-50.eu-central-1.compute.amazonaws.com:8786')"
   ]
  },
  {
   "cell_type": "code",
   "execution_count": 4,
   "metadata": {},
   "outputs": [],
   "source": [
    "from xcube_sh.cube import open_cube\n",
    "from xcube_sh.config import CubeConfig"
   ]
  },
  {
   "cell_type": "code",
   "execution_count": 33,
   "metadata": {},
   "outputs": [],
   "source": [
    "x1 = 10.00  # degree\n",
    "y1 = 54.27  # degree\n",
    "x2 = 11.00  # degree\n",
    "y2 = 54.60  # degree\n",
    "\n",
    "bbox = x1, y1, x2, y2"
   ]
  },
  {
   "cell_type": "code",
   "execution_count": 27,
   "metadata": {},
   "outputs": [],
   "source": [
    "spatial_res = 0.00018   # = 20.038 meters in degree"
   ]
  },
  {
   "cell_type": "code",
   "execution_count": 34,
   "metadata": {},
   "outputs": [],
   "source": [
    "cube_config = CubeConfig(dataset_name='S2L2A',\n",
    "                         band_names=['B04'],\n",
    "                         tile_size=[512, 512],\n",
    "                         geometry=bbox,\n",
    "                         spatial_res=spatial_res,\n",
    "                         time_range=['2018-05-21', '2018-05-22'],\n",
    "                         time_period='1D')  "
   ]
  },
  {
   "cell_type": "code",
   "execution_count": 35,
   "metadata": {},
   "outputs": [
    {
     "data": {
      "text/plain": [
       "<xarray.Dataset>\n",
       "Dimensions:    (bnds: 2, lat: 2048, lon: 5632, time: 2)\n",
       "Coordinates:\n",
       "  * lat        (lat) float64 54.64 54.64 54.64 54.64 ... 54.27 54.27 54.27 54.27\n",
       "  * lon        (lon) float64 10.0 10.0 10.0 10.0 ... 11.01 11.01 11.01 11.01\n",
       "  * time       (time) datetime64[ns] 2018-05-21T12:00:00 2018-05-22T12:00:00\n",
       "    time_bnds  (time, bnds) datetime64[ns] dask.array<chunksize=(2, 2), meta=np.ndarray>\n",
       "Dimensions without coordinates: bnds\n",
       "Data variables:\n",
       "    B04        (time, lat, lon) float32 dask.array<chunksize=(1, 512, 512), meta=np.ndarray>\n",
       "Attributes:\n",
       "    Conventions:               CF-1.7\n",
       "    title:                     S2L2A Data Cube Subset\n",
       "    history:                   [{'program': 'xcube_sh.store.SentinelHubStore'...\n",
       "    date_created:              2019-11-12T16:53:40.085635\n",
       "    processing_level:          L2A\n",
       "    time_coverage_start:       2018-05-21T00:00:00+00:00\n",
       "    time_coverage_end:         2018-05-23T00:00:00+00:00\n",
       "    time_coverage_duration:    P2DT0H0M0S\n",
       "    time_coverage_resolution:  P1DT0H0M0S\n",
       "    geospatial_lon_min:        10.0\n",
       "    geospatial_lat_min:        54.27\n",
       "    geospatial_lon_max:        11.01376\n",
       "    geospatial_lat_max:        54.63864"
      ]
     },
     "execution_count": 35,
     "metadata": {},
     "output_type": "execute_result"
    }
   ],
   "source": [
    "sh_credentials = dict(client_id='a20363fd-6733-4924-b77c-910862ef246a',\n",
    "                      client_secret='sjndIW0BPRhqQ3hcU8bE',\n",
    "                      instance_id='42590b08-eeb4-4c54-af0c-c87f83d15b78')\n",
    "\n",
    "cube = open_cube(cube_config, max_cache_size=0, **sh_credentials)\n",
    "cube"
   ]
  },
  {
   "cell_type": "code",
   "execution_count": 36,
   "metadata": {},
   "outputs": [
    {
     "ename": "Exception",
     "evalue": "Too Many Requests, status code 429:\nb'{\"error\":{\"status\":429,\"reason\":\"Too Many Requests\",\"message\":\"You have exceeded your rate limit\",\"code\":\"RATE_LIMIT_EXCEEDED\"}}'\n",
     "output_type": "error",
     "traceback": [
      "\u001b[0;31m---------------------------------------------------------------------------\u001b[0m",
      "\u001b[0;31mException\u001b[0m                                 Traceback (most recent call last)",
      "\u001b[0;32m<ipython-input-36-76d93d0e123a>\u001b[0m in \u001b[0;36m<module>\u001b[0;34m\u001b[0m\n\u001b[0;32m----> 1\u001b[0;31m \u001b[0mcube\u001b[0m\u001b[0;34m.\u001b[0m\u001b[0mB04\u001b[0m\u001b[0;34m.\u001b[0m\u001b[0msel\u001b[0m\u001b[0;34m(\u001b[0m\u001b[0mtime\u001b[0m\u001b[0;34m=\u001b[0m\u001b[0;34m'2018-05-21T12:00:00'\u001b[0m\u001b[0;34m)\u001b[0m\u001b[0;34m.\u001b[0m\u001b[0mplot\u001b[0m\u001b[0;34m.\u001b[0m\u001b[0mimshow\u001b[0m\u001b[0;34m(\u001b[0m\u001b[0mvmin\u001b[0m\u001b[0;34m=\u001b[0m\u001b[0;36m0\u001b[0m\u001b[0;34m,\u001b[0m \u001b[0mvmax\u001b[0m\u001b[0;34m=\u001b[0m\u001b[0;36m0.2\u001b[0m\u001b[0;34m,\u001b[0m \u001b[0mcmap\u001b[0m\u001b[0;34m=\u001b[0m\u001b[0;34m'Greys_r'\u001b[0m\u001b[0;34m,\u001b[0m \u001b[0mfigsize\u001b[0m\u001b[0;34m=\u001b[0m\u001b[0;34m(\u001b[0m\u001b[0;36m16\u001b[0m\u001b[0;34m,\u001b[0m \u001b[0;36m10\u001b[0m\u001b[0;34m)\u001b[0m\u001b[0;34m)\u001b[0m\u001b[0;34m\u001b[0m\u001b[0;34m\u001b[0m\u001b[0m\n\u001b[0m",
      "\u001b[0;32m~/miniconda3/envs/xcube3/lib/python3.7/site-packages/xarray/plot/plot.py\u001b[0m in \u001b[0;36mplotmethod\u001b[0;34m(_PlotMethods_obj, x, y, figsize, size, aspect, ax, row, col, col_wrap, xincrease, yincrease, add_colorbar, add_labels, vmin, vmax, cmap, colors, center, robust, extend, levels, infer_intervals, subplot_kws, cbar_ax, cbar_kwargs, xscale, yscale, xticks, yticks, xlim, ylim, norm, **kwargs)\u001b[0m\n\u001b[1;32m    822\u001b[0m         \u001b[0;32mfor\u001b[0m \u001b[0marg\u001b[0m \u001b[0;32min\u001b[0m \u001b[0;34m[\u001b[0m\u001b[0;34m\"_PlotMethods_obj\"\u001b[0m\u001b[0;34m,\u001b[0m \u001b[0;34m\"newplotfunc\"\u001b[0m\u001b[0;34m,\u001b[0m \u001b[0;34m\"kwargs\"\u001b[0m\u001b[0;34m]\u001b[0m\u001b[0;34m:\u001b[0m\u001b[0;34m\u001b[0m\u001b[0;34m\u001b[0m\u001b[0m\n\u001b[1;32m    823\u001b[0m             \u001b[0;32mdel\u001b[0m \u001b[0mallargs\u001b[0m\u001b[0;34m[\u001b[0m\u001b[0marg\u001b[0m\u001b[0;34m]\u001b[0m\u001b[0;34m\u001b[0m\u001b[0;34m\u001b[0m\u001b[0m\n\u001b[0;32m--> 824\u001b[0;31m         \u001b[0;32mreturn\u001b[0m \u001b[0mnewplotfunc\u001b[0m\u001b[0;34m(\u001b[0m\u001b[0;34m**\u001b[0m\u001b[0mallargs\u001b[0m\u001b[0;34m)\u001b[0m\u001b[0;34m\u001b[0m\u001b[0;34m\u001b[0m\u001b[0m\n\u001b[0m\u001b[1;32m    825\u001b[0m \u001b[0;34m\u001b[0m\u001b[0m\n\u001b[1;32m    826\u001b[0m     \u001b[0;31m# Add to class _PlotMethods\u001b[0m\u001b[0;34m\u001b[0m\u001b[0;34m\u001b[0m\u001b[0;34m\u001b[0m\u001b[0m\n",
      "\u001b[0;32m~/miniconda3/envs/xcube3/lib/python3.7/site-packages/xarray/plot/plot.py\u001b[0m in \u001b[0;36mnewplotfunc\u001b[0;34m(darray, x, y, figsize, size, aspect, ax, row, col, col_wrap, xincrease, yincrease, add_colorbar, add_labels, vmin, vmax, cmap, center, robust, extend, levels, infer_intervals, colors, subplot_kws, cbar_ax, cbar_kwargs, xscale, yscale, xticks, yticks, xlim, ylim, norm, **kwargs)\u001b[0m\n\u001b[1;32m    692\u001b[0m \u001b[0;34m\u001b[0m\u001b[0m\n\u001b[1;32m    693\u001b[0m         \u001b[0;31m# Pass the data as a masked ndarray too\u001b[0m\u001b[0;34m\u001b[0m\u001b[0;34m\u001b[0m\u001b[0;34m\u001b[0m\u001b[0m\n\u001b[0;32m--> 694\u001b[0;31m         \u001b[0mzval\u001b[0m \u001b[0;34m=\u001b[0m \u001b[0mdarray\u001b[0m\u001b[0;34m.\u001b[0m\u001b[0mto_masked_array\u001b[0m\u001b[0;34m(\u001b[0m\u001b[0mcopy\u001b[0m\u001b[0;34m=\u001b[0m\u001b[0;32mFalse\u001b[0m\u001b[0;34m)\u001b[0m\u001b[0;34m\u001b[0m\u001b[0;34m\u001b[0m\u001b[0m\n\u001b[0m\u001b[1;32m    695\u001b[0m \u001b[0;34m\u001b[0m\u001b[0m\n\u001b[1;32m    696\u001b[0m         \u001b[0;31m# Replace pd.Intervals if contained in xval or yval.\u001b[0m\u001b[0;34m\u001b[0m\u001b[0;34m\u001b[0m\u001b[0;34m\u001b[0m\u001b[0m\n",
      "\u001b[0;32m~/miniconda3/envs/xcube3/lib/python3.7/site-packages/xarray/core/dataarray.py\u001b[0m in \u001b[0;36mto_masked_array\u001b[0;34m(self, copy)\u001b[0m\n\u001b[1;32m   2233\u001b[0m             \u001b[0mMasked\u001b[0m \u001b[0mwhere\u001b[0m \u001b[0minvalid\u001b[0m \u001b[0mvalues\u001b[0m \u001b[0;34m(\u001b[0m\u001b[0mnan\u001b[0m \u001b[0;32mor\u001b[0m \u001b[0minf\u001b[0m\u001b[0;34m)\u001b[0m \u001b[0moccur\u001b[0m\u001b[0;34m.\u001b[0m\u001b[0;34m\u001b[0m\u001b[0;34m\u001b[0m\u001b[0m\n\u001b[1;32m   2234\u001b[0m         \"\"\"\n\u001b[0;32m-> 2235\u001b[0;31m         \u001b[0mvalues\u001b[0m \u001b[0;34m=\u001b[0m \u001b[0mself\u001b[0m\u001b[0;34m.\u001b[0m\u001b[0mvalues\u001b[0m  \u001b[0;31m# only compute lazy arrays once\u001b[0m\u001b[0;34m\u001b[0m\u001b[0;34m\u001b[0m\u001b[0m\n\u001b[0m\u001b[1;32m   2236\u001b[0m         \u001b[0misnull\u001b[0m \u001b[0;34m=\u001b[0m \u001b[0mpd\u001b[0m\u001b[0;34m.\u001b[0m\u001b[0misnull\u001b[0m\u001b[0;34m(\u001b[0m\u001b[0mvalues\u001b[0m\u001b[0;34m)\u001b[0m\u001b[0;34m\u001b[0m\u001b[0;34m\u001b[0m\u001b[0m\n\u001b[1;32m   2237\u001b[0m         \u001b[0;32mreturn\u001b[0m \u001b[0mnp\u001b[0m\u001b[0;34m.\u001b[0m\u001b[0mma\u001b[0m\u001b[0;34m.\u001b[0m\u001b[0mMaskedArray\u001b[0m\u001b[0;34m(\u001b[0m\u001b[0mdata\u001b[0m\u001b[0;34m=\u001b[0m\u001b[0mvalues\u001b[0m\u001b[0;34m,\u001b[0m \u001b[0mmask\u001b[0m\u001b[0;34m=\u001b[0m\u001b[0misnull\u001b[0m\u001b[0;34m,\u001b[0m \u001b[0mcopy\u001b[0m\u001b[0;34m=\u001b[0m\u001b[0mcopy\u001b[0m\u001b[0;34m)\u001b[0m\u001b[0;34m\u001b[0m\u001b[0;34m\u001b[0m\u001b[0m\n",
      "\u001b[0;32m~/miniconda3/envs/xcube3/lib/python3.7/site-packages/xarray/core/dataarray.py\u001b[0m in \u001b[0;36mvalues\u001b[0;34m(self)\u001b[0m\n\u001b[1;32m    566\u001b[0m     \u001b[0;32mdef\u001b[0m \u001b[0mvalues\u001b[0m\u001b[0;34m(\u001b[0m\u001b[0mself\u001b[0m\u001b[0;34m)\u001b[0m \u001b[0;34m->\u001b[0m \u001b[0mnp\u001b[0m\u001b[0;34m.\u001b[0m\u001b[0mndarray\u001b[0m\u001b[0;34m:\u001b[0m\u001b[0;34m\u001b[0m\u001b[0;34m\u001b[0m\u001b[0m\n\u001b[1;32m    567\u001b[0m         \u001b[0;34m\"\"\"The array's data as a numpy.ndarray\"\"\"\u001b[0m\u001b[0;34m\u001b[0m\u001b[0;34m\u001b[0m\u001b[0m\n\u001b[0;32m--> 568\u001b[0;31m         \u001b[0;32mreturn\u001b[0m \u001b[0mself\u001b[0m\u001b[0;34m.\u001b[0m\u001b[0mvariable\u001b[0m\u001b[0;34m.\u001b[0m\u001b[0mvalues\u001b[0m\u001b[0;34m\u001b[0m\u001b[0;34m\u001b[0m\u001b[0m\n\u001b[0m\u001b[1;32m    569\u001b[0m \u001b[0;34m\u001b[0m\u001b[0m\n\u001b[1;32m    570\u001b[0m     \u001b[0;34m@\u001b[0m\u001b[0mvalues\u001b[0m\u001b[0;34m.\u001b[0m\u001b[0msetter\u001b[0m\u001b[0;34m\u001b[0m\u001b[0;34m\u001b[0m\u001b[0m\n",
      "\u001b[0;32m~/miniconda3/envs/xcube3/lib/python3.7/site-packages/xarray/core/variable.py\u001b[0m in \u001b[0;36mvalues\u001b[0;34m(self)\u001b[0m\n\u001b[1;32m    435\u001b[0m     \u001b[0;32mdef\u001b[0m \u001b[0mvalues\u001b[0m\u001b[0;34m(\u001b[0m\u001b[0mself\u001b[0m\u001b[0;34m)\u001b[0m\u001b[0;34m:\u001b[0m\u001b[0;34m\u001b[0m\u001b[0;34m\u001b[0m\u001b[0m\n\u001b[1;32m    436\u001b[0m         \u001b[0;34m\"\"\"The variable's data as a numpy.ndarray\"\"\"\u001b[0m\u001b[0;34m\u001b[0m\u001b[0;34m\u001b[0m\u001b[0m\n\u001b[0;32m--> 437\u001b[0;31m         \u001b[0;32mreturn\u001b[0m \u001b[0m_as_array_or_item\u001b[0m\u001b[0;34m(\u001b[0m\u001b[0mself\u001b[0m\u001b[0;34m.\u001b[0m\u001b[0m_data\u001b[0m\u001b[0;34m)\u001b[0m\u001b[0;34m\u001b[0m\u001b[0;34m\u001b[0m\u001b[0m\n\u001b[0m\u001b[1;32m    438\u001b[0m \u001b[0;34m\u001b[0m\u001b[0m\n\u001b[1;32m    439\u001b[0m     \u001b[0;34m@\u001b[0m\u001b[0mvalues\u001b[0m\u001b[0;34m.\u001b[0m\u001b[0msetter\u001b[0m\u001b[0;34m\u001b[0m\u001b[0;34m\u001b[0m\u001b[0m\n",
      "\u001b[0;32m~/miniconda3/envs/xcube3/lib/python3.7/site-packages/xarray/core/variable.py\u001b[0m in \u001b[0;36m_as_array_or_item\u001b[0;34m(data)\u001b[0m\n\u001b[1;32m    248\u001b[0m     \u001b[0mTODO\u001b[0m\u001b[0;34m:\u001b[0m \u001b[0mremove\u001b[0m \u001b[0mthis\u001b[0m \u001b[0;34m(\u001b[0m\u001b[0mreplace\u001b[0m \u001b[0;32mwith\u001b[0m \u001b[0mnp\u001b[0m\u001b[0;34m.\u001b[0m\u001b[0masarray\u001b[0m\u001b[0;34m)\u001b[0m \u001b[0monce\u001b[0m \u001b[0mthese\u001b[0m \u001b[0missues\u001b[0m \u001b[0mare\u001b[0m \u001b[0mfixed\u001b[0m\u001b[0;34m\u001b[0m\u001b[0;34m\u001b[0m\u001b[0m\n\u001b[1;32m    249\u001b[0m     \"\"\"\n\u001b[0;32m--> 250\u001b[0;31m     \u001b[0mdata\u001b[0m \u001b[0;34m=\u001b[0m \u001b[0mnp\u001b[0m\u001b[0;34m.\u001b[0m\u001b[0masarray\u001b[0m\u001b[0;34m(\u001b[0m\u001b[0mdata\u001b[0m\u001b[0;34m)\u001b[0m\u001b[0;34m\u001b[0m\u001b[0;34m\u001b[0m\u001b[0m\n\u001b[0m\u001b[1;32m    251\u001b[0m     \u001b[0;32mif\u001b[0m \u001b[0mdata\u001b[0m\u001b[0;34m.\u001b[0m\u001b[0mndim\u001b[0m \u001b[0;34m==\u001b[0m \u001b[0;36m0\u001b[0m\u001b[0;34m:\u001b[0m\u001b[0;34m\u001b[0m\u001b[0;34m\u001b[0m\u001b[0m\n\u001b[1;32m    252\u001b[0m         \u001b[0;32mif\u001b[0m \u001b[0mdata\u001b[0m\u001b[0;34m.\u001b[0m\u001b[0mdtype\u001b[0m\u001b[0;34m.\u001b[0m\u001b[0mkind\u001b[0m \u001b[0;34m==\u001b[0m \u001b[0;34m\"M\"\u001b[0m\u001b[0;34m:\u001b[0m\u001b[0;34m\u001b[0m\u001b[0;34m\u001b[0m\u001b[0m\n",
      "\u001b[0;32m~/miniconda3/envs/xcube3/lib/python3.7/site-packages/numpy/core/_asarray.py\u001b[0m in \u001b[0;36masarray\u001b[0;34m(a, dtype, order)\u001b[0m\n\u001b[1;32m     83\u001b[0m \u001b[0;34m\u001b[0m\u001b[0m\n\u001b[1;32m     84\u001b[0m     \"\"\"\n\u001b[0;32m---> 85\u001b[0;31m     \u001b[0;32mreturn\u001b[0m \u001b[0marray\u001b[0m\u001b[0;34m(\u001b[0m\u001b[0ma\u001b[0m\u001b[0;34m,\u001b[0m \u001b[0mdtype\u001b[0m\u001b[0;34m,\u001b[0m \u001b[0mcopy\u001b[0m\u001b[0;34m=\u001b[0m\u001b[0;32mFalse\u001b[0m\u001b[0;34m,\u001b[0m \u001b[0morder\u001b[0m\u001b[0;34m=\u001b[0m\u001b[0morder\u001b[0m\u001b[0;34m)\u001b[0m\u001b[0;34m\u001b[0m\u001b[0;34m\u001b[0m\u001b[0m\n\u001b[0m\u001b[1;32m     86\u001b[0m \u001b[0;34m\u001b[0m\u001b[0m\n\u001b[1;32m     87\u001b[0m \u001b[0;34m\u001b[0m\u001b[0m\n",
      "\u001b[0;32m~/miniconda3/envs/xcube3/lib/python3.7/site-packages/dask/array/core.py\u001b[0m in \u001b[0;36m__array__\u001b[0;34m(self, dtype, **kwargs)\u001b[0m\n\u001b[1;32m   1313\u001b[0m \u001b[0;34m\u001b[0m\u001b[0m\n\u001b[1;32m   1314\u001b[0m     \u001b[0;32mdef\u001b[0m \u001b[0m__array__\u001b[0m\u001b[0;34m(\u001b[0m\u001b[0mself\u001b[0m\u001b[0;34m,\u001b[0m \u001b[0mdtype\u001b[0m\u001b[0;34m=\u001b[0m\u001b[0;32mNone\u001b[0m\u001b[0;34m,\u001b[0m \u001b[0;34m**\u001b[0m\u001b[0mkwargs\u001b[0m\u001b[0;34m)\u001b[0m\u001b[0;34m:\u001b[0m\u001b[0;34m\u001b[0m\u001b[0;34m\u001b[0m\u001b[0m\n\u001b[0;32m-> 1315\u001b[0;31m         \u001b[0mx\u001b[0m \u001b[0;34m=\u001b[0m \u001b[0mself\u001b[0m\u001b[0;34m.\u001b[0m\u001b[0mcompute\u001b[0m\u001b[0;34m(\u001b[0m\u001b[0;34m)\u001b[0m\u001b[0;34m\u001b[0m\u001b[0;34m\u001b[0m\u001b[0m\n\u001b[0m\u001b[1;32m   1316\u001b[0m         \u001b[0;32mif\u001b[0m \u001b[0mdtype\u001b[0m \u001b[0;32mand\u001b[0m \u001b[0mx\u001b[0m\u001b[0;34m.\u001b[0m\u001b[0mdtype\u001b[0m \u001b[0;34m!=\u001b[0m \u001b[0mdtype\u001b[0m\u001b[0;34m:\u001b[0m\u001b[0;34m\u001b[0m\u001b[0;34m\u001b[0m\u001b[0m\n\u001b[1;32m   1317\u001b[0m             \u001b[0mx\u001b[0m \u001b[0;34m=\u001b[0m \u001b[0mx\u001b[0m\u001b[0;34m.\u001b[0m\u001b[0mastype\u001b[0m\u001b[0;34m(\u001b[0m\u001b[0mdtype\u001b[0m\u001b[0;34m)\u001b[0m\u001b[0;34m\u001b[0m\u001b[0;34m\u001b[0m\u001b[0m\n",
      "\u001b[0;32m~/miniconda3/envs/xcube3/lib/python3.7/site-packages/dask/base.py\u001b[0m in \u001b[0;36mcompute\u001b[0;34m(self, **kwargs)\u001b[0m\n\u001b[1;32m    163\u001b[0m         \u001b[0mdask\u001b[0m\u001b[0;34m.\u001b[0m\u001b[0mbase\u001b[0m\u001b[0;34m.\u001b[0m\u001b[0mcompute\u001b[0m\u001b[0;34m\u001b[0m\u001b[0;34m\u001b[0m\u001b[0m\n\u001b[1;32m    164\u001b[0m         \"\"\"\n\u001b[0;32m--> 165\u001b[0;31m         \u001b[0;34m(\u001b[0m\u001b[0mresult\u001b[0m\u001b[0;34m,\u001b[0m\u001b[0;34m)\u001b[0m \u001b[0;34m=\u001b[0m \u001b[0mcompute\u001b[0m\u001b[0;34m(\u001b[0m\u001b[0mself\u001b[0m\u001b[0;34m,\u001b[0m \u001b[0mtraverse\u001b[0m\u001b[0;34m=\u001b[0m\u001b[0;32mFalse\u001b[0m\u001b[0;34m,\u001b[0m \u001b[0;34m**\u001b[0m\u001b[0mkwargs\u001b[0m\u001b[0;34m)\u001b[0m\u001b[0;34m\u001b[0m\u001b[0;34m\u001b[0m\u001b[0m\n\u001b[0m\u001b[1;32m    166\u001b[0m         \u001b[0;32mreturn\u001b[0m \u001b[0mresult\u001b[0m\u001b[0;34m\u001b[0m\u001b[0;34m\u001b[0m\u001b[0m\n\u001b[1;32m    167\u001b[0m \u001b[0;34m\u001b[0m\u001b[0m\n",
      "\u001b[0;32m~/miniconda3/envs/xcube3/lib/python3.7/site-packages/dask/base.py\u001b[0m in \u001b[0;36mcompute\u001b[0;34m(*args, **kwargs)\u001b[0m\n\u001b[1;32m    434\u001b[0m     \u001b[0mkeys\u001b[0m \u001b[0;34m=\u001b[0m \u001b[0;34m[\u001b[0m\u001b[0mx\u001b[0m\u001b[0;34m.\u001b[0m\u001b[0m__dask_keys__\u001b[0m\u001b[0;34m(\u001b[0m\u001b[0;34m)\u001b[0m \u001b[0;32mfor\u001b[0m \u001b[0mx\u001b[0m \u001b[0;32min\u001b[0m \u001b[0mcollections\u001b[0m\u001b[0;34m]\u001b[0m\u001b[0;34m\u001b[0m\u001b[0;34m\u001b[0m\u001b[0m\n\u001b[1;32m    435\u001b[0m     \u001b[0mpostcomputes\u001b[0m \u001b[0;34m=\u001b[0m \u001b[0;34m[\u001b[0m\u001b[0mx\u001b[0m\u001b[0;34m.\u001b[0m\u001b[0m__dask_postcompute__\u001b[0m\u001b[0;34m(\u001b[0m\u001b[0;34m)\u001b[0m \u001b[0;32mfor\u001b[0m \u001b[0mx\u001b[0m \u001b[0;32min\u001b[0m \u001b[0mcollections\u001b[0m\u001b[0;34m]\u001b[0m\u001b[0;34m\u001b[0m\u001b[0;34m\u001b[0m\u001b[0m\n\u001b[0;32m--> 436\u001b[0;31m     \u001b[0mresults\u001b[0m \u001b[0;34m=\u001b[0m \u001b[0mschedule\u001b[0m\u001b[0;34m(\u001b[0m\u001b[0mdsk\u001b[0m\u001b[0;34m,\u001b[0m \u001b[0mkeys\u001b[0m\u001b[0;34m,\u001b[0m \u001b[0;34m**\u001b[0m\u001b[0mkwargs\u001b[0m\u001b[0;34m)\u001b[0m\u001b[0;34m\u001b[0m\u001b[0;34m\u001b[0m\u001b[0m\n\u001b[0m\u001b[1;32m    437\u001b[0m     \u001b[0;32mreturn\u001b[0m \u001b[0mrepack\u001b[0m\u001b[0;34m(\u001b[0m\u001b[0;34m[\u001b[0m\u001b[0mf\u001b[0m\u001b[0;34m(\u001b[0m\u001b[0mr\u001b[0m\u001b[0;34m,\u001b[0m \u001b[0;34m*\u001b[0m\u001b[0ma\u001b[0m\u001b[0;34m)\u001b[0m \u001b[0;32mfor\u001b[0m \u001b[0mr\u001b[0m\u001b[0;34m,\u001b[0m \u001b[0;34m(\u001b[0m\u001b[0mf\u001b[0m\u001b[0;34m,\u001b[0m \u001b[0ma\u001b[0m\u001b[0;34m)\u001b[0m \u001b[0;32min\u001b[0m \u001b[0mzip\u001b[0m\u001b[0;34m(\u001b[0m\u001b[0mresults\u001b[0m\u001b[0;34m,\u001b[0m \u001b[0mpostcomputes\u001b[0m\u001b[0;34m)\u001b[0m\u001b[0;34m]\u001b[0m\u001b[0;34m)\u001b[0m\u001b[0;34m\u001b[0m\u001b[0;34m\u001b[0m\u001b[0m\n\u001b[1;32m    438\u001b[0m \u001b[0;34m\u001b[0m\u001b[0m\n",
      "\u001b[0;32m~/miniconda3/envs/xcube3/lib/python3.7/site-packages/distributed/client.py\u001b[0m in \u001b[0;36mget\u001b[0;34m(self, dsk, keys, restrictions, loose_restrictions, resources, sync, asynchronous, direct, retries, priority, fifo_timeout, actors, **kwargs)\u001b[0m\n\u001b[1;32m   2574\u001b[0m                     \u001b[0mshould_rejoin\u001b[0m \u001b[0;34m=\u001b[0m \u001b[0;32mFalse\u001b[0m\u001b[0;34m\u001b[0m\u001b[0;34m\u001b[0m\u001b[0m\n\u001b[1;32m   2575\u001b[0m             \u001b[0;32mtry\u001b[0m\u001b[0;34m:\u001b[0m\u001b[0;34m\u001b[0m\u001b[0;34m\u001b[0m\u001b[0m\n\u001b[0;32m-> 2576\u001b[0;31m                 \u001b[0mresults\u001b[0m \u001b[0;34m=\u001b[0m \u001b[0mself\u001b[0m\u001b[0;34m.\u001b[0m\u001b[0mgather\u001b[0m\u001b[0;34m(\u001b[0m\u001b[0mpacked\u001b[0m\u001b[0;34m,\u001b[0m \u001b[0masynchronous\u001b[0m\u001b[0;34m=\u001b[0m\u001b[0masynchronous\u001b[0m\u001b[0;34m,\u001b[0m \u001b[0mdirect\u001b[0m\u001b[0;34m=\u001b[0m\u001b[0mdirect\u001b[0m\u001b[0;34m)\u001b[0m\u001b[0;34m\u001b[0m\u001b[0;34m\u001b[0m\u001b[0m\n\u001b[0m\u001b[1;32m   2577\u001b[0m             \u001b[0;32mfinally\u001b[0m\u001b[0;34m:\u001b[0m\u001b[0;34m\u001b[0m\u001b[0;34m\u001b[0m\u001b[0m\n\u001b[1;32m   2578\u001b[0m                 \u001b[0;32mfor\u001b[0m \u001b[0mf\u001b[0m \u001b[0;32min\u001b[0m \u001b[0mfutures\u001b[0m\u001b[0;34m.\u001b[0m\u001b[0mvalues\u001b[0m\u001b[0;34m(\u001b[0m\u001b[0;34m)\u001b[0m\u001b[0;34m:\u001b[0m\u001b[0;34m\u001b[0m\u001b[0;34m\u001b[0m\u001b[0m\n",
      "\u001b[0;32m~/miniconda3/envs/xcube3/lib/python3.7/site-packages/distributed/client.py\u001b[0m in \u001b[0;36mgather\u001b[0;34m(self, futures, errors, direct, asynchronous)\u001b[0m\n\u001b[1;32m   1874\u001b[0m                 \u001b[0mdirect\u001b[0m\u001b[0;34m=\u001b[0m\u001b[0mdirect\u001b[0m\u001b[0;34m,\u001b[0m\u001b[0;34m\u001b[0m\u001b[0;34m\u001b[0m\u001b[0m\n\u001b[1;32m   1875\u001b[0m                 \u001b[0mlocal_worker\u001b[0m\u001b[0;34m=\u001b[0m\u001b[0mlocal_worker\u001b[0m\u001b[0;34m,\u001b[0m\u001b[0;34m\u001b[0m\u001b[0;34m\u001b[0m\u001b[0m\n\u001b[0;32m-> 1876\u001b[0;31m                 \u001b[0masynchronous\u001b[0m\u001b[0;34m=\u001b[0m\u001b[0masynchronous\u001b[0m\u001b[0;34m,\u001b[0m\u001b[0;34m\u001b[0m\u001b[0;34m\u001b[0m\u001b[0m\n\u001b[0m\u001b[1;32m   1877\u001b[0m             )\n\u001b[1;32m   1878\u001b[0m \u001b[0;34m\u001b[0m\u001b[0m\n",
      "\u001b[0;32m~/miniconda3/envs/xcube3/lib/python3.7/site-packages/distributed/client.py\u001b[0m in \u001b[0;36msync\u001b[0;34m(self, func, asynchronous, callback_timeout, *args, **kwargs)\u001b[0m\n\u001b[1;32m    769\u001b[0m         \u001b[0;32melse\u001b[0m\u001b[0;34m:\u001b[0m\u001b[0;34m\u001b[0m\u001b[0;34m\u001b[0m\u001b[0m\n\u001b[1;32m    770\u001b[0m             return sync(\n\u001b[0;32m--> 771\u001b[0;31m                 \u001b[0mself\u001b[0m\u001b[0;34m.\u001b[0m\u001b[0mloop\u001b[0m\u001b[0;34m,\u001b[0m \u001b[0mfunc\u001b[0m\u001b[0;34m,\u001b[0m \u001b[0;34m*\u001b[0m\u001b[0margs\u001b[0m\u001b[0;34m,\u001b[0m \u001b[0mcallback_timeout\u001b[0m\u001b[0;34m=\u001b[0m\u001b[0mcallback_timeout\u001b[0m\u001b[0;34m,\u001b[0m \u001b[0;34m**\u001b[0m\u001b[0mkwargs\u001b[0m\u001b[0;34m\u001b[0m\u001b[0;34m\u001b[0m\u001b[0m\n\u001b[0m\u001b[1;32m    772\u001b[0m             )\n\u001b[1;32m    773\u001b[0m \u001b[0;34m\u001b[0m\u001b[0m\n",
      "\u001b[0;32m~/miniconda3/envs/xcube3/lib/python3.7/site-packages/distributed/utils.py\u001b[0m in \u001b[0;36msync\u001b[0;34m(loop, func, callback_timeout, *args, **kwargs)\u001b[0m\n\u001b[1;32m    332\u001b[0m     \u001b[0;32mif\u001b[0m \u001b[0merror\u001b[0m\u001b[0;34m[\u001b[0m\u001b[0;36m0\u001b[0m\u001b[0;34m]\u001b[0m\u001b[0;34m:\u001b[0m\u001b[0;34m\u001b[0m\u001b[0;34m\u001b[0m\u001b[0m\n\u001b[1;32m    333\u001b[0m         \u001b[0mtyp\u001b[0m\u001b[0;34m,\u001b[0m \u001b[0mexc\u001b[0m\u001b[0;34m,\u001b[0m \u001b[0mtb\u001b[0m \u001b[0;34m=\u001b[0m \u001b[0merror\u001b[0m\u001b[0;34m[\u001b[0m\u001b[0;36m0\u001b[0m\u001b[0;34m]\u001b[0m\u001b[0;34m\u001b[0m\u001b[0;34m\u001b[0m\u001b[0m\n\u001b[0;32m--> 334\u001b[0;31m         \u001b[0;32mraise\u001b[0m \u001b[0mexc\u001b[0m\u001b[0;34m.\u001b[0m\u001b[0mwith_traceback\u001b[0m\u001b[0;34m(\u001b[0m\u001b[0mtb\u001b[0m\u001b[0;34m)\u001b[0m\u001b[0;34m\u001b[0m\u001b[0;34m\u001b[0m\u001b[0m\n\u001b[0m\u001b[1;32m    335\u001b[0m     \u001b[0;32melse\u001b[0m\u001b[0;34m:\u001b[0m\u001b[0;34m\u001b[0m\u001b[0;34m\u001b[0m\u001b[0m\n\u001b[1;32m    336\u001b[0m         \u001b[0;32mreturn\u001b[0m \u001b[0mresult\u001b[0m\u001b[0;34m[\u001b[0m\u001b[0;36m0\u001b[0m\u001b[0;34m]\u001b[0m\u001b[0;34m\u001b[0m\u001b[0;34m\u001b[0m\u001b[0m\n",
      "\u001b[0;32m~/miniconda3/envs/xcube3/lib/python3.7/site-packages/distributed/utils.py\u001b[0m in \u001b[0;36mf\u001b[0;34m()\u001b[0m\n\u001b[1;32m    316\u001b[0m             \u001b[0;32mif\u001b[0m \u001b[0mcallback_timeout\u001b[0m \u001b[0;32mis\u001b[0m \u001b[0;32mnot\u001b[0m \u001b[0;32mNone\u001b[0m\u001b[0;34m:\u001b[0m\u001b[0;34m\u001b[0m\u001b[0;34m\u001b[0m\u001b[0m\n\u001b[1;32m    317\u001b[0m                 \u001b[0mfuture\u001b[0m \u001b[0;34m=\u001b[0m \u001b[0mgen\u001b[0m\u001b[0;34m.\u001b[0m\u001b[0mwith_timeout\u001b[0m\u001b[0;34m(\u001b[0m\u001b[0mtimedelta\u001b[0m\u001b[0;34m(\u001b[0m\u001b[0mseconds\u001b[0m\u001b[0;34m=\u001b[0m\u001b[0mcallback_timeout\u001b[0m\u001b[0;34m)\u001b[0m\u001b[0;34m,\u001b[0m \u001b[0mfuture\u001b[0m\u001b[0;34m)\u001b[0m\u001b[0;34m\u001b[0m\u001b[0;34m\u001b[0m\u001b[0m\n\u001b[0;32m--> 318\u001b[0;31m             \u001b[0mresult\u001b[0m\u001b[0;34m[\u001b[0m\u001b[0;36m0\u001b[0m\u001b[0;34m]\u001b[0m \u001b[0;34m=\u001b[0m \u001b[0;32myield\u001b[0m \u001b[0mfuture\u001b[0m\u001b[0;34m\u001b[0m\u001b[0;34m\u001b[0m\u001b[0m\n\u001b[0m\u001b[1;32m    319\u001b[0m         \u001b[0;32mexcept\u001b[0m \u001b[0mException\u001b[0m \u001b[0;32mas\u001b[0m \u001b[0mexc\u001b[0m\u001b[0;34m:\u001b[0m\u001b[0;34m\u001b[0m\u001b[0;34m\u001b[0m\u001b[0m\n\u001b[1;32m    320\u001b[0m             \u001b[0merror\u001b[0m\u001b[0;34m[\u001b[0m\u001b[0;36m0\u001b[0m\u001b[0;34m]\u001b[0m \u001b[0;34m=\u001b[0m \u001b[0msys\u001b[0m\u001b[0;34m.\u001b[0m\u001b[0mexc_info\u001b[0m\u001b[0;34m(\u001b[0m\u001b[0;34m)\u001b[0m\u001b[0;34m\u001b[0m\u001b[0;34m\u001b[0m\u001b[0m\n",
      "\u001b[0;32m~/miniconda3/envs/xcube3/lib/python3.7/site-packages/tornado/gen.py\u001b[0m in \u001b[0;36mrun\u001b[0;34m(self)\u001b[0m\n\u001b[1;32m    733\u001b[0m \u001b[0;34m\u001b[0m\u001b[0m\n\u001b[1;32m    734\u001b[0m                     \u001b[0;32mtry\u001b[0m\u001b[0;34m:\u001b[0m\u001b[0;34m\u001b[0m\u001b[0;34m\u001b[0m\u001b[0m\n\u001b[0;32m--> 735\u001b[0;31m                         \u001b[0mvalue\u001b[0m \u001b[0;34m=\u001b[0m \u001b[0mfuture\u001b[0m\u001b[0;34m.\u001b[0m\u001b[0mresult\u001b[0m\u001b[0;34m(\u001b[0m\u001b[0;34m)\u001b[0m\u001b[0;34m\u001b[0m\u001b[0;34m\u001b[0m\u001b[0m\n\u001b[0m\u001b[1;32m    736\u001b[0m                     \u001b[0;32mexcept\u001b[0m \u001b[0mException\u001b[0m\u001b[0;34m:\u001b[0m\u001b[0;34m\u001b[0m\u001b[0;34m\u001b[0m\u001b[0m\n\u001b[1;32m    737\u001b[0m                         \u001b[0mexc_info\u001b[0m \u001b[0;34m=\u001b[0m \u001b[0msys\u001b[0m\u001b[0;34m.\u001b[0m\u001b[0mexc_info\u001b[0m\u001b[0;34m(\u001b[0m\u001b[0;34m)\u001b[0m\u001b[0;34m\u001b[0m\u001b[0;34m\u001b[0m\u001b[0m\n",
      "\u001b[0;32m~/miniconda3/envs/xcube3/lib/python3.7/site-packages/distributed/client.py\u001b[0m in \u001b[0;36m_gather\u001b[0;34m(self, futures, errors, direct, local_worker)\u001b[0m\n\u001b[1;32m   1730\u001b[0m                             \u001b[0mexc\u001b[0m \u001b[0;34m=\u001b[0m \u001b[0mCancelledError\u001b[0m\u001b[0;34m(\u001b[0m\u001b[0mkey\u001b[0m\u001b[0;34m)\u001b[0m\u001b[0;34m\u001b[0m\u001b[0;34m\u001b[0m\u001b[0m\n\u001b[1;32m   1731\u001b[0m                         \u001b[0;32melse\u001b[0m\u001b[0;34m:\u001b[0m\u001b[0;34m\u001b[0m\u001b[0;34m\u001b[0m\u001b[0m\n\u001b[0;32m-> 1732\u001b[0;31m                             \u001b[0;32mraise\u001b[0m \u001b[0mexception\u001b[0m\u001b[0;34m.\u001b[0m\u001b[0mwith_traceback\u001b[0m\u001b[0;34m(\u001b[0m\u001b[0mtraceback\u001b[0m\u001b[0;34m)\u001b[0m\u001b[0;34m\u001b[0m\u001b[0;34m\u001b[0m\u001b[0m\n\u001b[0m\u001b[1;32m   1733\u001b[0m                         \u001b[0;32mraise\u001b[0m \u001b[0mexc\u001b[0m\u001b[0;34m\u001b[0m\u001b[0;34m\u001b[0m\u001b[0m\n\u001b[1;32m   1734\u001b[0m                     \u001b[0;32mif\u001b[0m \u001b[0merrors\u001b[0m \u001b[0;34m==\u001b[0m \u001b[0;34m\"skip\"\u001b[0m\u001b[0;34m:\u001b[0m\u001b[0;34m\u001b[0m\u001b[0;34m\u001b[0m\u001b[0m\n",
      "\u001b[0;32m/opt/conda/lib/python3.7/site-packages/dask/array/core.py\u001b[0m in \u001b[0;36mgetter\u001b[0;34m()\u001b[0m\n",
      "\u001b[0;32m/opt/conda/lib/python3.7/site-packages/numpy/core/_asarray.py\u001b[0m in \u001b[0;36masarray\u001b[0;34m()\u001b[0m\n",
      "\u001b[0;32m/opt/conda/lib/python3.7/site-packages/xarray/core/indexing.py\u001b[0m in \u001b[0;36m__array__\u001b[0;34m()\u001b[0m\n",
      "\u001b[0;32m/opt/conda/lib/python3.7/site-packages/numpy/core/_asarray.py\u001b[0m in \u001b[0;36masarray\u001b[0;34m()\u001b[0m\n",
      "\u001b[0;32m/opt/conda/lib/python3.7/site-packages/xarray/core/indexing.py\u001b[0m in \u001b[0;36m__array__\u001b[0;34m()\u001b[0m\n",
      "\u001b[0;32m/opt/conda/lib/python3.7/site-packages/numpy/core/_asarray.py\u001b[0m in \u001b[0;36masarray\u001b[0;34m()\u001b[0m\n",
      "\u001b[0;32m/opt/conda/lib/python3.7/site-packages/xarray/coding/variables.py\u001b[0m in \u001b[0;36m__array__\u001b[0;34m()\u001b[0m\n",
      "\u001b[0;32m/opt/conda/lib/python3.7/site-packages/xarray/coding/variables.py\u001b[0m in \u001b[0;36m_apply_mask\u001b[0;34m()\u001b[0m\n",
      "\u001b[0;32m/opt/conda/lib/python3.7/site-packages/numpy/core/_asarray.py\u001b[0m in \u001b[0;36masarray\u001b[0;34m()\u001b[0m\n",
      "\u001b[0;32m/opt/conda/lib/python3.7/site-packages/xarray/core/indexing.py\u001b[0m in \u001b[0;36m__array__\u001b[0;34m()\u001b[0m\n",
      "\u001b[0;32m/opt/conda/lib/python3.7/site-packages/xarray/backends/zarr.py\u001b[0m in \u001b[0;36m__getitem__\u001b[0;34m()\u001b[0m\n",
      "\u001b[0;32m/opt/conda/lib/python3.7/site-packages/zarr/core.py\u001b[0m in \u001b[0;36m__getitem__\u001b[0;34m()\u001b[0m\n",
      "\u001b[0;32m/opt/conda/lib/python3.7/site-packages/zarr/core.py\u001b[0m in \u001b[0;36mget_basic_selection\u001b[0;34m()\u001b[0m\n",
      "\u001b[0;32m/opt/conda/lib/python3.7/site-packages/zarr/core.py\u001b[0m in \u001b[0;36m_get_basic_selection_nd\u001b[0;34m()\u001b[0m\n",
      "\u001b[0;32m/opt/conda/lib/python3.7/site-packages/zarr/core.py\u001b[0m in \u001b[0;36m_get_selection\u001b[0;34m()\u001b[0m\n",
      "\u001b[0;32m/opt/conda/lib/python3.7/site-packages/zarr/core.py\u001b[0m in \u001b[0;36m_chunk_getitem\u001b[0;34m()\u001b[0m\n",
      "\u001b[0;32m/opt/conda/lib/python3.7/site-packages/xcube_sh-0.3.0.dev0-py3.7.egg/xcube_sh/store.py\u001b[0m in \u001b[0;36m__getitem__\u001b[0;34m()\u001b[0m\n",
      "\u001b[0;32m/opt/conda/lib/python3.7/site-packages/xcube_sh-0.3.0.dev0-py3.7.egg/xcube_sh/store.py\u001b[0m in \u001b[0;36m_fetch_chunk\u001b[0;34m()\u001b[0m\n",
      "\u001b[0;32m/opt/conda/lib/python3.7/site-packages/xcube_sh-0.3.0.dev0-py3.7.egg/xcube_sh/store.py\u001b[0m in \u001b[0;36m_fetch_chunk\u001b[0;34m()\u001b[0m\n",
      "\u001b[0;32m/opt/conda/lib/python3.7/site-packages/xcube_sh-0.3.0.dev0-py3.7.egg/xcube_sh/store.py\u001b[0m in \u001b[0;36mfetch_chunk\u001b[0;34m()\u001b[0m\n",
      "\u001b[0;32m/opt/conda/lib/python3.7/site-packages/xcube_sh-0.3.0.dev0-py3.7.egg/xcube_sh/sentinelhub.py\u001b[0m in \u001b[0;36mget_data\u001b[0;34m()\u001b[0m\n",
      "\u001b[0;31mException\u001b[0m: Too Many Requests, status code 429:\nb'{\"error\":{\"status\":429,\"reason\":\"Too Many Requests\",\"message\":\"You have exceeded your rate limit\",\"code\":\"RATE_LIMIT_EXCEEDED\"}}'\n"
     ]
    }
   ],
   "source": [
    "cube.B04.sel(time='2018-05-21T12:00:00').plot.imshow(vmin=0, vmax=0.2, cmap='Greys_r', figsize=(16, 10))"
   ]
  },
  {
   "cell_type": "markdown",
   "metadata": {},
   "source": [
    "## Load PSQL geodb service"
   ]
  },
  {
   "cell_type": "code",
   "execution_count": 1,
   "metadata": {},
   "outputs": [],
   "source": [
    "from xcube_sh.geodb import get_geo_db_service"
   ]
  },
  {
   "cell_type": "code",
   "execution_count": 2,
   "metadata": {},
   "outputs": [],
   "source": [
    "geo = get_geo_db_service(driver='pgsql', host=\"db-dcfs-geodb.cbfjgqxk302m.eu-central-1.rds.amazonaws.com\",\n",
    "            user=\"postgres\",\n",
    "            password=\"Oeckel6b&z\")"
   ]
  },
  {
   "cell_type": "markdown",
   "metadata": {},
   "source": [
    "## Find features\n",
    "\n",
    "Find all features"
   ]
  },
  {
   "cell_type": "code",
   "execution_count": 3,
   "metadata": {},
   "outputs": [
    {
     "name": "stdout",
     "output_type": "stream",
     "text": [
      "['geodb_master', 'geodb_test', 'geodb_test3', 'geodb_germany_sh_lakes', 'land_use', 'geodb_germany_sh_lakes_long']\n"
     ]
    }
   ],
   "source": [
    "fs = geo.find_features(collection_name='germany_sh_lakes', query=\"'S_NAME' = 'Hemmelmarker_See'\")"
   ]
  },
  {
   "cell_type": "code",
   "execution_count": 4,
   "metadata": {},
   "outputs": [],
   "source": [
    "from IPython.display import GeoJSON"
   ]
  },
  {
   "cell_type": "code",
   "execution_count": 5,
   "metadata": {},
   "outputs": [
    {
     "data": {
      "application/geo+json": [
       {
        "geometry": {
         "coordinates": [
          [
           [
            9.897646,
            54.4906869999955,
            0
           ],
           [
            9.897595,
            54.4906199999955,
            0
           ],
           [
            9.897563,
            54.4905509999955,
            0
           ],
           [
            9.897547,
            54.4904559999955,
            0
           ],
           [
            9.897548,
            54.4903439999955,
            0
           ],
           [
            9.897545,
            54.4902629999955,
            0
           ],
           [
            9.897529,
            54.4901679999955,
            0
           ],
           [
            9.89751,
            54.4901009999955,
            0
           ],
           [
            9.897472,
            54.4900359999955,
            0
           ],
           [
            9.897433,
            54.4899869999955,
            0
           ],
           [
            9.897385,
            54.4899169999955,
            0
           ],
           [
            9.897337,
            54.4898349999955,
            0
           ],
           [
            9.897307,
            54.4897549999955,
            0
           ],
           [
            9.897274,
            54.4896269999955,
            0
           ],
           [
            9.897276,
            54.4895029999955,
            0
           ],
           [
            9.897287,
            54.4893709999955,
            0
           ],
           [
            9.897292,
            54.4892559999955,
            0
           ],
           [
            9.897294,
            54.4890649999955,
            0
           ],
           [
            9.897309,
            54.4889679999955,
            0
           ],
           [
            9.897349,
            54.4888579999955,
            0
           ],
           [
            9.897383,
            54.4887929999955,
            0
           ],
           [
            9.897407,
            54.4887029999955,
            0
           ],
           [
            9.897426,
            54.4885919999955,
            0
           ],
           [
            9.897453,
            54.4884469999955,
            0
           ],
           [
            9.897459,
            54.4883139999955,
            0
           ],
           [
            9.897464,
            54.4881999999955,
            0
           ],
           [
            9.897442,
            54.4881029999955,
            0
           ],
           [
            9.897393,
            54.4880129999955,
            0
           ],
           [
            9.897343,
            54.4879129999955,
            0
           ],
           [
            9.897263,
            54.4878099999955,
            0
           ],
           [
            9.897147,
            54.4876339999955,
            0
           ],
           [
            9.897072,
            54.4875159999955,
            0
           ],
           [
            9.897025,
            54.4874229999955,
            0
           ],
           [
            9.896967,
            54.4872759999955,
            0
           ],
           [
            9.896907,
            54.4870579999955,
            0
           ],
           [
            9.896782,
            54.4867859999955,
            0
           ],
           [
            9.896657,
            54.4865119999955,
            0
           ],
           [
            9.896331,
            54.4857589999955,
            0
           ],
           [
            9.896278,
            54.4856379999955,
            0
           ],
           [
            9.896256,
            54.4854889999955,
            0
           ],
           [
            9.89628,
            54.4852849999955,
            0
           ],
           [
            9.89629,
            54.4851299999955,
            0
           ],
           [
            9.896295,
            54.4850169999955,
            0
           ],
           [
            9.896248,
            54.4848679999955,
            0
           ],
           [
            9.896198,
            54.4847679999955,
            0
           ],
           [
            9.896148,
            54.4846769999955,
            0
           ],
           [
            9.89603,
            54.4845589999955,
            0
           ],
           [
            9.895924,
            54.4844219999955,
            0
           ],
           [
            9.895755,
            54.4842759999955,
            0
           ],
           [
            9.895566,
            54.4841589999955,
            0
           ],
           [
            9.895382,
            54.4840579999955,
            0
           ],
           [
            9.895094,
            54.4839179999955,
            0
           ],
           [
            9.894925,
            54.4838019999955,
            0
           ],
           [
            9.894789,
            54.4836869999955,
            0
           ],
           [
            9.894684,
            54.4835529999955,
            0
           ],
           [
            9.894535,
            54.4833739999955,
            0
           ],
           [
            9.894305,
            54.4831699999955,
            0
           ],
           [
            9.893828,
            54.4832789999955,
            0
           ],
           [
            9.893578,
            54.4833439999955,
            0
           ],
           [
            9.893359,
            54.4834119999955,
            0
           ],
           [
            9.893183,
            54.4834659999955,
            0
           ],
           [
            9.893028,
            54.4835219999955,
            0
           ],
           [
            9.892831,
            54.4835949999955,
            0
           ],
           [
            9.892671,
            54.4836649999955,
            0
           ],
           [
            9.892524,
            54.4837259999955,
            0
           ],
           [
            9.892313,
            54.4838269999955,
            0
           ],
           [
            9.892036,
            54.4839709999955,
            0
           ],
           [
            9.891821,
            54.4840979999955,
            0
           ],
           [
            9.891654,
            54.4841849999955,
            0
           ],
           [
            9.891552,
            54.4842409999955,
            0
           ],
           [
            9.891298,
            54.4843429999955,
            0
           ],
           [
            9.891145,
            54.4843959999955,
            0
           ],
           [
            9.8909,
            54.4844709999955,
            0
           ],
           [
            9.890629,
            54.4845439999955,
            0
           ],
           [
            9.890355,
            54.4845979999955,
            0
           ],
           [
            9.890149,
            54.4846249999955,
            0
           ],
           [
            9.889983,
            54.4846369999955,
            0
           ],
           [
            9.889801,
            54.4846309999955,
            0
           ],
           [
            9.889696,
            54.4845979999955,
            0
           ],
           [
            9.889678,
            54.4845919999955,
            0
           ],
           [
            9.889617,
            54.4845379999955,
            0
           ],
           [
            9.88959,
            54.4845049999955,
            0
           ],
           [
            9.889557,
            54.4844819999955,
            0
           ],
           [
            9.88952,
            54.4844789999955,
            0
           ],
           [
            9.889456,
            54.4844979999955,
            0
           ],
           [
            9.889395,
            54.4845339999955,
            0
           ],
           [
            9.889342,
            54.4845729999955,
            0
           ],
           [
            9.889237,
            54.4846279999955,
            0
           ],
           [
            9.889185,
            54.4846579999955,
            0
           ],
           [
            9.889078,
            54.4846899999955,
            0
           ],
           [
            9.888884,
            54.4847109999955,
            0
           ],
           [
            9.888759,
            54.4847069999955,
            0
           ],
           [
            9.888594,
            54.4847009999955,
            0
           ],
           [
            9.888421,
            54.4846969999955,
            0
           ],
           [
            9.888258,
            54.4847039999955,
            0
           ],
           [
            9.888102,
            54.4847139999955,
            0
           ],
           [
            9.887792,
            54.4847669999955,
            0
           ],
           [
            9.887476,
            54.4848279999955,
            0
           ],
           [
            9.887194,
            54.4848579999955,
            0
           ],
           [
            9.886984,
            54.4848559999955,
            0
           ],
           [
            9.886746,
            54.4848339999955,
            0
           ],
           [
            9.886564,
            54.4848089999955,
            0
           ],
           [
            9.886344,
            54.4847839999955,
            0
           ],
           [
            9.886014,
            54.4847719999955,
            0
           ],
           [
            9.885654,
            54.4847429999955,
            0
           ],
           [
            9.88542,
            54.4847329999955,
            0
           ],
           [
            9.885096,
            54.4847199999955,
            0
           ],
           [
            9.884718,
            54.4847139999955,
            0
           ],
           [
            9.884441,
            54.4847239999955,
            0
           ],
           [
            9.884183,
            54.4847409999955,
            0
           ],
           [
            9.883876,
            54.4847689999955,
            0
           ],
           [
            9.883571,
            54.4848119999955,
            0
           ],
           [
            9.883284,
            54.4848759999955,
            0
           ],
           [
            9.88307,
            54.4849339999955,
            0
           ],
           [
            9.882878,
            54.4849959999955,
            0
           ],
           [
            9.882651,
            54.4850879999955,
            0
           ],
           [
            9.882426,
            54.4851809999955,
            0
           ],
           [
            9.882201,
            54.4852789999955,
            0
           ],
           [
            9.881886,
            54.4854359999955,
            0
           ],
           [
            9.881636,
            54.4855709999955,
            0
           ],
           [
            9.881342,
            54.4857239999955,
            0
           ],
           [
            9.881091,
            54.4858509999955,
            0
           ],
           [
            9.880725,
            54.4860069999955,
            0
           ],
           [
            9.880506,
            54.4860899999955,
            0
           ],
           [
            9.880297,
            54.4862039999955,
            0
           ],
           [
            9.880127,
            54.4863179999955,
            0
           ],
           [
            9.879972,
            54.4864659999955,
            0
           ],
           [
            9.879865,
            54.4865749999955,
            0
           ],
           [
            9.879805,
            54.4866069999955,
            0
           ],
           [
            9.879757,
            54.4866249999955,
            0
           ],
           [
            9.879709,
            54.4866369999955,
            0
           ],
           [
            9.87967,
            54.4866469999955,
            0
           ],
           [
            9.879561,
            54.4866739999955,
            0
           ],
           [
            9.879369,
            54.4867159999955,
            0
           ],
           [
            9.879239,
            54.4867549999955,
            0
           ],
           [
            9.879149,
            54.4868069999955,
            0
           ],
           [
            9.879102,
            54.4868619999955,
            0
           ],
           [
            9.879054,
            54.4870079999955,
            0
           ],
           [
            9.879036,
            54.4870319999955,
            0
           ],
           [
            9.878863,
            54.4870439999955,
            0
           ],
           [
            9.878543,
            54.4870949999955,
            0
           ],
           [
            9.878433,
            54.4871389999955,
            0
           ],
           [
            9.878372,
            54.4871819999955,
            0
           ],
           [
            9.878221,
            54.4873169999955,
            0
           ],
           [
            9.878061,
            54.4874679999955,
            0
           ],
           [
            9.87792,
            54.4876409999955,
            0
           ],
           [
            9.877839,
            54.4878039999955,
            0
           ],
           [
            9.877803,
            54.4879509999955,
            0
           ],
           [
            9.877801,
            54.4880509999955,
            0
           ],
           [
            9.877813,
            54.4881149999955,
            0
           ],
           [
            9.877869,
            54.4881209999955,
            0
           ],
           [
            9.877921,
            54.4881399999955,
            0
           ],
           [
            9.877941,
            54.4881659999955,
            0
           ],
           [
            9.877945,
            54.4882029999955,
            0
           ],
           [
            9.877934,
            54.4882299999955,
            0
           ],
           [
            9.877896,
            54.4882559999955,
            0
           ],
           [
            9.877812,
            54.4882979999955,
            0
           ],
           [
            9.877796,
            54.4883099999955,
            0
           ],
           [
            9.877779,
            54.4883399999955,
            0
           ],
           [
            9.87778,
            54.4883749999955,
            0
           ],
           [
            9.877791,
            54.4884379999955,
            0
           ],
           [
            9.877819,
            54.4885289999955,
            0
           ],
           [
            9.877884,
            54.4887849999955,
            0
           ],
           [
            9.877916,
            54.4890749999955,
            0
           ],
           [
            9.877963,
            54.4891919999955,
            0
           ],
           [
            9.878021,
            54.4892719999955,
            0
           ],
           [
            9.878112,
            54.4893529999955,
            0
           ],
           [
            9.87822,
            54.4894559999955,
            0
           ],
           [
            9.878327,
            54.4895409999955,
            0
           ],
           [
            9.878359,
            54.4895649999955,
            0
           ],
           [
            9.878381,
            54.4895729999955,
            0
           ],
           [
            9.878404,
            54.4895809999955,
            0
           ],
           [
            9.878463,
            54.4895869999955,
            0
           ],
           [
            9.878571,
            54.4895889999955,
            0
           ],
           [
            9.878734,
            54.4895759999955,
            0
           ],
           [
            9.878951,
            54.4895529999955,
            0
           ],
           [
            9.879109,
            54.4895259999955,
            0
           ],
           [
            9.879445,
            54.4894659999955,
            0
           ],
           [
            9.879675,
            54.4894189999955,
            0
           ],
           [
            9.879798,
            54.4894039999955,
            0
           ],
           [
            9.879923,
            54.4893969999955,
            0
           ],
           [
            9.880044,
            54.4894039999955,
            0
           ],
           [
            9.880161,
            54.4894229999955,
            0
           ],
           [
            9.880304,
            54.4894519999955,
            0
           ],
           [
            9.880422,
            54.4894879999955,
            0
           ],
           [
            9.880539,
            54.4895449999955,
            0
           ],
           [
            9.880971,
            54.4897449999955,
            0
           ],
           [
            9.881415,
            54.4899519999955,
            0
           ],
           [
            9.881645,
            54.4900459999955,
            0
           ],
           [
            9.881818,
            54.4901069999955,
            0
           ],
           [
            9.881999,
            54.4901519999955,
            0
           ],
           [
            9.882157,
            54.4901779999955,
            0
           ],
           [
            9.882323,
            54.4901959999955,
            0
           ],
           [
            9.88251,
            54.4902049999955,
            0
           ],
           [
            9.88267,
            54.4902069999955,
            0
           ],
           [
            9.882826,
            54.4902189999955,
            0
           ],
           [
            9.883037,
            54.4902489999955,
            0
           ],
           [
            9.883291,
            54.4902869999955,
            0
           ],
           [
            9.883505,
            54.4903309999955,
            0
           ],
           [
            9.883604,
            54.4903589999955,
            0
           ],
           [
            9.88373,
            54.4904079999955,
            0
           ],
           [
            9.883864,
            54.4904629999955,
            0
           ],
           [
            9.883951,
            54.4905009999955,
            0
           ],
           [
            9.884045,
            54.4905349999955,
            0
           ],
           [
            9.884183,
            54.4905659999955,
            0
           ],
           [
            9.884353,
            54.4905889999955,
            0
           ],
           [
            9.884488,
            54.4906039999955,
            0
           ],
           [
            9.884605,
            54.4906089999955,
            0
           ],
           [
            9.884787,
            54.4906069999955,
            0
           ],
           [
            9.884909,
            54.4906079999955,
            0
           ],
           [
            9.885014,
            54.4906099999955,
            0
           ],
           [
            9.885107,
            54.4906209999955,
            0
           ],
           [
            9.88519,
            54.4906339999955,
            0
           ],
           [
            9.885271,
            54.4906559999955,
            0
           ],
           [
            9.885396,
            54.4907279999955,
            0
           ],
           [
            9.88556,
            54.4908129999955,
            0
           ],
           [
            9.885702,
            54.4908989999955,
            0
           ],
           [
            9.885797,
            54.4909439999955,
            0
           ],
           [
            9.885863,
            54.4909729999955,
            0
           ],
           [
            9.885956,
            54.4910019999955,
            0
           ],
           [
            9.886041,
            54.4910229999955,
            0
           ],
           [
            9.886165,
            54.4910379999955,
            0
           ],
           [
            9.886275,
            54.4910429999955,
            0
           ],
           [
            9.886401,
            54.4910409999955,
            0
           ],
           [
            9.886526,
            54.4910369999955,
            0
           ],
           [
            9.886711,
            54.4910259999955,
            0
           ],
           [
            9.886927,
            54.4910059999955,
            0
           ],
           [
            9.887055,
            54.4910009999955,
            0
           ],
           [
            9.887163,
            54.4910119999955,
            0
           ],
           [
            9.887296,
            54.4910329999955,
            0
           ],
           [
            9.887475,
            54.4910769999955,
            0
           ],
           [
            9.887667,
            54.4911269999955,
            0
           ],
           [
            9.887771,
            54.4911469999955,
            0
           ],
           [
            9.887884,
            54.4911579999955,
            0
           ],
           [
            9.888038,
            54.4911579999955,
            0
           ],
           [
            9.888174,
            54.4911519999955,
            0
           ],
           [
            9.888337,
            54.4911349999955,
            0
           ],
           [
            9.888497,
            54.4911049999955,
            0
           ],
           [
            9.888743,
            54.4910499999955,
            0
           ],
           [
            9.888931,
            54.4910049999955,
            0
           ],
           [
            9.88906,
            54.4909719999955,
            0
           ],
           [
            9.889261,
            54.4909199999955,
            0
           ],
           [
            9.889392,
            54.4908949999955,
            0
           ],
           [
            9.88956,
            54.4908749999955,
            0
           ],
           [
            9.889777,
            54.4908719999955,
            0
           ],
           [
            9.889993,
            54.4908539999955,
            0
           ],
           [
            9.890264,
            54.4908209999955,
            0
           ],
           [
            9.890682,
            54.4907649999955,
            0
           ],
           [
            9.891288,
            54.4907029999955,
            0
           ],
           [
            9.89161,
            54.4906899999955,
            0
           ],
           [
            9.891781,
            54.4906939999955,
            0
           ],
           [
            9.891953,
            54.4907149999955,
            0
           ],
           [
            9.892141,
            54.4907539999955,
            0
           ],
           [
            9.892375,
            54.4908209999955,
            0
           ],
           [
            9.892659,
            54.4908899999955,
            0
           ],
           [
            9.892885,
            54.4909259999955,
            0
           ],
           [
            9.89317,
            54.4909489999955,
            0
           ],
           [
            9.893387,
            54.4909629999955,
            0
           ],
           [
            9.893519,
            54.4909849999955,
            0
           ],
           [
            9.893724,
            54.4910439999955,
            0
           ],
           [
            9.894,
            54.4911479999955,
            0
           ],
           [
            9.89472,
            54.4914139999955,
            0
           ],
           [
            9.894988,
            54.4915299999955,
            0
           ],
           [
            9.895117,
            54.4916249999955,
            0
           ],
           [
            9.895298,
            54.4917639999955,
            0
           ],
           [
            9.895455,
            54.4918959999955,
            0
           ],
           [
            9.895546,
            54.4920049999955,
            0
           ],
           [
            9.895723,
            54.4921949999955,
            0
           ],
           [
            9.895845,
            54.4922919999955,
            0
           ],
           [
            9.895975,
            54.4923559999955,
            0
           ],
           [
            9.896123,
            54.4923979999955,
            0
           ],
           [
            9.896256,
            54.4924089999955,
            0
           ],
           [
            9.896529,
            54.4924099999955,
            0
           ],
           [
            9.896871,
            54.4923919999955,
            0
           ],
           [
            9.897133,
            54.4923639999955,
            0
           ],
           [
            9.897349,
            54.4923349999955,
            0
           ],
           [
            9.897521,
            54.4923029999955,
            0
           ],
           [
            9.897665,
            54.4922589999955,
            0
           ],
           [
            9.897808,
            54.4922109999955,
            0
           ],
           [
            9.897951,
            54.4921439999955,
            0
           ],
           [
            9.898086,
            54.4920599999955,
            0
           ],
           [
            9.898218,
            54.4919749999955,
            0
           ],
           [
            9.898306,
            54.4918929999955,
            0
           ],
           [
            9.898375,
            54.4918189999955,
            0
           ],
           [
            9.898417,
            54.4917489999955,
            0
           ],
           [
            9.898436,
            54.4916789999955,
            0
           ],
           [
            9.898429,
            54.4915829999955,
            0
           ],
           [
            9.898413,
            54.4914319999955,
            0
           ],
           [
            9.898398,
            54.4913359999955,
            0
           ],
           [
            9.898353,
            54.4912219999955,
            0
           ],
           [
            9.898259,
            54.4911079999955,
            0
           ],
           [
            9.89818,
            54.4910339999955,
            0
           ],
           [
            9.898103,
            54.4909689999955,
            0
           ],
           [
            9.897971,
            54.4908749999955,
            0
           ],
           [
            9.897836,
            54.4908089999955,
            0
           ],
           [
            9.897722,
            54.4907479999955,
            0
           ],
           [
            9.897646,
            54.4906869999955,
            0
           ]
          ]
         ],
         "type": "Polygon"
        },
        "properties": {
         "ALT_CAT": null,
         "APSFR_CD": null,
         "AREA_CALC": 0.818,
         "AREA_MAX": 0.818,
         "ARTIFICIAL": "N",
         "BEGINLIFE": null,
         "BEN_INV": null,
         "CAND_JOIN": 1,
         "CHAR_TYPE": null,
         "CHEM_ASSC": "3",
         "CHEM_STAT": "3",
         "CONFIDENCE": null,
         "CONF_CHEM": null,
         "C_STAT_DIF": null,
         "DEPTH_CAT": null,
         "DESIGBEGIN": "20141222000000",
         "ECO_ASSC": "2",
         "ECO_POT": null,
         "ECO_STAT": "4",
         "ENDLIFE": null,
         "EQS_HM": null,
         "EQS_INDPOL": null,
         "EQS_ONATPL": null,
         "EQS_OTHPL": null,
         "EQS_PESTIC": null,
         "EU_CD_LS": "DE_LS_DESH_0145",
         "EU_CD_LW": "DE_LW_DESH_0145",
         "EU_LW_TYPE": null,
         "EVOLUTIONT": "noChange",
         "EZG": null,
         "FISH": null,
         "F_MEASURE": 0,
         "GEN_COND": null,
         "GEN_LEVEL": null,
         "GEOL_CAT": null,
         "GROUP_CD": null,
         "HMWB_PA": null,
         "HMWB_WU": null,
         "HYDROMORP": null,
         "HYDRO_REG": null,
         "IMPACT": "CHEM,NUTR",
         "IMPACT_OTH": null,
         "IMPACT_SRC": null,
         "IMPORTDATE": "FME Date (2015-12-14",
         "INS_BY": "G. Baltes",
         "INS_WHEN": "FME Date (2013-11-13",
         "INT_CAL_TP": "LW-L-CB2",
         "INV_LAND": "DESH",
         "LAKE_CAT": "0",
         "LAND_CD": "DESH",
         "LEN_CALC": null,
         "LIABLE": "DESH",
         "MAC_PHYTO": null,
         "METADATA": "LWSEGGEOM_DESH.xml",
         "METADATA_U": "http://www.wasserblick.net/servlet/is/20090/?title=LWSEGGEOM_DESHnull=104192",
         "MODIFIED": "N",
         "MORPH_COND": null,
         "MS_CD_LW": null,
         "NAMETEXT": "Hemmelmarker_See",
         "NITRAT": null,
         "NON_COMP": null,
         "NUMREFEREN": null,
         "OID": 110670,
         "OTH_SPEC": null,
         "PAD_WITHIN": null,
         "PA_D_STAT": null,
         "PHYTO": null,
         "PLANU_CD": "STR_SLE",
         "QE11CHANG": "3",
         "QE11COMP": null,
         "QE11MONP": "2010--2012",
         "QE11MONR": null,
         "QE11QEGROU": null,
         "QE11VAL": "4",
         "QE122CHANG": null,
         "QE122COMP": null,
         "QE122MONP": null,
         "QE122MONR": null,
         "QE122QEGRO": null,
         "QE122VAL": null,
         "QE123CHANG": null,
         "QE123COMP": null,
         "QE123MONP": null,
         "QE123MONR": null,
         "QE123QEGRO": null,
         "QE123VAL": null,
         "QE124CHANG": null,
         "QE124COMP": null,
         "QE124MONP": null,
         "QE124MONR": null,
         "QE124QEGRO": null,
         "QE124VAL": null,
         "QE12CHANG": "3",
         "QE12COMP": null,
         "QE12MONP": "2010--2012",
         "QE12MONR": null,
         "QE12QEGROU": null,
         "QE12VAL": "4",
         "QE13CHANG": "7",
         "QE13COMP": null,
         "QE13MONP": "2010--2012",
         "QE13MONR": null,
         "QE13QEGROU": null,
         "QE13VAL": "7",
         "QE14CHANG": "7",
         "QE14COMP": null,
         "QE14MONP": "2010--2012",
         "QE14MONR": null,
         "QE14QEGROU": null,
         "QE14VAL": "7",
         "QE21CHANG": "7",
         "QE21COMP": null,
         "QE21MONP": "2010--2012",
         "QE21MONR": null,
         "QE21QEGROU": null,
         "QE21VAL": "6",
         "QE23CHANG": "7",
         "QE23COMP": null,
         "QE23MONP": "2010--2012",
         "QE23MONR": null,
         "QE23QEGROU": null,
         "QE23VAL": "6",
         "QE311CHANG": "6",
         "QE311COMP": null,
         "QE311MONP": "2010--2012",
         "QE311MONR": null,
         "QE311QEGRO": null,
         "QE311VAL": "3",
         "QE312CHANG": "7",
         "QE312COMP": null,
         "QE312MONP": "2010--2012",
         "QE312MONR": null,
         "QE312QEGRO": null,
         "QE312VAL": "6",
         "QE313CHANG": "7",
         "QE313COMP": null,
         "QE313MONP": "2010--2012",
         "QE313MONR": null,
         "QE313QEGRO": null,
         "QE313VAL": "6",
         "QE314CHANG": "7",
         "QE314COMP": null,
         "QE314MONP": "2010--2012",
         "QE314MONR": null,
         "QE314QEGRO": null,
         "QE314VAL": "6",
         "QE315CHANG": "7",
         "QE315COMP": null,
         "QE315MONP": "2010--2012",
         "QE315MONR": null,
         "QE315QEGRO": null,
         "QE315VAL": "6",
         "QE3161CHAN": "7",
         "QE3161COMP": null,
         "QE3161MONP": "2010--2012",
         "QE3161MONR": null,
         "QE3161QEGR": null,
         "QE3161VAL": "6",
         "QE3162CHAN": "6",
         "QE3162COMP": null,
         "QE3162MONP": "2010--2012",
         "QE3162MONR": null,
         "QE3162QEGR": null,
         "QE3162VAL": "3",
         "QE33CHANG": "3",
         "QE33COMP": null,
         "QE33MONP": "2008--2013",
         "QE33MONR": null,
         "QE33QEGROU": null,
         "QE33VAL": "2",
         "RBD_CD": "9610",
         "REGION_CDA": null,
         "RESERVOIR": null,
         "RESTRICTED": "1",
         "RISK_CHEM": null,
         "RISK_DATE": "FME Date (2017-12-08",
         "RISK_ECPO": null,
         "RISK_ECST": null,
         "RISK_TOTAL": null,
         "SCALE": "H",
         "SIGPR": "2.2,2.7,9",
         "SIGPRO": null,
         "SIZE_CAT": null,
         "SWS_SDATE": "FME Date (2017-12-08",
         "S_NAME": "Hemmelmarker_See",
         "TEMPLATE": "Lwseggeom",
         "TEXTINTERN": null,
         "TRANSB": "N",
         "TY_CD_LW": "88",
         "TY_NA_W": null,
         "T_MEASURE": 0,
         "URL": null,
         "WA_CD": "9610",
         "WB_PREDEC": "DE_LW_DESH_0145",
         "WHY_HMWB": null,
         "W_NAME": null,
         "id": "0"
        },
        "type": "Feature"
       }
      ],
      "text/plain": [
       "<IPython.display.GeoJSON object>"
      ]
     },
     "metadata": {
      "application/geo+json": {
       "expanded": false,
       "root": "root"
      }
     },
     "output_type": "display_data"
    }
   ],
   "source": [
    "GeoJSON(fs)"
   ]
  },
  {
   "cell_type": "markdown",
   "metadata": {},
   "source": [
    "## Use local geodb"
   ]
  },
  {
   "cell_type": "code",
   "execution_count": 7,
   "metadata": {},
   "outputs": [],
   "source": [
    "geo_local = get_geo_db_service(driver='local')"
   ]
  },
  {
   "cell_type": "code",
   "execution_count": 8,
   "metadata": {},
   "outputs": [],
   "source": [
    "fs = geo_local.find_feature(collection_name='germany-sh-lakes', query=\"S_NAME == 'Hemmelmarker_See'\")"
   ]
  },
  {
   "cell_type": "code",
   "execution_count": 9,
   "metadata": {},
   "outputs": [
    {
     "data": {
      "application/geo+json": {
       "geometry": {
        "coordinates": [
         [
          [
           9.897646,
           54.490686999995496,
           0
          ],
          [
           9.897594999999999,
           54.490619999995495,
           0
          ],
          [
           9.897563,
           54.4905509999955,
           0
          ],
          [
           9.897547,
           54.4904559999955,
           0
          ],
          [
           9.897547999999999,
           54.490343999995495,
           0
          ],
          [
           9.897545,
           54.490262999995494,
           0
          ],
          [
           9.897528999999999,
           54.4901679999955,
           0
          ],
          [
           9.897509999999999,
           54.4901009999955,
           0
          ],
          [
           9.897471999999999,
           54.4900359999955,
           0
          ],
          [
           9.897433,
           54.489986999995494,
           0
          ],
          [
           9.897385,
           54.4899169999955,
           0
          ],
          [
           9.897337,
           54.489834999995495,
           0
          ],
          [
           9.897307,
           54.4897549999955,
           0
          ],
          [
           9.897274,
           54.489626999995494,
           0
          ],
          [
           9.897276,
           54.489502999995494,
           0
          ],
          [
           9.897287,
           54.4893709999955,
           0
          ],
          [
           9.897292,
           54.4892559999955,
           0
          ],
          [
           9.897293999999999,
           54.4890649999955,
           0
          ],
          [
           9.897309,
           54.488967999995495,
           0
          ],
          [
           9.897349,
           54.488857999995496,
           0
          ],
          [
           9.897383,
           54.488792999995496,
           0
          ],
          [
           9.897407,
           54.488702999995496,
           0
          ],
          [
           9.897426,
           54.4885919999955,
           0
          ],
          [
           9.897452999999999,
           54.488446999995496,
           0
          ],
          [
           9.897459,
           54.4883139999955,
           0
          ],
          [
           9.897464,
           54.488199999995494,
           0
          ],
          [
           9.897442,
           54.4881029999955,
           0
          ],
          [
           9.897393,
           54.4880129999955,
           0
          ],
          [
           9.897343,
           54.487912999995494,
           0
          ],
          [
           9.897262999999999,
           54.4878099999955,
           0
          ],
          [
           9.897147,
           54.487633999995495,
           0
          ],
          [
           9.897072,
           54.487515999995495,
           0
          ],
          [
           9.897025,
           54.487422999995495,
           0
          ],
          [
           9.896967,
           54.4872759999955,
           0
          ],
          [
           9.896906999999999,
           54.4870579999955,
           0
          ],
          [
           9.896782,
           54.4867859999955,
           0
          ],
          [
           9.896657,
           54.4865119999955,
           0
          ],
          [
           9.896331,
           54.4857589999955,
           0
          ],
          [
           9.896277999999999,
           54.4856379999955,
           0
          ],
          [
           9.896256,
           54.485488999995496,
           0
          ],
          [
           9.896279999999999,
           54.4852849999955,
           0
          ],
          [
           9.896289999999999,
           54.4851299999955,
           0
          ],
          [
           9.896295,
           54.485016999995494,
           0
          ],
          [
           9.896248,
           54.484867999995494,
           0
          ],
          [
           9.896198,
           54.4847679999955,
           0
          ],
          [
           9.896148,
           54.4846769999955,
           0
          ],
          [
           9.89603,
           54.4845589999955,
           0
          ],
          [
           9.895923999999999,
           54.4844219999955,
           0
          ],
          [
           9.895755,
           54.484275999995496,
           0
          ],
          [
           9.895565999999999,
           54.4841589999955,
           0
          ],
          [
           9.895382,
           54.4840579999955,
           0
          ],
          [
           9.895094,
           54.4839179999955,
           0
          ],
          [
           9.894924999999999,
           54.4838019999955,
           0
          ],
          [
           9.894789,
           54.4836869999955,
           0
          ],
          [
           9.894684,
           54.483552999995496,
           0
          ],
          [
           9.894535,
           54.4833739999955,
           0
          ],
          [
           9.894305,
           54.483169999995496,
           0
          ],
          [
           9.893828,
           54.4832789999955,
           0
          ],
          [
           9.893578,
           54.4833439999955,
           0
          ],
          [
           9.893359,
           54.483411999995496,
           0
          ],
          [
           9.893182999999999,
           54.483465999995495,
           0
          ],
          [
           9.893028,
           54.483521999995496,
           0
          ],
          [
           9.892831,
           54.483594999995496,
           0
          ],
          [
           9.892671,
           54.4836649999955,
           0
          ],
          [
           9.892524,
           54.4837259999955,
           0
          ],
          [
           9.892313,
           54.4838269999955,
           0
          ],
          [
           9.892036,
           54.4839709999955,
           0
          ],
          [
           9.891821,
           54.4840979999955,
           0
          ],
          [
           9.891653999999999,
           54.4841849999955,
           0
          ],
          [
           9.891551999999999,
           54.4842409999955,
           0
          ],
          [
           9.891297999999999,
           54.4843429999955,
           0
          ],
          [
           9.891145,
           54.4843959999955,
           0
          ],
          [
           9.8909,
           54.484470999995494,
           0
          ],
          [
           9.890628999999999,
           54.484543999995495,
           0
          ],
          [
           9.890355,
           54.4845979999955,
           0
          ],
          [
           9.890149,
           54.484624999995496,
           0
          ],
          [
           9.889982999999999,
           54.484636999995494,
           0
          ],
          [
           9.889801,
           54.484630999995495,
           0
          ],
          [
           9.889695999999999,
           54.4845979999955,
           0
          ],
          [
           9.889678,
           54.484591999995494,
           0
          ],
          [
           9.889617,
           54.484537999995496,
           0
          ],
          [
           9.88959,
           54.484504999995494,
           0
          ],
          [
           9.889557,
           54.484481999995495,
           0
          ],
          [
           9.88952,
           54.484478999995495,
           0
          ],
          [
           9.889456,
           54.4844979999955,
           0
          ],
          [
           9.889395,
           54.4845339999955,
           0
          ],
          [
           9.889342,
           54.4845729999955,
           0
          ],
          [
           9.889237,
           54.484627999995496,
           0
          ],
          [
           9.889185,
           54.4846579999955,
           0
          ],
          [
           9.889078,
           54.484689999995496,
           0
          ],
          [
           9.888884,
           54.4847109999955,
           0
          ],
          [
           9.888759,
           54.484706999995495,
           0
          ],
          [
           9.888594,
           54.484700999995496,
           0
          ],
          [
           9.888421,
           54.4846969999955,
           0
          ],
          [
           9.888258,
           54.484703999995496,
           0
          ],
          [
           9.888102,
           54.4847139999955,
           0
          ],
          [
           9.887792,
           54.4847669999955,
           0
          ],
          [
           9.887476,
           54.484827999995495,
           0
          ],
          [
           9.887194,
           54.4848579999955,
           0
          ],
          [
           9.886984,
           54.484855999995496,
           0
          ],
          [
           9.886745999999999,
           54.484833999995494,
           0
          ],
          [
           9.886564,
           54.4848089999955,
           0
          ],
          [
           9.886344,
           54.4847839999955,
           0
          ],
          [
           9.886014,
           54.484771999995495,
           0
          ],
          [
           9.885653999999999,
           54.4847429999955,
           0
          ],
          [
           9.88542,
           54.4847329999955,
           0
          ],
          [
           9.885095999999999,
           54.4847199999955,
           0
          ],
          [
           9.884718,
           54.4847139999955,
           0
          ],
          [
           9.884440999999999,
           54.484723999995495,
           0
          ],
          [
           9.884183,
           54.484740999995495,
           0
          ],
          [
           9.883875999999999,
           54.484768999995495,
           0
          ],
          [
           9.883571,
           54.4848119999955,
           0
          ],
          [
           9.883284,
           54.484875999995495,
           0
          ],
          [
           9.88307,
           54.4849339999955,
           0
          ],
          [
           9.882878,
           54.4849959999955,
           0
          ],
          [
           9.882651,
           54.4850879999955,
           0
          ],
          [
           9.882425999999999,
           54.4851809999955,
           0
          ],
          [
           9.882201,
           54.4852789999955,
           0
          ],
          [
           9.881886,
           54.485435999995495,
           0
          ],
          [
           9.881636,
           54.485570999995495,
           0
          ],
          [
           9.881342,
           54.4857239999955,
           0
          ],
          [
           9.881091,
           54.4858509999955,
           0
          ],
          [
           9.880725,
           54.486006999995496,
           0
          ],
          [
           9.880505999999999,
           54.4860899999955,
           0
          ],
          [
           9.880296999999999,
           54.486203999995496,
           0
          ],
          [
           9.880127,
           54.4863179999955,
           0
          ],
          [
           9.879972,
           54.486465999995495,
           0
          ],
          [
           9.879864999999999,
           54.4865749999955,
           0
          ],
          [
           9.879805,
           54.486606999995495,
           0
          ],
          [
           9.879757,
           54.4866249999955,
           0
          ],
          [
           9.879709,
           54.4866369999955,
           0
          ],
          [
           9.879669999999999,
           54.4866469999955,
           0
          ],
          [
           9.879560999999999,
           54.486673999995496,
           0
          ],
          [
           9.879368999999999,
           54.486715999995496,
           0
          ],
          [
           9.879239,
           54.4867549999955,
           0
          ],
          [
           9.879149,
           54.486806999995494,
           0
          ],
          [
           9.879102,
           54.4868619999955,
           0
          ],
          [
           9.879054,
           54.4870079999955,
           0
          ],
          [
           9.879036,
           54.487031999995494,
           0
          ],
          [
           9.878862999999999,
           54.4870439999955,
           0
          ],
          [
           9.878542999999999,
           54.4870949999955,
           0
          ],
          [
           9.878433,
           54.487138999995494,
           0
          ],
          [
           9.878371999999999,
           54.4871819999955,
           0
          ],
          [
           9.878221,
           54.4873169999955,
           0
          ],
          [
           9.878060999999999,
           54.487467999995495,
           0
          ],
          [
           9.87792,
           54.4876409999955,
           0
          ],
          [
           9.877839,
           54.4878039999955,
           0
          ],
          [
           9.877803,
           54.4879509999955,
           0
          ],
          [
           9.877801,
           54.488050999995494,
           0
          ],
          [
           9.877813,
           54.488114999995496,
           0
          ],
          [
           9.877868999999999,
           54.488120999995495,
           0
          ],
          [
           9.877920999999999,
           54.4881399999955,
           0
          ],
          [
           9.877941,
           54.488165999995495,
           0
          ],
          [
           9.877945,
           54.488202999995494,
           0
          ],
          [
           9.877934,
           54.4882299999955,
           0
          ],
          [
           9.877896,
           54.488255999995495,
           0
          ],
          [
           9.877811999999999,
           54.488297999995496,
           0
          ],
          [
           9.877796,
           54.4883099999955,
           0
          ],
          [
           9.877779,
           54.488339999995496,
           0
          ],
          [
           9.87778,
           54.4883749999955,
           0
          ],
          [
           9.877791,
           54.4884379999955,
           0
          ],
          [
           9.877818999999999,
           54.488528999995495,
           0
          ],
          [
           9.877884,
           54.488784999995495,
           0
          ],
          [
           9.877915999999999,
           54.489074999995495,
           0
          ],
          [
           9.877963,
           54.4891919999955,
           0
          ],
          [
           9.878021,
           54.489271999995495,
           0
          ],
          [
           9.878112,
           54.489352999995496,
           0
          ],
          [
           9.878219999999999,
           54.4894559999955,
           0
          ],
          [
           9.878326999999999,
           54.4895409999955,
           0
          ],
          [
           9.878359,
           54.489564999995494,
           0
          ],
          [
           9.878381,
           54.489572999995495,
           0
          ],
          [
           9.878404,
           54.489580999995496,
           0
          ],
          [
           9.878463,
           54.489586999995495,
           0
          ],
          [
           9.878570999999999,
           54.4895889999955,
           0
          ],
          [
           9.878734,
           54.489575999995495,
           0
          ],
          [
           9.878950999999999,
           54.489552999995496,
           0
          ],
          [
           9.879109,
           54.4895259999955,
           0
          ],
          [
           9.879444999999999,
           54.489465999995495,
           0
          ],
          [
           9.879674999999999,
           54.4894189999955,
           0
          ],
          [
           9.879798,
           54.489403999995496,
           0
          ],
          [
           9.879923,
           54.4893969999955,
           0
          ],
          [
           9.880044,
           54.489403999995496,
           0
          ],
          [
           9.880161,
           54.4894229999955,
           0
          ],
          [
           9.880303999999999,
           54.489451999995495,
           0
          ],
          [
           9.880422,
           54.4894879999955,
           0
          ],
          [
           9.880538999999999,
           54.489544999995495,
           0
          ],
          [
           9.880970999999999,
           54.489744999995494,
           0
          ],
          [
           9.881414999999999,
           54.4899519999955,
           0
          ],
          [
           9.881644999999999,
           54.490045999995495,
           0
          ],
          [
           9.881817999999999,
           54.4901069999955,
           0
          ],
          [
           9.881999,
           54.4901519999955,
           0
          ],
          [
           9.882157,
           54.490177999995495,
           0
          ],
          [
           9.882323,
           54.4901959999955,
           0
          ],
          [
           9.88251,
           54.4902049999955,
           0
          ],
          [
           9.88267,
           54.4902069999955,
           0
          ],
          [
           9.882826,
           54.4902189999955,
           0
          ],
          [
           9.883037,
           54.490248999995494,
           0
          ],
          [
           9.883291,
           54.4902869999955,
           0
          ],
          [
           9.883505,
           54.4903309999955,
           0
          ],
          [
           9.883604,
           54.4903589999955,
           0
          ],
          [
           9.88373,
           54.4904079999955,
           0
          ],
          [
           9.883863999999999,
           54.4904629999955,
           0
          ],
          [
           9.883951,
           54.4905009999955,
           0
          ],
          [
           9.884045,
           54.490534999995496,
           0
          ],
          [
           9.884183,
           54.490565999995496,
           0
          ],
          [
           9.884352999999999,
           54.490588999995495,
           0
          ],
          [
           9.884488,
           54.4906039999955,
           0
          ],
          [
           9.884604999999999,
           54.490608999995494,
           0
          ],
          [
           9.884787,
           54.4906069999955,
           0
          ],
          [
           9.884909,
           54.4906079999955,
           0
          ],
          [
           9.885014,
           54.4906099999955,
           0
          ],
          [
           9.885107,
           54.4906209999955,
           0
          ],
          [
           9.88519,
           54.490633999995495,
           0
          ],
          [
           9.885271,
           54.4906559999955,
           0
          ],
          [
           9.885396,
           54.4907279999955,
           0
          ],
          [
           9.88556,
           54.4908129999955,
           0
          ],
          [
           9.885702,
           54.490898999995494,
           0
          ],
          [
           9.885797,
           54.490943999995494,
           0
          ],
          [
           9.885862999999999,
           54.4909729999955,
           0
          ],
          [
           9.885956,
           54.4910019999955,
           0
          ],
          [
           9.886040999999999,
           54.4910229999955,
           0
          ],
          [
           9.886165,
           54.4910379999955,
           0
          ],
          [
           9.886275,
           54.4910429999955,
           0
          ],
          [
           9.886401,
           54.4910409999955,
           0
          ],
          [
           9.886526,
           54.491036999995494,
           0
          ],
          [
           9.886711,
           54.4910259999955,
           0
          ],
          [
           9.886927,
           54.491005999995494,
           0
          ],
          [
           9.887055,
           54.4910009999955,
           0
          ],
          [
           9.887163,
           54.4910119999955,
           0
          ],
          [
           9.887296,
           54.4910329999955,
           0
          ],
          [
           9.887475,
           54.4910769999955,
           0
          ],
          [
           9.887667,
           54.491126999995494,
           0
          ],
          [
           9.887770999999999,
           54.4911469999955,
           0
          ],
          [
           9.887884,
           54.491157999995494,
           0
          ],
          [
           9.888038,
           54.491157999995494,
           0
          ],
          [
           9.888174,
           54.491151999995495,
           0
          ],
          [
           9.888337,
           54.491134999995495,
           0
          ],
          [
           9.888497,
           54.4911049999955,
           0
          ],
          [
           9.888743,
           54.4910499999955,
           0
          ],
          [
           9.888931,
           54.491004999995496,
           0
          ],
          [
           9.889059999999999,
           54.490971999995494,
           0
          ],
          [
           9.889261,
           54.4909199999955,
           0
          ],
          [
           9.889391999999999,
           54.4908949999955,
           0
          ],
          [
           9.88956,
           54.4908749999955,
           0
          ],
          [
           9.889776999999999,
           54.4908719999955,
           0
          ],
          [
           9.889992999999999,
           54.490853999995494,
           0
          ],
          [
           9.890264,
           54.4908209999955,
           0
          ],
          [
           9.890682,
           54.4907649999955,
           0
          ],
          [
           9.891288,
           54.4907029999955,
           0
          ],
          [
           9.89161,
           54.490689999995496,
           0
          ],
          [
           9.891781,
           54.4906939999955,
           0
          ],
          [
           9.891952999999999,
           54.4907149999955,
           0
          ],
          [
           9.892140999999999,
           54.4907539999955,
           0
          ],
          [
           9.892375,
           54.4908209999955,
           0
          ],
          [
           9.892659,
           54.490889999995495,
           0
          ],
          [
           9.892885,
           54.4909259999955,
           0
          ],
          [
           9.89317,
           54.490948999995496,
           0
          ],
          [
           9.893386999999999,
           54.490962999995496,
           0
          ],
          [
           9.893519,
           54.4909849999955,
           0
          ],
          [
           9.893723999999999,
           54.4910439999955,
           0
          ],
          [
           9.894,
           54.4911479999955,
           0
          ],
          [
           9.89472,
           54.491413999995494,
           0
          ],
          [
           9.894988,
           54.4915299999955,
           0
          ],
          [
           9.895116999999999,
           54.491624999995494,
           0
          ],
          [
           9.895298,
           54.4917639999955,
           0
          ],
          [
           9.895455,
           54.4918959999955,
           0
          ],
          [
           9.895546,
           54.492004999995494,
           0
          ],
          [
           9.895723,
           54.4921949999955,
           0
          ],
          [
           9.895845,
           54.492291999995494,
           0
          ],
          [
           9.895975,
           54.492355999995496,
           0
          ],
          [
           9.896123,
           54.4923979999955,
           0
          ],
          [
           9.896256,
           54.4924089999955,
           0
          ],
          [
           9.896529,
           54.492409999995495,
           0
          ],
          [
           9.896870999999999,
           54.4923919999955,
           0
          ],
          [
           9.897133,
           54.4923639999955,
           0
          ],
          [
           9.897349,
           54.4923349999955,
           0
          ],
          [
           9.897521,
           54.492302999995495,
           0
          ],
          [
           9.897665,
           54.4922589999955,
           0
          ],
          [
           9.897808,
           54.4922109999955,
           0
          ],
          [
           9.897950999999999,
           54.4921439999955,
           0
          ],
          [
           9.898086,
           54.4920599999955,
           0
          ],
          [
           9.898218,
           54.4919749999955,
           0
          ],
          [
           9.898306,
           54.4918929999955,
           0
          ],
          [
           9.898375,
           54.491818999995495,
           0
          ],
          [
           9.898417,
           54.491748999995494,
           0
          ],
          [
           9.898436,
           54.4916789999955,
           0
          ],
          [
           9.898429,
           54.4915829999955,
           0
          ],
          [
           9.898413,
           54.4914319999955,
           0
          ],
          [
           9.898398,
           54.4913359999955,
           0
          ],
          [
           9.898353,
           54.491221999995496,
           0
          ],
          [
           9.898259,
           54.4911079999955,
           0
          ],
          [
           9.89818,
           54.491033999995494,
           0
          ],
          [
           9.898102999999999,
           54.490968999995495,
           0
          ],
          [
           9.897971,
           54.4908749999955,
           0
          ],
          [
           9.897836,
           54.490808999995494,
           0
          ],
          [
           9.897722,
           54.4907479999955,
           0
          ],
          [
           9.897646,
           54.490686999995496,
           0
          ]
         ]
        ],
        "type": "Polygon"
       },
       "id": "0",
       "properties": {
        "ALT_CAT": null,
        "APSFR_CD": null,
        "AREA_CALC": 0.818,
        "AREA_MAX": 0.818,
        "ARTIFICIAL": "N",
        "BEGINLIFE": null,
        "BEN_INV": null,
        "CAND_JOIN": 1,
        "CHAR_TYPE": null,
        "CHEM_ASSC": "3",
        "CHEM_STAT": "3",
        "CONFIDENCE": null,
        "CONF_CHEM": null,
        "C_STAT_DIF": null,
        "DEPTH_CAT": null,
        "DESIGBEGIN": "20141222000000",
        "ECO_ASSC": "2",
        "ECO_POT": null,
        "ECO_STAT": "4",
        "ENDLIFE": null,
        "EQS_HM": null,
        "EQS_INDPOL": null,
        "EQS_ONATPL": null,
        "EQS_OTHPL": null,
        "EQS_PESTIC": null,
        "EU_CD_LS": "DE_LS_DESH_0145",
        "EU_CD_LW": "DE_LW_DESH_0145",
        "EU_LW_TYPE": null,
        "EVOLUTIONT": "noChange",
        "EZG": null,
        "FISH": null,
        "F_MEASURE": 0,
        "GEN_COND": null,
        "GEN_LEVEL": null,
        "GEOL_CAT": null,
        "GROUP_CD": null,
        "HMWB_PA": null,
        "HMWB_WU": null,
        "HYDROMORP": null,
        "HYDRO_REG": null,
        "IMPACT": "CHEM,NUTR",
        "IMPACT_OTH": null,
        "IMPACT_SRC": null,
        "IMPORTDATE": "FME Date (2015-12-14",
        "INS_BY": "G. Baltes",
        "INS_WHEN": "FME Date (2013-11-13",
        "INT_CAL_TP": "LW-L-CB2",
        "INV_LAND": "DESH",
        "LAKE_CAT": "0",
        "LAND_CD": "DESH",
        "LEN_CALC": null,
        "LIABLE": "DESH",
        "MAC_PHYTO": null,
        "METADATA": "LWSEGGEOM_DESH.xml",
        "METADATA_U": "http://www.wasserblick.net/servlet/is/20090/?title=LWSEGGEOM_DESHnull=104192",
        "MODIFIED": "N",
        "MORPH_COND": null,
        "MS_CD_LW": null,
        "NAMETEXT": "Hemmelmarker_See",
        "NITRAT": null,
        "NON_COMP": null,
        "NUMREFEREN": null,
        "OID": 110670,
        "OTH_SPEC": null,
        "PAD_WITHIN": null,
        "PA_D_STAT": null,
        "PHYTO": null,
        "PLANU_CD": "STR_SLE",
        "QE11CHANG": "3",
        "QE11COMP": null,
        "QE11MONP": "2010--2012",
        "QE11MONR": null,
        "QE11QEGROU": null,
        "QE11VAL": "4",
        "QE122CHANG": null,
        "QE122COMP": null,
        "QE122MONP": null,
        "QE122MONR": null,
        "QE122QEGRO": null,
        "QE122VAL": null,
        "QE123CHANG": null,
        "QE123COMP": null,
        "QE123MONP": null,
        "QE123MONR": null,
        "QE123QEGRO": null,
        "QE123VAL": null,
        "QE124CHANG": null,
        "QE124COMP": null,
        "QE124MONP": null,
        "QE124MONR": null,
        "QE124QEGRO": null,
        "QE124VAL": null,
        "QE12CHANG": "3",
        "QE12COMP": null,
        "QE12MONP": "2010--2012",
        "QE12MONR": null,
        "QE12QEGROU": null,
        "QE12VAL": "4",
        "QE13CHANG": "7",
        "QE13COMP": null,
        "QE13MONP": "2010--2012",
        "QE13MONR": null,
        "QE13QEGROU": null,
        "QE13VAL": "7",
        "QE14CHANG": "7",
        "QE14COMP": null,
        "QE14MONP": "2010--2012",
        "QE14MONR": null,
        "QE14QEGROU": null,
        "QE14VAL": "7",
        "QE21CHANG": "7",
        "QE21COMP": null,
        "QE21MONP": "2010--2012",
        "QE21MONR": null,
        "QE21QEGROU": null,
        "QE21VAL": "6",
        "QE23CHANG": "7",
        "QE23COMP": null,
        "QE23MONP": "2010--2012",
        "QE23MONR": null,
        "QE23QEGROU": null,
        "QE23VAL": "6",
        "QE311CHANG": "6",
        "QE311COMP": null,
        "QE311MONP": "2010--2012",
        "QE311MONR": null,
        "QE311QEGRO": null,
        "QE311VAL": "3",
        "QE312CHANG": "7",
        "QE312COMP": null,
        "QE312MONP": "2010--2012",
        "QE312MONR": null,
        "QE312QEGRO": null,
        "QE312VAL": "6",
        "QE313CHANG": "7",
        "QE313COMP": null,
        "QE313MONP": "2010--2012",
        "QE313MONR": null,
        "QE313QEGRO": null,
        "QE313VAL": "6",
        "QE314CHANG": "7",
        "QE314COMP": null,
        "QE314MONP": "2010--2012",
        "QE314MONR": null,
        "QE314QEGRO": null,
        "QE314VAL": "6",
        "QE315CHANG": "7",
        "QE315COMP": null,
        "QE315MONP": "2010--2012",
        "QE315MONR": null,
        "QE315QEGRO": null,
        "QE315VAL": "6",
        "QE3161CHAN": "7",
        "QE3161COMP": null,
        "QE3161MONP": "2010--2012",
        "QE3161MONR": null,
        "QE3161QEGR": null,
        "QE3161VAL": "6",
        "QE3162CHAN": "6",
        "QE3162COMP": null,
        "QE3162MONP": "2010--2012",
        "QE3162MONR": null,
        "QE3162QEGR": null,
        "QE3162VAL": "3",
        "QE33CHANG": "3",
        "QE33COMP": null,
        "QE33MONP": "2008--2013",
        "QE33MONR": null,
        "QE33QEGROU": null,
        "QE33VAL": "2",
        "RBD_CD": "9610",
        "REGION_CDA": null,
        "RESERVOIR": null,
        "RESTRICTED": "1",
        "RISK_CHEM": null,
        "RISK_DATE": "FME Date (2017-12-08",
        "RISK_ECPO": null,
        "RISK_ECST": null,
        "RISK_TOTAL": null,
        "SCALE": "H",
        "SIGPR": "2.2,2.7,9",
        "SIGPRO": null,
        "SIZE_CAT": null,
        "SWS_SDATE": "FME Date (2017-12-08",
        "S_NAME": "Hemmelmarker_See",
        "TEMPLATE": "Lwseggeom",
        "TEXTINTERN": null,
        "TRANSB": "N",
        "TY_CD_LW": "88",
        "TY_NA_W": null,
        "T_MEASURE": 0,
        "URL": null,
        "WA_CD": "9610",
        "WB_PREDEC": "DE_LW_DESH_0145",
        "WHY_HMWB": null,
        "W_NAME": null,
        "id": "0"
       },
       "type": "Feature"
      },
      "text/plain": [
       "<IPython.display.GeoJSON object>"
      ]
     },
     "metadata": {
      "application/geo+json": {
       "expanded": false,
       "root": "root"
      }
     },
     "output_type": "display_data"
    }
   ],
   "source": [
    "GeoJSON(fs)"
   ]
  },
  {
   "cell_type": "markdown",
   "metadata": {},
   "source": [
    "## Create a new collection"
   ]
  },
  {
   "cell_type": "code",
   "execution_count": 10,
   "metadata": {},
   "outputs": [],
   "source": [
    "fs = geo.find_features(collection_name='germany_sh_lakes', query=\"'S_NAME' LIKE '%'\", max_records=200)"
   ]
  },
  {
   "cell_type": "code",
   "execution_count": 11,
   "metadata": {},
   "outputs": [],
   "source": [
    "f = fs[0]\n",
    "schema = {'properties': {}}\n",
    "for k, v in f.items():\n",
    "    try:\n",
    "        float(f[k])\n",
    "        schema['properties'][k] = 'float'\n",
    "    except:\n",
    "        schema['properties'][k] = 'str'"
   ]
  },
  {
   "cell_type": "code",
   "execution_count": 42,
   "metadata": {},
   "outputs": [
    {
     "ename": "ValueError",
     "evalue": "Collection germany_sh_lakes_long exists",
     "output_type": "error",
     "traceback": [
      "\u001b[0;31m---------------------------------------------------------------------------\u001b[0m",
      "\u001b[0;31mValueError\u001b[0m                                Traceback (most recent call last)",
      "\u001b[0;32m<ipython-input-42-72fa4680d71f>\u001b[0m in \u001b[0;36m<module>\u001b[0;34m\u001b[0m\n\u001b[0;32m----> 1\u001b[0;31m \u001b[0mgeo\u001b[0m\u001b[0;34m.\u001b[0m\u001b[0mnew_collection\u001b[0m\u001b[0;34m(\u001b[0m\u001b[0;34m'germany_sh_lakes_long'\u001b[0m\u001b[0;34m,\u001b[0m \u001b[0mschema\u001b[0m\u001b[0;34m=\u001b[0m\u001b[0mschema\u001b[0m\u001b[0;34m)\u001b[0m\u001b[0;34m\u001b[0m\u001b[0;34m\u001b[0m\u001b[0m\n\u001b[0m",
      "\u001b[0;32m~/IdeaProjects/xcube-sh/xcube_sh/geodb.py\u001b[0m in \u001b[0;36mnew_collection\u001b[0;34m(self, collection_name, schema)\u001b[0m\n\u001b[1;32m    256\u001b[0m     \u001b[0;32mdef\u001b[0m \u001b[0mnew_collection\u001b[0m\u001b[0;34m(\u001b[0m\u001b[0mself\u001b[0m\u001b[0;34m,\u001b[0m \u001b[0mcollection_name\u001b[0m\u001b[0;34m:\u001b[0m \u001b[0mstr\u001b[0m\u001b[0;34m,\u001b[0m \u001b[0mschema\u001b[0m\u001b[0;34m:\u001b[0m \u001b[0mSchema\u001b[0m\u001b[0;34m)\u001b[0m\u001b[0;34m:\u001b[0m\u001b[0;34m\u001b[0m\u001b[0;34m\u001b[0m\u001b[0m\n\u001b[1;32m    257\u001b[0m         \u001b[0;32mif\u001b[0m \u001b[0mself\u001b[0m\u001b[0;34m.\u001b[0m\u001b[0m_collection_exists\u001b[0m\u001b[0;34m(\u001b[0m\u001b[0mcollection_name\u001b[0m\u001b[0;34m)\u001b[0m\u001b[0;34m:\u001b[0m\u001b[0;34m\u001b[0m\u001b[0;34m\u001b[0m\u001b[0m\n\u001b[0;32m--> 258\u001b[0;31m             \u001b[0;32mraise\u001b[0m \u001b[0mValueError\u001b[0m\u001b[0;34m(\u001b[0m\u001b[0;34mf\"Collection {collection_name} exists\"\u001b[0m\u001b[0;34m)\u001b[0m\u001b[0;34m\u001b[0m\u001b[0;34m\u001b[0m\u001b[0m\n\u001b[0m\u001b[1;32m    259\u001b[0m \u001b[0;34m\u001b[0m\u001b[0m\n\u001b[1;32m    260\u001b[0m         \u001b[0mcolumns\u001b[0m \u001b[0;34m=\u001b[0m \u001b[0;34m[\u001b[0m\u001b[0;34m]\u001b[0m\u001b[0;34m\u001b[0m\u001b[0;34m\u001b[0m\u001b[0m\n",
      "\u001b[0;31mValueError\u001b[0m: Collection germany_sh_lakes_long exists"
     ]
    }
   ],
   "source": [
    "geo.new_collection('germany_sh_lakes_long', schema=schema)"
   ]
  },
  {
   "cell_type": "code",
   "execution_count": 4,
   "metadata": {},
   "outputs": [
    {
     "data": {
      "text/plain": [
       "'Features Added'"
      ]
     },
     "execution_count": 4,
     "metadata": {},
     "output_type": "execute_result"
    }
   ],
   "source": [
    "geo.add_features(collection_name='germany_sh_lakes_long', features=fs)"
   ]
  },
  {
   "cell_type": "code",
   "execution_count": 14,
   "metadata": {},
   "outputs": [
    {
     "data": {
      "text/html": [
       "<div>\n",
       "<style scoped>\n",
       "    .dataframe tbody tr th:only-of-type {\n",
       "        vertical-align: middle;\n",
       "    }\n",
       "\n",
       "    .dataframe tbody tr th {\n",
       "        vertical-align: top;\n",
       "    }\n",
       "\n",
       "    .dataframe thead th {\n",
       "        text-align: right;\n",
       "    }\n",
       "</style>\n",
       "<table border=\"1\" class=\"dataframe\">\n",
       "  <thead>\n",
       "    <tr style=\"text-align: right;\">\n",
       "      <th></th>\n",
       "      <th>id</th>\n",
       "      <th>properties</th>\n",
       "      <th>name</th>\n",
       "      <th>geometry</th>\n",
       "      <th>metadata_u</th>\n",
       "      <th>restricted</th>\n",
       "      <th>template</th>\n",
       "      <th>s_name</th>\n",
       "      <th>eu_cd_ls</th>\n",
       "      <th>eu_cd_lw</th>\n",
       "      <th>...</th>\n",
       "      <th>qe3162monr</th>\n",
       "      <th>qe3162qegr</th>\n",
       "      <th>qe3162val</th>\n",
       "      <th>qe33chang</th>\n",
       "      <th>qe33comp</th>\n",
       "      <th>qe33monp</th>\n",
       "      <th>qe33monr</th>\n",
       "      <th>qe33qegrou</th>\n",
       "      <th>qe33val</th>\n",
       "      <th>numreferen</th>\n",
       "    </tr>\n",
       "  </thead>\n",
       "  <tbody>\n",
       "    <tr>\n",
       "      <th>0</th>\n",
       "      <td>0</td>\n",
       "      <td>{'id': '0', 'METADATA_U': 'http://www.wasserbl...</td>\n",
       "      <td>Hemmelmarker_See</td>\n",
       "      <td>POLYGON Z ((9.89765 54.49069 0.00000, 9.89760 ...</td>\n",
       "      <td>http://www.wasserblick.net/servlet/is/20090/?t...</td>\n",
       "      <td>1.0</td>\n",
       "      <td>Lwseggeom</td>\n",
       "      <td>Hemmelmarker_See</td>\n",
       "      <td>DE_LS_DESH_0145</td>\n",
       "      <td>DE_LW_DESH_0145</td>\n",
       "      <td>...</td>\n",
       "      <td>None</td>\n",
       "      <td>None</td>\n",
       "      <td>3.0</td>\n",
       "      <td>3.0</td>\n",
       "      <td>None</td>\n",
       "      <td>2008--2013</td>\n",
       "      <td>None</td>\n",
       "      <td>None</td>\n",
       "      <td>2.0</td>\n",
       "      <td>None</td>\n",
       "    </tr>\n",
       "    <tr>\n",
       "      <th>1</th>\n",
       "      <td>1</td>\n",
       "      <td>{'id': '1', 'METADATA_U': 'http://www.wasserbl...</td>\n",
       "      <td>Langsee_Suederfahrenstedt</td>\n",
       "      <td>POLYGON Z ((9.53135 54.57168 0.00000, 9.53138 ...</td>\n",
       "      <td>http://www.wasserblick.net/servlet/is/20090/?t...</td>\n",
       "      <td>1.0</td>\n",
       "      <td>Lwseggeom</td>\n",
       "      <td>Langsee_Suederfahrenstedt</td>\n",
       "      <td>DE_LS_DESH_0228</td>\n",
       "      <td>DE_LW_DESH_0228</td>\n",
       "      <td>...</td>\n",
       "      <td>None</td>\n",
       "      <td>None</td>\n",
       "      <td>3.0</td>\n",
       "      <td>3.0</td>\n",
       "      <td>None</td>\n",
       "      <td>2008--2013</td>\n",
       "      <td>None</td>\n",
       "      <td>None</td>\n",
       "      <td>2.0</td>\n",
       "      <td>None</td>\n",
       "    </tr>\n",
       "    <tr>\n",
       "      <th>2</th>\n",
       "      <td>31</td>\n",
       "      <td>{'id': '31', 'METADATA_U': 'http://www.wasserb...</td>\n",
       "      <td>Westensee</td>\n",
       "      <td>MULTIPOLYGON Z (((9.91504 54.29099 0.00000, 9....</td>\n",
       "      <td>http://www.wasserblick.net/servlet/is/20090/?t...</td>\n",
       "      <td>1.0</td>\n",
       "      <td>Lwseggeom</td>\n",
       "      <td>Westensee</td>\n",
       "      <td>DE_LS_DESH_0443</td>\n",
       "      <td>DE_LW_DESH_0443</td>\n",
       "      <td>...</td>\n",
       "      <td>None</td>\n",
       "      <td>None</td>\n",
       "      <td>3.0</td>\n",
       "      <td>3.0</td>\n",
       "      <td>None</td>\n",
       "      <td>2008--2013</td>\n",
       "      <td>None</td>\n",
       "      <td>None</td>\n",
       "      <td>2.0</td>\n",
       "      <td>None</td>\n",
       "    </tr>\n",
       "    <tr>\n",
       "      <th>3</th>\n",
       "      <td>2</td>\n",
       "      <td>{'id': '2', 'METADATA_U': 'http://www.wasserbl...</td>\n",
       "      <td>Schaalsee_davon_Lassahner_See</td>\n",
       "      <td>POLYGON Z ((10.94771 53.59346 0.00000, 10.9474...</td>\n",
       "      <td>http://www.wasserblick.net/servlet/is/20090/?t...</td>\n",
       "      <td>1.0</td>\n",
       "      <td>Lwseggeom</td>\n",
       "      <td>Schaalsee_davon_Lassahner_See</td>\n",
       "      <td>DE_LS_DEMV_LS_2300103</td>\n",
       "      <td>DE_LW_DEMV_2300103</td>\n",
       "      <td>...</td>\n",
       "      <td>None</td>\n",
       "      <td>None</td>\n",
       "      <td>6.0</td>\n",
       "      <td>7.0</td>\n",
       "      <td>5</td>\n",
       "      <td>2010--2014</td>\n",
       "      <td>None</td>\n",
       "      <td>None</td>\n",
       "      <td>2.0</td>\n",
       "      <td>None</td>\n",
       "    </tr>\n",
       "    <tr>\n",
       "      <th>4</th>\n",
       "      <td>3</td>\n",
       "      <td>{'id': '3', 'METADATA_U': 'http://www.wasserbl...</td>\n",
       "      <td>Schoehsee</td>\n",
       "      <td>POLYGON Z ((10.43024 54.16311 0.00000, 10.4302...</td>\n",
       "      <td>http://www.wasserblick.net/servlet/is/20090/?t...</td>\n",
       "      <td>1.0</td>\n",
       "      <td>Lwseggeom</td>\n",
       "      <td>Schoehsee</td>\n",
       "      <td>DE_LS_DESH_0359</td>\n",
       "      <td>DE_LW_DESH_0359</td>\n",
       "      <td>...</td>\n",
       "      <td>None</td>\n",
       "      <td>None</td>\n",
       "      <td>2.0</td>\n",
       "      <td>3.0</td>\n",
       "      <td>None</td>\n",
       "      <td>2008--2013</td>\n",
       "      <td>None</td>\n",
       "      <td>None</td>\n",
       "      <td>2.0</td>\n",
       "      <td>None</td>\n",
       "    </tr>\n",
       "    <tr>\n",
       "      <th>...</th>\n",
       "      <td>...</td>\n",
       "      <td>...</td>\n",
       "      <td>...</td>\n",
       "      <td>...</td>\n",
       "      <td>...</td>\n",
       "      <td>...</td>\n",
       "      <td>...</td>\n",
       "      <td>...</td>\n",
       "      <td>...</td>\n",
       "      <td>...</td>\n",
       "      <td>...</td>\n",
       "      <td>...</td>\n",
       "      <td>...</td>\n",
       "      <td>...</td>\n",
       "      <td>...</td>\n",
       "      <td>...</td>\n",
       "      <td>...</td>\n",
       "      <td>...</td>\n",
       "      <td>...</td>\n",
       "      <td>...</td>\n",
       "      <td>...</td>\n",
       "    </tr>\n",
       "    <tr>\n",
       "      <th>88</th>\n",
       "      <td>80</td>\n",
       "      <td>{'id': '80', 'METADATA_U': 'http://www.wasserb...</td>\n",
       "      <td>Speicherbecken_Miele</td>\n",
       "      <td>POLYGON Z ((8.98836 54.09468 0.00000, 8.98907 ...</td>\n",
       "      <td>http://www.wasserblick.net/servlet/is/20090/?t...</td>\n",
       "      <td>1.0</td>\n",
       "      <td>Lwseggeom</td>\n",
       "      <td>Speicherbecken_Miele</td>\n",
       "      <td>DE_LS_DESH_0535</td>\n",
       "      <td>DE_LW_DESH_0535</td>\n",
       "      <td>...</td>\n",
       "      <td>None</td>\n",
       "      <td>None</td>\n",
       "      <td>6.0</td>\n",
       "      <td>3.0</td>\n",
       "      <td>None</td>\n",
       "      <td>2008--2013</td>\n",
       "      <td>None</td>\n",
       "      <td>None</td>\n",
       "      <td>2.0</td>\n",
       "      <td>None</td>\n",
       "    </tr>\n",
       "    <tr>\n",
       "      <th>89</th>\n",
       "      <td>81</td>\n",
       "      <td>{'id': '81', 'METADATA_U': 'http://www.wasserb...</td>\n",
       "      <td>Grosser_Binnensee</td>\n",
       "      <td>POLYGON Z ((10.63522 54.33562 0.00000, 10.6353...</td>\n",
       "      <td>http://www.wasserblick.net/servlet/is/20090/?t...</td>\n",
       "      <td>1.0</td>\n",
       "      <td>Lwseggeom</td>\n",
       "      <td>Grosser_Binnensee</td>\n",
       "      <td>DE_LS_DESH_0109</td>\n",
       "      <td>DE_LW_DESH_0109</td>\n",
       "      <td>...</td>\n",
       "      <td>None</td>\n",
       "      <td>None</td>\n",
       "      <td>3.0</td>\n",
       "      <td>3.0</td>\n",
       "      <td>None</td>\n",
       "      <td>2008--2013</td>\n",
       "      <td>None</td>\n",
       "      <td>None</td>\n",
       "      <td>2.0</td>\n",
       "      <td>None</td>\n",
       "    </tr>\n",
       "    <tr>\n",
       "      <th>90</th>\n",
       "      <td>82</td>\n",
       "      <td>{'id': '82', 'METADATA_U': 'http://www.wasserb...</td>\n",
       "      <td>Grosser_Poenitzer_See</td>\n",
       "      <td>POLYGON Z ((10.69631 54.03813 0.00000, 10.6964...</td>\n",
       "      <td>http://www.wasserblick.net/servlet/is/20090/?t...</td>\n",
       "      <td>1.0</td>\n",
       "      <td>Lwseggeom</td>\n",
       "      <td>Grosser_Poenitzer_See</td>\n",
       "      <td>DE_LS_DESH_0115</td>\n",
       "      <td>DE_LW_DESH_0115</td>\n",
       "      <td>...</td>\n",
       "      <td>None</td>\n",
       "      <td>None</td>\n",
       "      <td>2.0</td>\n",
       "      <td>3.0</td>\n",
       "      <td>None</td>\n",
       "      <td>2008--2013</td>\n",
       "      <td>None</td>\n",
       "      <td>None</td>\n",
       "      <td>2.0</td>\n",
       "      <td>None</td>\n",
       "    </tr>\n",
       "    <tr>\n",
       "      <th>91</th>\n",
       "      <td>83</td>\n",
       "      <td>{'id': '83', 'METADATA_U': 'http://www.wasserb...</td>\n",
       "      <td>Neustaedter_Binnenwasser_Ost</td>\n",
       "      <td>MULTIPOLYGON Z (((10.79591 54.11351 0.00000, 1...</td>\n",
       "      <td>http://www.wasserblick.net/servlet/is/20090/?t...</td>\n",
       "      <td>1.0</td>\n",
       "      <td>Lwseggeom</td>\n",
       "      <td>Neustaedter_Binnenwasser_Ost</td>\n",
       "      <td>DE_LS_DESH_0284</td>\n",
       "      <td>DE_LW_DESH_0284</td>\n",
       "      <td>...</td>\n",
       "      <td>None</td>\n",
       "      <td>None</td>\n",
       "      <td>3.0</td>\n",
       "      <td>3.0</td>\n",
       "      <td>None</td>\n",
       "      <td>2008--2013</td>\n",
       "      <td>None</td>\n",
       "      <td>None</td>\n",
       "      <td>2.0</td>\n",
       "      <td>None</td>\n",
       "    </tr>\n",
       "    <tr>\n",
       "      <th>92</th>\n",
       "      <td>85</td>\n",
       "      <td>{'id': '85', 'METADATA_U': 'http://www.wasserb...</td>\n",
       "      <td>Sueseler_See</td>\n",
       "      <td>POLYGON Z ((10.72833 54.07970 0.00000, 10.7284...</td>\n",
       "      <td>http://www.wasserblick.net/servlet/is/20090/?t...</td>\n",
       "      <td>1.0</td>\n",
       "      <td>Lwseggeom</td>\n",
       "      <td>Sueseler_See</td>\n",
       "      <td>DE_LS_DESH_0403</td>\n",
       "      <td>DE_LW_DESH_0403</td>\n",
       "      <td>...</td>\n",
       "      <td>None</td>\n",
       "      <td>None</td>\n",
       "      <td>3.0</td>\n",
       "      <td>3.0</td>\n",
       "      <td>None</td>\n",
       "      <td>2008--2013</td>\n",
       "      <td>None</td>\n",
       "      <td>None</td>\n",
       "      <td>2.0</td>\n",
       "      <td>None</td>\n",
       "    </tr>\n",
       "  </tbody>\n",
       "</table>\n",
       "<p>93 rows × 200 columns</p>\n",
       "</div>"
      ],
      "text/plain": [
       "    id                                         properties  \\\n",
       "0    0  {'id': '0', 'METADATA_U': 'http://www.wasserbl...   \n",
       "1    1  {'id': '1', 'METADATA_U': 'http://www.wasserbl...   \n",
       "2   31  {'id': '31', 'METADATA_U': 'http://www.wasserb...   \n",
       "3    2  {'id': '2', 'METADATA_U': 'http://www.wasserbl...   \n",
       "4    3  {'id': '3', 'METADATA_U': 'http://www.wasserbl...   \n",
       "..  ..                                                ...   \n",
       "88  80  {'id': '80', 'METADATA_U': 'http://www.wasserb...   \n",
       "89  81  {'id': '81', 'METADATA_U': 'http://www.wasserb...   \n",
       "90  82  {'id': '82', 'METADATA_U': 'http://www.wasserb...   \n",
       "91  83  {'id': '83', 'METADATA_U': 'http://www.wasserb...   \n",
       "92  85  {'id': '85', 'METADATA_U': 'http://www.wasserb...   \n",
       "\n",
       "                             name  \\\n",
       "0                Hemmelmarker_See   \n",
       "1       Langsee_Suederfahrenstedt   \n",
       "2                       Westensee   \n",
       "3   Schaalsee_davon_Lassahner_See   \n",
       "4                       Schoehsee   \n",
       "..                            ...   \n",
       "88           Speicherbecken_Miele   \n",
       "89              Grosser_Binnensee   \n",
       "90          Grosser_Poenitzer_See   \n",
       "91   Neustaedter_Binnenwasser_Ost   \n",
       "92                   Sueseler_See   \n",
       "\n",
       "                                             geometry  \\\n",
       "0   POLYGON Z ((9.89765 54.49069 0.00000, 9.89760 ...   \n",
       "1   POLYGON Z ((9.53135 54.57168 0.00000, 9.53138 ...   \n",
       "2   MULTIPOLYGON Z (((9.91504 54.29099 0.00000, 9....   \n",
       "3   POLYGON Z ((10.94771 53.59346 0.00000, 10.9474...   \n",
       "4   POLYGON Z ((10.43024 54.16311 0.00000, 10.4302...   \n",
       "..                                                ...   \n",
       "88  POLYGON Z ((8.98836 54.09468 0.00000, 8.98907 ...   \n",
       "89  POLYGON Z ((10.63522 54.33562 0.00000, 10.6353...   \n",
       "90  POLYGON Z ((10.69631 54.03813 0.00000, 10.6964...   \n",
       "91  MULTIPOLYGON Z (((10.79591 54.11351 0.00000, 1...   \n",
       "92  POLYGON Z ((10.72833 54.07970 0.00000, 10.7284...   \n",
       "\n",
       "                                           metadata_u  restricted   template  \\\n",
       "0   http://www.wasserblick.net/servlet/is/20090/?t...         1.0  Lwseggeom   \n",
       "1   http://www.wasserblick.net/servlet/is/20090/?t...         1.0  Lwseggeom   \n",
       "2   http://www.wasserblick.net/servlet/is/20090/?t...         1.0  Lwseggeom   \n",
       "3   http://www.wasserblick.net/servlet/is/20090/?t...         1.0  Lwseggeom   \n",
       "4   http://www.wasserblick.net/servlet/is/20090/?t...         1.0  Lwseggeom   \n",
       "..                                                ...         ...        ...   \n",
       "88  http://www.wasserblick.net/servlet/is/20090/?t...         1.0  Lwseggeom   \n",
       "89  http://www.wasserblick.net/servlet/is/20090/?t...         1.0  Lwseggeom   \n",
       "90  http://www.wasserblick.net/servlet/is/20090/?t...         1.0  Lwseggeom   \n",
       "91  http://www.wasserblick.net/servlet/is/20090/?t...         1.0  Lwseggeom   \n",
       "92  http://www.wasserblick.net/servlet/is/20090/?t...         1.0  Lwseggeom   \n",
       "\n",
       "                           s_name               eu_cd_ls            eu_cd_lw  \\\n",
       "0                Hemmelmarker_See        DE_LS_DESH_0145     DE_LW_DESH_0145   \n",
       "1       Langsee_Suederfahrenstedt        DE_LS_DESH_0228     DE_LW_DESH_0228   \n",
       "2                       Westensee        DE_LS_DESH_0443     DE_LW_DESH_0443   \n",
       "3   Schaalsee_davon_Lassahner_See  DE_LS_DEMV_LS_2300103  DE_LW_DEMV_2300103   \n",
       "4                       Schoehsee        DE_LS_DESH_0359     DE_LW_DESH_0359   \n",
       "..                            ...                    ...                 ...   \n",
       "88           Speicherbecken_Miele        DE_LS_DESH_0535     DE_LW_DESH_0535   \n",
       "89              Grosser_Binnensee        DE_LS_DESH_0109     DE_LW_DESH_0109   \n",
       "90          Grosser_Poenitzer_See        DE_LS_DESH_0115     DE_LW_DESH_0115   \n",
       "91   Neustaedter_Binnenwasser_Ost        DE_LS_DESH_0284     DE_LW_DESH_0284   \n",
       "92                   Sueseler_See        DE_LS_DESH_0403     DE_LW_DESH_0403   \n",
       "\n",
       "    ...  qe3162monr  qe3162qegr  qe3162val qe33chang qe33comp    qe33monp  \\\n",
       "0   ...        None        None        3.0       3.0     None  2008--2013   \n",
       "1   ...        None        None        3.0       3.0     None  2008--2013   \n",
       "2   ...        None        None        3.0       3.0     None  2008--2013   \n",
       "3   ...        None        None        6.0       7.0        5  2010--2014   \n",
       "4   ...        None        None        2.0       3.0     None  2008--2013   \n",
       "..  ...         ...         ...        ...       ...      ...         ...   \n",
       "88  ...        None        None        6.0       3.0     None  2008--2013   \n",
       "89  ...        None        None        3.0       3.0     None  2008--2013   \n",
       "90  ...        None        None        2.0       3.0     None  2008--2013   \n",
       "91  ...        None        None        3.0       3.0     None  2008--2013   \n",
       "92  ...        None        None        3.0       3.0     None  2008--2013   \n",
       "\n",
       "   qe33monr qe33qegrou  qe33val  numreferen  \n",
       "0      None       None      2.0        None  \n",
       "1      None       None      2.0        None  \n",
       "2      None       None      2.0        None  \n",
       "3      None       None      2.0        None  \n",
       "4      None       None      2.0        None  \n",
       "..      ...        ...      ...         ...  \n",
       "88     None       None      2.0        None  \n",
       "89     None       None      2.0        None  \n",
       "90     None       None      2.0        None  \n",
       "91     None       None      2.0        None  \n",
       "92     None       None      2.0        None  \n",
       "\n",
       "[93 rows x 200 columns]"
      ]
     },
     "execution_count": 14,
     "metadata": {},
     "output_type": "execute_result"
    }
   ],
   "source": [
    "geo.find_features(collection_name='germany_sh_lakes_long', query=\"name LIKE '%'\", fmt='gdf')"
   ]
  },
  {
   "cell_type": "code",
   "execution_count": null,
   "metadata": {},
   "outputs": [],
   "source": []
  },
  {
   "cell_type": "code",
   "execution_count": null,
   "metadata": {},
   "outputs": [],
   "source": []
  },
  {
   "cell_type": "code",
   "execution_count": null,
   "metadata": {},
   "outputs": [],
   "source": []
  }
 ],
 "metadata": {
  "kernelspec": {
   "display_name": "Python 3",
   "language": "python",
   "name": "python3"
  },
  "language_info": {
   "codemirror_mode": {
    "name": "ipython",
    "version": 3
   },
   "file_extension": ".py",
   "mimetype": "text/x-python",
   "name": "python",
   "nbconvert_exporter": "python",
   "pygments_lexer": "ipython3",
   "version": "3.7.3"
  }
 },
 "nbformat": 4,
 "nbformat_minor": 4
}
