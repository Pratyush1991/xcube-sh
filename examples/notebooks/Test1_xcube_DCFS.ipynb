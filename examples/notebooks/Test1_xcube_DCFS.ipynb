{
 "cells": [
  {
   "cell_type": "markdown",
   "metadata": {},
   "source": [
    "# Euro Data Cube - Xcube Validation\n",
    "## Test 1 xcube Sentinel Hub store\n",
    "This validation test demonstrates the following features: \n",
    "* Access Sentinel Hub via xcube Sentinel hub Store"
   ]
  },
  {
   "cell_type": "markdown",
   "metadata": {},
   "source": [
    "## Requirements\n",
    "\n",
    "To run this notebook you need your [Sentinel Hub API authentication](https://docs.sentinel-hub.com/api/latest/#/API/authentication) information and a Python environment\n",
    "with `xcube` and the xcube plugin `xcube_sh` installed.\n",
    "\n",
    "Checkout [xcube sources](https://github.com/dcs4cop/xcube) and follow instructions in its [README.md](https://github.com/dcs4cop/xcube/blob/master/README.md).\n",
    "\n",
    "After activating the `xcube` Python environment, install additional packages required for Sentinel Hub API authentication:\n",
    "\n",
    "```bash\n",
    "$ conda activate xcube\n",
    "(xcube) $ conda install -c conda-forge oauthlib\n",
    "(xcube) $ pip install requests_oauthlib\n",
    "```\n",
    "\n",
    "Then checkout [xcube_sh sources](https://gitext.sinergise.com/dcfs/xcube-dcfs.git) and follow instructions in its [README.md](https://gitext.sinergise.com/dcfs/xcube-dcfs/blob/master/README.md).\n",
    "\n",
    "Your Sentinel Hub API credentials can be passed as keyword arguments to the `SentinelHub` constructor (see below) or passed as environment variables (preferred): \n",
    "\n",
    "```bash\n",
    "(xcube) $ export SH_CLIENT_ID=<your-id>\n",
    "(xcube) $ export SH_CLIENT_SECRET=<your-secret>\n",
    "```\n"
   ]
  },
  {
   "cell_type": "code",
   "execution_count": 8,
   "metadata": {},
   "outputs": [],
   "source": [
    "from xcube_sh.config import CubeConfig\n",
    "from xcube_sh.cube import open_cube"
   ]
  },
  {
   "cell_type": "code",
   "execution_count": 9,
   "metadata": {},
   "outputs": [],
   "source": [
    "x1 = 10.00  # degree\n",
    "y1 = 54.27  # degree\n",
    "x2 = 11.00  # degree\n",
    "y2 = 54.60  # degree\n",
    "\n",
    "bbox = x1, y1, x2, y2"
   ]
  },
  {
   "cell_type": "code",
   "execution_count": 10,
   "metadata": {},
   "outputs": [],
   "source": [
    "spatial_res = 0.00018   # = 20.038 meters in degree"
   ]
  },
  {
   "cell_type": "code",
   "execution_count": 11,
   "metadata": {},
   "outputs": [],
   "source": [
    "cube_config = CubeConfig(dataset_name='S2L2A',\n",
    "                         band_names=['B04', 'B05', 'B06', 'B11', 'SCL', 'CLD'],\n",
    "                         chunk_size=[512, 512],\n",
    "                         geometry=bbox,\n",
    "                         spatial_res=spatial_res,\n",
    "                         time_range=['2018-05-14', '2018-07-31'],\n",
    "                         time_period='2D')  "
   ]
  },
  {
   "cell_type": "code",
   "execution_count": 12,
   "metadata": {},
   "outputs": [
    {
     "data": {
      "text/plain": [
       "<xarray.Dataset>\n",
       "Dimensions:    (bnds: 2, lat: 2048, lon: 5632, time: 40)\n",
       "Coordinates:\n",
       "  * lat        (lat) float64 54.64 54.64 54.64 54.64 ... 54.27 54.27 54.27 54.27\n",
       "  * lon        (lon) float64 10.0 10.0 10.0 10.0 ... 11.01 11.01 11.01 11.01\n",
       "  * time       (time) datetime64[ns] 2018-05-15 2018-05-17 ... 2018-08-01\n",
       "    time_bnds  (time, bnds) datetime64[ns] dask.array<chunksize=(40, 2), meta=np.ndarray>\n",
       "Dimensions without coordinates: bnds\n",
       "Data variables:\n",
       "    B04        (time, lat, lon) float32 dask.array<chunksize=(1, 512, 512), meta=np.ndarray>\n",
       "    B05        (time, lat, lon) float32 dask.array<chunksize=(1, 512, 512), meta=np.ndarray>\n",
       "    B06        (time, lat, lon) float32 dask.array<chunksize=(1, 512, 512), meta=np.ndarray>\n",
       "    B11        (time, lat, lon) float32 dask.array<chunksize=(1, 512, 512), meta=np.ndarray>\n",
       "    CLD        (time, lat, lon) uint8 dask.array<chunksize=(1, 512, 512), meta=np.ndarray>\n",
       "    SCL        (time, lat, lon) uint8 dask.array<chunksize=(1, 512, 512), meta=np.ndarray>\n",
       "Attributes:\n",
       "    Conventions:               CF-1.7\n",
       "    title:                     S2L2A Data Cube Subset\n",
       "    history:                   [{'program': 'xcube_sh.store.SentinelHubStore'...\n",
       "    date_created:              2019-11-07T10:59:03.430666\n",
       "    processing_level:          L2A\n",
       "    time_coverage_start:       2018-05-14T00:00:00+00:00\n",
       "    time_coverage_end:         2018-08-02T00:00:00+00:00\n",
       "    time_coverage_duration:    P80DT0H0M0S\n",
       "    time_coverage_resolution:  P2DT0H0M0S\n",
       "    geospatial_lon_min:        10.0\n",
       "    geospatial_lat_min:        54.27\n",
       "    geospatial_lon_max:        11.01376\n",
       "    geospatial_lat_max:        54.63864"
      ]
     },
     "execution_count": 12,
     "metadata": {},
     "output_type": "execute_result"
    }
   ],
   "source": [
    "cube = open_cube(cube_config)\n",
    "cube"
   ]
  },
  {
   "cell_type": "code",
   "execution_count": 15,
   "metadata": {},
   "outputs": [
    {
     "data": {
      "text/plain": [
       "<xarray.Dataset>\n",
       "Dimensions:    (bnds: 2, lat: 10, lon: 10)\n",
       "Coordinates:\n",
       "  * lat        (lat) float64 54.62 54.62 54.62 54.62 ... 54.62 54.62 54.62 54.62\n",
       "  * lon        (lon) float64 10.36 10.36 10.36 10.36 ... 10.36 10.36 10.36 10.36\n",
       "    time       datetime64[ns] 2018-05-23\n",
       "    time_bnds  (bnds) datetime64[ns] 2018-05-22 2018-05-24\n",
       "Dimensions without coordinates: bnds\n",
       "Data variables:\n",
       "    B04        (lat, lon) float32 0.0093 0.0094 0.0088 ... 0.0093 0.009 0.0094\n",
       "    B05        (lat, lon) float32 0.0082 0.0082 0.0084 ... 0.0092 0.0093 0.0092\n",
       "    B06        (lat, lon) float32 0.0074 0.0076 0.0077 ... 0.0078 0.0077 0.0075\n",
       "    B11        (lat, lon) float32 0.0033 0.0034 0.0032 ... 0.0033 0.0032 0.0033\n",
       "    CLD        (lat, lon) uint8 0 0 0 0 0 0 0 0 0 0 0 ... 0 0 0 0 0 0 0 0 0 0 0\n",
       "    SCL        (lat, lon) uint8 6 6 6 6 6 6 6 6 6 6 6 ... 6 6 6 6 6 6 6 6 6 6 6\n",
       "Attributes:\n",
       "    Conventions:               CF-1.7\n",
       "    title:                     S2L2A Data Cube Subset\n",
       "    history:                   [{'program': 'xcube_sh.store.SentinelHubStore'...\n",
       "    date_created:              2019-11-07T10:59:03.430666\n",
       "    processing_level:          L2A\n",
       "    time_coverage_start:       2018-05-14T00:00:00+00:00\n",
       "    time_coverage_end:         2018-08-02T00:00:00+00:00\n",
       "    time_coverage_duration:    P80DT0H0M0S\n",
       "    time_coverage_resolution:  P2DT0H0M0S\n",
       "    geospatial_lon_min:        10.0\n",
       "    geospatial_lat_min:        54.27\n",
       "    geospatial_lon_max:        11.01376\n",
       "    geospatial_lat_max:        54.63864"
      ]
     },
     "execution_count": 15,
     "metadata": {},
     "output_type": "execute_result"
    }
   ],
   "source": [
    "cube.isel(time=4, lat=slice(100,110),lon=slice(2000,2010)).load()"
   ]
  },
  {
   "cell_type": "code",
   "execution_count": null,
   "metadata": {},
   "outputs": [],
   "source": []
  }
 ],
 "metadata": {
  "kernelspec": {
   "display_name": "Python 3",
   "language": "python",
   "name": "python3"
  },
  "language_info": {
   "codemirror_mode": {
    "name": "ipython",
    "version": 3
   },
   "file_extension": ".py",
   "mimetype": "text/x-python",
   "name": "python",
   "nbconvert_exporter": "python",
   "pygments_lexer": "ipython3",
   "version": "3.7.3"
  }
 },
 "nbformat": 4,
 "nbformat_minor": 4
}
